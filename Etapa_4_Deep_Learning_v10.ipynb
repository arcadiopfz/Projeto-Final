{
  "cells": [
    {
      "cell_type": "markdown",
      "metadata": {
        "id": "view-in-github",
        "colab_type": "text"
      },
      "source": [
        "<a href=\"https://colab.research.google.com/github/arcadiopfz/Projeto-Final/blob/main/Etapa_4_Deep_Learning_v10.ipynb\" target=\"_parent\"><img src=\"https://colab.research.google.com/assets/colab-badge.svg\" alt=\"Open In Colab\"/></a>"
      ]
    },
    {
      "cell_type": "markdown",
      "source": [
        "# Etapa 4 - Análise dos preços da ação Petro Rio SA (PRIO3) por meio de Redes Neurais LSTM"
      ],
      "metadata": {
        "id": "xh6ikjB5ttR9"
      }
    },
    {
      "cell_type": "markdown",
      "source": [
        "# 1. Carregar e tratar a base de dados"
      ],
      "metadata": {
        "id": "Y3BP4a0w5VtP"
      }
    },
    {
      "cell_type": "code",
      "source": [
        "import pandas as pd\n",
        "#Fonte dos dados: https://br.investing.com/equities/hrt-petroleo-on-nm-historical-data\n",
        "dataset = pd.read_csv('/content/PRIO3 Dados Históricos.csv', usecols=['Data', 'Último'])\n",
        "dataset"
      ],
      "metadata": {
        "colab": {
          "base_uri": "https://localhost:8080/",
          "height": 423
        },
        "id": "ec-Pndnd9RFn",
        "outputId": "0b4f097f-9fbe-479a-d113-25eda8b684c5"
      },
      "execution_count": null,
      "outputs": [
        {
          "output_type": "execute_result",
          "data": {
            "text/plain": [
              "            Data Último\n",
              "0     29.12.2022  37,21\n",
              "1     28.12.2022  37,25\n",
              "2     27.12.2022  35,58\n",
              "3     26.12.2022  35,44\n",
              "4     23.12.2022  35,49\n",
              "...          ...    ...\n",
              "1963  23.01.2015   0,63\n",
              "1964  22.01.2015   0,63\n",
              "1965  21.01.2015   0,44\n",
              "1966  20.01.2015   0,33\n",
              "1967  19.01.2015   0,29\n",
              "\n",
              "[1968 rows x 2 columns]"
            ],
            "text/html": [
              "\n",
              "  <div id=\"df-e0ebe70b-2414-442c-8d16-c6f488193a37\">\n",
              "    <div class=\"colab-df-container\">\n",
              "      <div>\n",
              "<style scoped>\n",
              "    .dataframe tbody tr th:only-of-type {\n",
              "        vertical-align: middle;\n",
              "    }\n",
              "\n",
              "    .dataframe tbody tr th {\n",
              "        vertical-align: top;\n",
              "    }\n",
              "\n",
              "    .dataframe thead th {\n",
              "        text-align: right;\n",
              "    }\n",
              "</style>\n",
              "<table border=\"1\" class=\"dataframe\">\n",
              "  <thead>\n",
              "    <tr style=\"text-align: right;\">\n",
              "      <th></th>\n",
              "      <th>Data</th>\n",
              "      <th>Último</th>\n",
              "    </tr>\n",
              "  </thead>\n",
              "  <tbody>\n",
              "    <tr>\n",
              "      <th>0</th>\n",
              "      <td>29.12.2022</td>\n",
              "      <td>37,21</td>\n",
              "    </tr>\n",
              "    <tr>\n",
              "      <th>1</th>\n",
              "      <td>28.12.2022</td>\n",
              "      <td>37,25</td>\n",
              "    </tr>\n",
              "    <tr>\n",
              "      <th>2</th>\n",
              "      <td>27.12.2022</td>\n",
              "      <td>35,58</td>\n",
              "    </tr>\n",
              "    <tr>\n",
              "      <th>3</th>\n",
              "      <td>26.12.2022</td>\n",
              "      <td>35,44</td>\n",
              "    </tr>\n",
              "    <tr>\n",
              "      <th>4</th>\n",
              "      <td>23.12.2022</td>\n",
              "      <td>35,49</td>\n",
              "    </tr>\n",
              "    <tr>\n",
              "      <th>...</th>\n",
              "      <td>...</td>\n",
              "      <td>...</td>\n",
              "    </tr>\n",
              "    <tr>\n",
              "      <th>1963</th>\n",
              "      <td>23.01.2015</td>\n",
              "      <td>0,63</td>\n",
              "    </tr>\n",
              "    <tr>\n",
              "      <th>1964</th>\n",
              "      <td>22.01.2015</td>\n",
              "      <td>0,63</td>\n",
              "    </tr>\n",
              "    <tr>\n",
              "      <th>1965</th>\n",
              "      <td>21.01.2015</td>\n",
              "      <td>0,44</td>\n",
              "    </tr>\n",
              "    <tr>\n",
              "      <th>1966</th>\n",
              "      <td>20.01.2015</td>\n",
              "      <td>0,33</td>\n",
              "    </tr>\n",
              "    <tr>\n",
              "      <th>1967</th>\n",
              "      <td>19.01.2015</td>\n",
              "      <td>0,29</td>\n",
              "    </tr>\n",
              "  </tbody>\n",
              "</table>\n",
              "<p>1968 rows × 2 columns</p>\n",
              "</div>\n",
              "      <button class=\"colab-df-convert\" onclick=\"convertToInteractive('df-e0ebe70b-2414-442c-8d16-c6f488193a37')\"\n",
              "              title=\"Convert this dataframe to an interactive table.\"\n",
              "              style=\"display:none;\">\n",
              "        \n",
              "  <svg xmlns=\"http://www.w3.org/2000/svg\" height=\"24px\"viewBox=\"0 0 24 24\"\n",
              "       width=\"24px\">\n",
              "    <path d=\"M0 0h24v24H0V0z\" fill=\"none\"/>\n",
              "    <path d=\"M18.56 5.44l.94 2.06.94-2.06 2.06-.94-2.06-.94-.94-2.06-.94 2.06-2.06.94zm-11 1L8.5 8.5l.94-2.06 2.06-.94-2.06-.94L8.5 2.5l-.94 2.06-2.06.94zm10 10l.94 2.06.94-2.06 2.06-.94-2.06-.94-.94-2.06-.94 2.06-2.06.94z\"/><path d=\"M17.41 7.96l-1.37-1.37c-.4-.4-.92-.59-1.43-.59-.52 0-1.04.2-1.43.59L10.3 9.45l-7.72 7.72c-.78.78-.78 2.05 0 2.83L4 21.41c.39.39.9.59 1.41.59.51 0 1.02-.2 1.41-.59l7.78-7.78 2.81-2.81c.8-.78.8-2.07 0-2.86zM5.41 20L4 18.59l7.72-7.72 1.47 1.35L5.41 20z\"/>\n",
              "  </svg>\n",
              "      </button>\n",
              "      \n",
              "  <style>\n",
              "    .colab-df-container {\n",
              "      display:flex;\n",
              "      flex-wrap:wrap;\n",
              "      gap: 12px;\n",
              "    }\n",
              "\n",
              "    .colab-df-convert {\n",
              "      background-color: #E8F0FE;\n",
              "      border: none;\n",
              "      border-radius: 50%;\n",
              "      cursor: pointer;\n",
              "      display: none;\n",
              "      fill: #1967D2;\n",
              "      height: 32px;\n",
              "      padding: 0 0 0 0;\n",
              "      width: 32px;\n",
              "    }\n",
              "\n",
              "    .colab-df-convert:hover {\n",
              "      background-color: #E2EBFA;\n",
              "      box-shadow: 0px 1px 2px rgba(60, 64, 67, 0.3), 0px 1px 3px 1px rgba(60, 64, 67, 0.15);\n",
              "      fill: #174EA6;\n",
              "    }\n",
              "\n",
              "    [theme=dark] .colab-df-convert {\n",
              "      background-color: #3B4455;\n",
              "      fill: #D2E3FC;\n",
              "    }\n",
              "\n",
              "    [theme=dark] .colab-df-convert:hover {\n",
              "      background-color: #434B5C;\n",
              "      box-shadow: 0px 1px 3px 1px rgba(0, 0, 0, 0.15);\n",
              "      filter: drop-shadow(0px 1px 2px rgba(0, 0, 0, 0.3));\n",
              "      fill: #FFFFFF;\n",
              "    }\n",
              "  </style>\n",
              "\n",
              "      <script>\n",
              "        const buttonEl =\n",
              "          document.querySelector('#df-e0ebe70b-2414-442c-8d16-c6f488193a37 button.colab-df-convert');\n",
              "        buttonEl.style.display =\n",
              "          google.colab.kernel.accessAllowed ? 'block' : 'none';\n",
              "\n",
              "        async function convertToInteractive(key) {\n",
              "          const element = document.querySelector('#df-e0ebe70b-2414-442c-8d16-c6f488193a37');\n",
              "          const dataTable =\n",
              "            await google.colab.kernel.invokeFunction('convertToInteractive',\n",
              "                                                     [key], {});\n",
              "          if (!dataTable) return;\n",
              "\n",
              "          const docLinkHtml = 'Like what you see? Visit the ' +\n",
              "            '<a target=\"_blank\" href=https://colab.research.google.com/notebooks/data_table.ipynb>data table notebook</a>'\n",
              "            + ' to learn more about interactive tables.';\n",
              "          element.innerHTML = '';\n",
              "          dataTable['output_type'] = 'display_data';\n",
              "          await google.colab.output.renderOutput(dataTable, element);\n",
              "          const docLink = document.createElement('div');\n",
              "          docLink.innerHTML = docLinkHtml;\n",
              "          element.appendChild(docLink);\n",
              "        }\n",
              "      </script>\n",
              "    </div>\n",
              "  </div>\n",
              "  "
            ]
          },
          "metadata": {},
          "execution_count": 1
        }
      ]
    },
    {
      "cell_type": "code",
      "source": [
        "dataset.info()"
      ],
      "metadata": {
        "colab": {
          "base_uri": "https://localhost:8080/"
        },
        "id": "ltp9AyM0_zR0",
        "outputId": "23cd057b-5dc2-4e98-b610-c7747fa39b95"
      },
      "execution_count": null,
      "outputs": [
        {
          "output_type": "stream",
          "name": "stdout",
          "text": [
            "<class 'pandas.core.frame.DataFrame'>\n",
            "RangeIndex: 1968 entries, 0 to 1967\n",
            "Data columns (total 2 columns):\n",
            " #   Column  Non-Null Count  Dtype \n",
            "---  ------  --------------  ----- \n",
            " 0   Data    1968 non-null   object\n",
            " 1   Último  1968 non-null   object\n",
            "dtypes: object(2)\n",
            "memory usage: 30.9+ KB\n"
          ]
        }
      ]
    },
    {
      "cell_type": "code",
      "source": [
        "dataset['Último'] = dataset['Último'].apply(lambda x: str(x).replace(\",\",\".\"))"
      ],
      "metadata": {
        "id": "bVFubVe2_4UT"
      },
      "execution_count": null,
      "outputs": []
    },
    {
      "cell_type": "code",
      "source": [
        "dataset"
      ],
      "metadata": {
        "colab": {
          "base_uri": "https://localhost:8080/",
          "height": 423
        },
        "id": "StIsGLhf_8FA",
        "outputId": "52ec2db9-2902-4941-c735-741f16168c96"
      },
      "execution_count": null,
      "outputs": [
        {
          "output_type": "execute_result",
          "data": {
            "text/plain": [
              "            Data Último\n",
              "0     29.12.2022  37.21\n",
              "1     28.12.2022  37.25\n",
              "2     27.12.2022  35.58\n",
              "3     26.12.2022  35.44\n",
              "4     23.12.2022  35.49\n",
              "...          ...    ...\n",
              "1963  23.01.2015   0.63\n",
              "1964  22.01.2015   0.63\n",
              "1965  21.01.2015   0.44\n",
              "1966  20.01.2015   0.33\n",
              "1967  19.01.2015   0.29\n",
              "\n",
              "[1968 rows x 2 columns]"
            ],
            "text/html": [
              "\n",
              "  <div id=\"df-f68fba96-98d0-4a98-8d75-9a01650850ca\">\n",
              "    <div class=\"colab-df-container\">\n",
              "      <div>\n",
              "<style scoped>\n",
              "    .dataframe tbody tr th:only-of-type {\n",
              "        vertical-align: middle;\n",
              "    }\n",
              "\n",
              "    .dataframe tbody tr th {\n",
              "        vertical-align: top;\n",
              "    }\n",
              "\n",
              "    .dataframe thead th {\n",
              "        text-align: right;\n",
              "    }\n",
              "</style>\n",
              "<table border=\"1\" class=\"dataframe\">\n",
              "  <thead>\n",
              "    <tr style=\"text-align: right;\">\n",
              "      <th></th>\n",
              "      <th>Data</th>\n",
              "      <th>Último</th>\n",
              "    </tr>\n",
              "  </thead>\n",
              "  <tbody>\n",
              "    <tr>\n",
              "      <th>0</th>\n",
              "      <td>29.12.2022</td>\n",
              "      <td>37.21</td>\n",
              "    </tr>\n",
              "    <tr>\n",
              "      <th>1</th>\n",
              "      <td>28.12.2022</td>\n",
              "      <td>37.25</td>\n",
              "    </tr>\n",
              "    <tr>\n",
              "      <th>2</th>\n",
              "      <td>27.12.2022</td>\n",
              "      <td>35.58</td>\n",
              "    </tr>\n",
              "    <tr>\n",
              "      <th>3</th>\n",
              "      <td>26.12.2022</td>\n",
              "      <td>35.44</td>\n",
              "    </tr>\n",
              "    <tr>\n",
              "      <th>4</th>\n",
              "      <td>23.12.2022</td>\n",
              "      <td>35.49</td>\n",
              "    </tr>\n",
              "    <tr>\n",
              "      <th>...</th>\n",
              "      <td>...</td>\n",
              "      <td>...</td>\n",
              "    </tr>\n",
              "    <tr>\n",
              "      <th>1963</th>\n",
              "      <td>23.01.2015</td>\n",
              "      <td>0.63</td>\n",
              "    </tr>\n",
              "    <tr>\n",
              "      <th>1964</th>\n",
              "      <td>22.01.2015</td>\n",
              "      <td>0.63</td>\n",
              "    </tr>\n",
              "    <tr>\n",
              "      <th>1965</th>\n",
              "      <td>21.01.2015</td>\n",
              "      <td>0.44</td>\n",
              "    </tr>\n",
              "    <tr>\n",
              "      <th>1966</th>\n",
              "      <td>20.01.2015</td>\n",
              "      <td>0.33</td>\n",
              "    </tr>\n",
              "    <tr>\n",
              "      <th>1967</th>\n",
              "      <td>19.01.2015</td>\n",
              "      <td>0.29</td>\n",
              "    </tr>\n",
              "  </tbody>\n",
              "</table>\n",
              "<p>1968 rows × 2 columns</p>\n",
              "</div>\n",
              "      <button class=\"colab-df-convert\" onclick=\"convertToInteractive('df-f68fba96-98d0-4a98-8d75-9a01650850ca')\"\n",
              "              title=\"Convert this dataframe to an interactive table.\"\n",
              "              style=\"display:none;\">\n",
              "        \n",
              "  <svg xmlns=\"http://www.w3.org/2000/svg\" height=\"24px\"viewBox=\"0 0 24 24\"\n",
              "       width=\"24px\">\n",
              "    <path d=\"M0 0h24v24H0V0z\" fill=\"none\"/>\n",
              "    <path d=\"M18.56 5.44l.94 2.06.94-2.06 2.06-.94-2.06-.94-.94-2.06-.94 2.06-2.06.94zm-11 1L8.5 8.5l.94-2.06 2.06-.94-2.06-.94L8.5 2.5l-.94 2.06-2.06.94zm10 10l.94 2.06.94-2.06 2.06-.94-2.06-.94-.94-2.06-.94 2.06-2.06.94z\"/><path d=\"M17.41 7.96l-1.37-1.37c-.4-.4-.92-.59-1.43-.59-.52 0-1.04.2-1.43.59L10.3 9.45l-7.72 7.72c-.78.78-.78 2.05 0 2.83L4 21.41c.39.39.9.59 1.41.59.51 0 1.02-.2 1.41-.59l7.78-7.78 2.81-2.81c.8-.78.8-2.07 0-2.86zM5.41 20L4 18.59l7.72-7.72 1.47 1.35L5.41 20z\"/>\n",
              "  </svg>\n",
              "      </button>\n",
              "      \n",
              "  <style>\n",
              "    .colab-df-container {\n",
              "      display:flex;\n",
              "      flex-wrap:wrap;\n",
              "      gap: 12px;\n",
              "    }\n",
              "\n",
              "    .colab-df-convert {\n",
              "      background-color: #E8F0FE;\n",
              "      border: none;\n",
              "      border-radius: 50%;\n",
              "      cursor: pointer;\n",
              "      display: none;\n",
              "      fill: #1967D2;\n",
              "      height: 32px;\n",
              "      padding: 0 0 0 0;\n",
              "      width: 32px;\n",
              "    }\n",
              "\n",
              "    .colab-df-convert:hover {\n",
              "      background-color: #E2EBFA;\n",
              "      box-shadow: 0px 1px 2px rgba(60, 64, 67, 0.3), 0px 1px 3px 1px rgba(60, 64, 67, 0.15);\n",
              "      fill: #174EA6;\n",
              "    }\n",
              "\n",
              "    [theme=dark] .colab-df-convert {\n",
              "      background-color: #3B4455;\n",
              "      fill: #D2E3FC;\n",
              "    }\n",
              "\n",
              "    [theme=dark] .colab-df-convert:hover {\n",
              "      background-color: #434B5C;\n",
              "      box-shadow: 0px 1px 3px 1px rgba(0, 0, 0, 0.15);\n",
              "      filter: drop-shadow(0px 1px 2px rgba(0, 0, 0, 0.3));\n",
              "      fill: #FFFFFF;\n",
              "    }\n",
              "  </style>\n",
              "\n",
              "      <script>\n",
              "        const buttonEl =\n",
              "          document.querySelector('#df-f68fba96-98d0-4a98-8d75-9a01650850ca button.colab-df-convert');\n",
              "        buttonEl.style.display =\n",
              "          google.colab.kernel.accessAllowed ? 'block' : 'none';\n",
              "\n",
              "        async function convertToInteractive(key) {\n",
              "          const element = document.querySelector('#df-f68fba96-98d0-4a98-8d75-9a01650850ca');\n",
              "          const dataTable =\n",
              "            await google.colab.kernel.invokeFunction('convertToInteractive',\n",
              "                                                     [key], {});\n",
              "          if (!dataTable) return;\n",
              "\n",
              "          const docLinkHtml = 'Like what you see? Visit the ' +\n",
              "            '<a target=\"_blank\" href=https://colab.research.google.com/notebooks/data_table.ipynb>data table notebook</a>'\n",
              "            + ' to learn more about interactive tables.';\n",
              "          element.innerHTML = '';\n",
              "          dataTable['output_type'] = 'display_data';\n",
              "          await google.colab.output.renderOutput(dataTable, element);\n",
              "          const docLink = document.createElement('div');\n",
              "          docLink.innerHTML = docLinkHtml;\n",
              "          element.appendChild(docLink);\n",
              "        }\n",
              "      </script>\n",
              "    </div>\n",
              "  </div>\n",
              "  "
            ]
          },
          "metadata": {},
          "execution_count": 4
        }
      ]
    },
    {
      "cell_type": "code",
      "source": [
        "df1=dataset.reset_index()['Último']"
      ],
      "metadata": {
        "id": "jcrNj3ikamxi"
      },
      "execution_count": null,
      "outputs": []
    },
    {
      "cell_type": "code",
      "source": [
        "df1"
      ],
      "metadata": {
        "colab": {
          "base_uri": "https://localhost:8080/"
        },
        "id": "AtBPNkRvbEa9",
        "outputId": "688c862e-cea2-4cad-d009-a6e2253629dc"
      },
      "execution_count": null,
      "outputs": [
        {
          "output_type": "execute_result",
          "data": {
            "text/plain": [
              "0       37.21\n",
              "1       37.25\n",
              "2       35.58\n",
              "3       35.44\n",
              "4       35.49\n",
              "        ...  \n",
              "1963     0.63\n",
              "1964     0.63\n",
              "1965     0.44\n",
              "1966     0.33\n",
              "1967     0.29\n",
              "Name: Último, Length: 1968, dtype: object"
            ]
          },
          "metadata": {},
          "execution_count": 6
        }
      ]
    },
    {
      "cell_type": "markdown",
      "source": [
        "Reverse rows and columns"
      ],
      "metadata": {
        "id": "_m2ue3KRxR3R"
      }
    },
    {
      "cell_type": "code",
      "source": [
        "df1.loc[::-1]"
      ],
      "metadata": {
        "colab": {
          "base_uri": "https://localhost:8080/"
        },
        "id": "ny_YIRnJw4I5",
        "outputId": "9820d6d2-4c7d-43ba-a4f5-1d62e1c8b6ce"
      },
      "execution_count": null,
      "outputs": [
        {
          "output_type": "execute_result",
          "data": {
            "text/plain": [
              "1967     0.29\n",
              "1966     0.33\n",
              "1965     0.44\n",
              "1964     0.63\n",
              "1963     0.63\n",
              "        ...  \n",
              "4       35.49\n",
              "3       35.44\n",
              "2       35.58\n",
              "1       37.25\n",
              "0       37.21\n",
              "Name: Último, Length: 1968, dtype: object"
            ]
          },
          "metadata": {},
          "execution_count": 7
        }
      ]
    },
    {
      "cell_type": "code",
      "source": [
        "df2 = df1.loc[::-1].reset_index(drop=True)"
      ],
      "metadata": {
        "id": "j6aY7OhZxHC0"
      },
      "execution_count": null,
      "outputs": []
    },
    {
      "cell_type": "code",
      "source": [
        "df2"
      ],
      "metadata": {
        "colab": {
          "base_uri": "https://localhost:8080/"
        },
        "id": "FZW8ls630rLl",
        "outputId": "f5e72e77-4e2d-4092-b60f-7a930c6da0c6"
      },
      "execution_count": null,
      "outputs": [
        {
          "output_type": "execute_result",
          "data": {
            "text/plain": [
              "0        0.29\n",
              "1        0.33\n",
              "2        0.44\n",
              "3        0.63\n",
              "4        0.63\n",
              "        ...  \n",
              "1963    35.49\n",
              "1964    35.44\n",
              "1965    35.58\n",
              "1966    37.25\n",
              "1967    37.21\n",
              "Name: Último, Length: 1968, dtype: object"
            ]
          },
          "metadata": {},
          "execution_count": 9
        }
      ]
    },
    {
      "cell_type": "code",
      "source": [
        "df2"
      ],
      "metadata": {
        "colab": {
          "base_uri": "https://localhost:8080/"
        },
        "id": "P9ECLgc9E9Ls",
        "outputId": "9a89699e-a24a-41f6-d9ec-f8a5b7d8b133"
      },
      "execution_count": null,
      "outputs": [
        {
          "output_type": "execute_result",
          "data": {
            "text/plain": [
              "0        0.29\n",
              "1        0.33\n",
              "2        0.44\n",
              "3        0.63\n",
              "4        0.63\n",
              "        ...  \n",
              "1963    35.49\n",
              "1964    35.44\n",
              "1965    35.58\n",
              "1966    37.25\n",
              "1967    37.21\n",
              "Name: Último, Length: 1968, dtype: object"
            ]
          },
          "metadata": {},
          "execution_count": 10
        }
      ]
    },
    {
      "cell_type": "code",
      "source": [
        "import matplotlib.pyplot as plt\n",
        "import numpy as np\n",
        "plt.figure(figsize=(16,8))\n",
        "plt.xlabel('Registros', fontsize=18)\n",
        "plt.ylabel('Valores em Reais', fontsize= 18)\n",
        "plt.yticks(np.arange(-50, 1000, 50))\n",
        "plt.plot(df2);"
      ],
      "metadata": {
        "colab": {
          "base_uri": "https://localhost:8080/",
          "height": 361
        },
        "id": "S-Ovvs8GZiE4",
        "outputId": "a9331cff-055e-49c4-c01b-1b46f3a4a3b8"
      },
      "execution_count": null,
      "outputs": [
        {
          "output_type": "display_data",
          "data": {
            "text/plain": [
              "<Figure size 1152x576 with 1 Axes>"
            ],
            "image/png": "[encoded data removed]"
          },
          "metadata": {
            "needs_background": "light"
          }
        }
      ]
    },
    {
      "cell_type": "markdown",
      "source": [
        "# 3. Normalização (MinMaxScaler) e formatando o array"
      ],
      "metadata": {
        "id": "EzMqvR5S2Zse"
      }
    },
    {
      "cell_type": "code",
      "source": [
        "import numpy as np"
      ],
      "metadata": {
        "id": "KHvCsWWrbmYz"
      },
      "execution_count": null,
      "outputs": []
    },
    {
      "cell_type": "code",
      "source": [
        "from sklearn.preprocessing import MinMaxScaler\n",
        "scaler=MinMaxScaler(feature_range=(0,1))\n",
        "df2=scaler.fit_transform(np.array(df2).reshape(-1,1))"
      ],
      "metadata": {
        "id": "qMW0mUQTbbK5"
      },
      "execution_count": null,
      "outputs": []
    },
    {
      "cell_type": "code",
      "source": [
        "df2"
      ],
      "metadata": {
        "colab": {
          "base_uri": "https://localhost:8080/"
        },
        "id": "Eto__4n4wXDy",
        "outputId": "987199c7-7821-4b2d-c435-1318487f70bc"
      },
      "execution_count": null,
      "outputs": [
        {
          "output_type": "execute_result",
          "data": {
            "text/plain": [
              "array([[0.00391032],\n",
              "       [0.00495308],\n",
              "       [0.00782065],\n",
              "       ...,\n",
              "       [0.92387904],\n",
              "       [0.96741397],\n",
              "       [0.96637122]])"
            ]
          },
          "metadata": {},
          "execution_count": 14
        }
      ]
    },
    {
      "cell_type": "code",
      "source": [
        "plt.figure(figsize=(16,8))\n",
        "plt.xlabel('Registros', fontsize=18)\n",
        "plt.yticks(np.arange(0, 42, 4))\n",
        "plt.ylabel('Valores em Reais', fontsize= 18)\n",
        "plt.plot(scaler.inverse_transform(df2));"
      ],
      "metadata": {
        "colab": {
          "base_uri": "https://localhost:8080/",
          "height": 367
        },
        "id": "vbDPn5M3qnjy",
        "outputId": "e944de09-0e3c-432c-e4db-b213ce4a5362"
      },
      "execution_count": null,
      "outputs": [
        {
          "output_type": "display_data",
          "data": {
            "text/plain": [
              "<Figure size 1152x576 with 1 Axes>"
            ],
            "image/png": "[encoded data removed]"
          },
          "metadata": {
            "needs_background": "light"
          }
        }
      ]
    },
    {
      "cell_type": "markdown",
      "source": [
        "# 4. Separar base em treino, teste e criar um array"
      ],
      "metadata": {
        "id": "e6sEVQLSV9W-"
      }
    },
    {
      "cell_type": "code",
      "source": [
        "training_size=int(len(df2)*0.80)\n",
        "#test_size=len(df2)-training_size\n",
        "test_size=int(len(df2)*0.20)\n",
        "train_data,test_data=df2[0:training_size,:],df2[training_size:len(df2),:1]"
      ],
      "metadata": {
        "id": "e_xxmu63btCx"
      },
      "execution_count": null,
      "outputs": []
    },
    {
      "cell_type": "code",
      "source": [
        "training_size,test_size"
      ],
      "metadata": {
        "colab": {
          "base_uri": "https://localhost:8080/"
        },
        "id": "Eu8QLufjbvGw",
        "outputId": "c4b2421f-f2db-4056-e084-e7c622e9932b"
      },
      "execution_count": null,
      "outputs": [
        {
          "output_type": "execute_result",
          "data": {
            "text/plain": [
              "(1574, 393)"
            ]
          },
          "metadata": {},
          "execution_count": 17
        }
      ]
    },
    {
      "cell_type": "code",
      "source": [
        "train_data"
      ],
      "metadata": {
        "colab": {
          "base_uri": "https://localhost:8080/"
        },
        "id": "vDV5nUnTbxJK",
        "outputId": "e1912d5f-693e-4880-c20b-ec4fd2b9b124"
      },
      "execution_count": null,
      "outputs": [
        {
          "output_type": "execute_result",
          "data": {
            "text/plain": [
              "array([[0.00391032],\n",
              "       [0.00495308],\n",
              "       [0.00782065],\n",
              "       ...,\n",
              "       [0.51068822],\n",
              "       [0.5088634 ],\n",
              "       [0.52502607]])"
            ]
          },
          "metadata": {},
          "execution_count": 18
        }
      ]
    },
    {
      "cell_type": "code",
      "source": [
        "test_data"
      ],
      "metadata": {
        "colab": {
          "base_uri": "https://localhost:8080/"
        },
        "id": "3L83e_T55pVb",
        "outputId": "717bef21-6da4-4e73-be1a-32dc8c838aee"
      },
      "execution_count": null,
      "outputs": [
        {
          "output_type": "execute_result",
          "data": {
            "text/plain": [
              "array([[0.53076121],\n",
              "       [0.50990615],\n",
              "       [0.5       ],\n",
              "       [0.49165798],\n",
              "       [0.50521376],\n",
              "       [0.50964546],\n",
              "       [0.50156413],\n",
              "       [0.5198123 ],\n",
              "       [0.51903024],\n",
              "       [0.49530761],\n",
              "       [0.49165798],\n",
              "       [0.50260688],\n",
              "       [0.50026069],\n",
              "       [0.5044317 ],\n",
              "       [0.50338895],\n",
              "       [0.49374348],\n",
              "       [0.48566215],\n",
              "       [0.4911366 ],\n",
              "       [0.5044317 ],\n",
              "       [0.53180396],\n",
              "       [0.55057351],\n",
              "       [0.55656934],\n",
              "       [0.52398332],\n",
              "       [0.51355579],\n",
              "       [0.50677789],\n",
              "       [0.50312826],\n",
              "       [0.50651721],\n",
              "       [0.50078206],\n",
              "       [0.49035454],\n",
              "       [0.48774765],\n",
              "       [0.47080292],\n",
              "       [0.48644421],\n",
              "       [0.49165798],\n",
              "       [0.49322211],\n",
              "       [0.49035454],\n",
              "       [0.48514077],\n",
              "       [0.46428571],\n",
              "       [0.46558916],\n",
              "       [0.47549531],\n",
              "       [0.46167883],\n",
              "       [0.45490094],\n",
              "       [0.46298227],\n",
              "       [0.44734098],\n",
              "       [0.44655892],\n",
              "       [0.45177268],\n",
              "       [0.45464025],\n",
              "       [0.48435871],\n",
              "       [0.4734098 ],\n",
              "       [0.45907195],\n",
              "       [0.45046924],\n",
              "       [0.4335245 ],\n",
              "       [0.43300313],\n",
              "       [0.4468196 ],\n",
              "       [0.46819604],\n",
              "       [0.46637122],\n",
              "       [0.48331595],\n",
              "       [0.49374348],\n",
              "       [0.48957247],\n",
              "       [0.46715328],\n",
              "       [0.50208551],\n",
              "       [0.49947862],\n",
              "       [0.49608968],\n",
              "       [0.48201251],\n",
              "       [0.48566215],\n",
              "       [0.46949948],\n",
              "       [0.47940563],\n",
              "       [0.47236705],\n",
              "       [0.51199166],\n",
              "       [0.49426486],\n",
              "       [0.50521376],\n",
              "       [0.50808133],\n",
              "       [0.54614181],\n",
              "       [0.54092805],\n",
              "       [0.51955162],\n",
              "       [0.48983316],\n",
              "       [0.49843587],\n",
              "       [0.53597497],\n",
              "       [0.54822732],\n",
              "       [0.56960375],\n",
              "       [0.59880083],\n",
              "       [0.56803962],\n",
              "       [0.59202294],\n",
              "       [0.64859228],\n",
              "       [0.68326382],\n",
              "       [0.67570386],\n",
              "       [0.68117831],\n",
              "       [0.68065693],\n",
              "       [0.6923879 ],\n",
              "       [0.70072993],\n",
              "       [0.72080292],\n",
              "       [0.69890511],\n",
              "       [0.7301877 ],\n",
              "       [0.71949948],\n",
              "       [0.70437956],\n",
              "       [0.69421272],\n",
              "       [0.69760167],\n",
              "       [0.68169969],\n",
              "       [0.68665276],\n",
              "       [0.71115746],\n",
              "       [0.70411887],\n",
              "       [0.65719499],\n",
              "       [0.60922836],\n",
              "       [0.60818561],\n",
              "       [0.60636079],\n",
              "       [0.61678832],\n",
              "       [0.6061001 ],\n",
              "       [0.71506778],\n",
              "       [0.72002086],\n",
              "       [0.68717414],\n",
              "       [0.66657977],\n",
              "       [0.66553702],\n",
              "       [0.63138686],\n",
              "       [0.60922836],\n",
              "       [0.59749739],\n",
              "       [0.57090719],\n",
              "       [0.55578728],\n",
              "       [0.5576121 ],\n",
              "       [0.58733055],\n",
              "       [0.56725756],\n",
              "       [0.57194995],\n",
              "       [0.52163712],\n",
              "       [0.53962461],\n",
              "       [0.52528676],\n",
              "       [0.52580813],\n",
              "       [0.54275287],\n",
              "       [0.54927007],\n",
              "       [0.5596976 ],\n",
              "       [0.56803962],\n",
              "       [0.54301356],\n",
              "       [0.53701773],\n",
              "       [0.53597497],\n",
              "       [0.52789364],\n",
              "       [0.50990615],\n",
              "       [0.51511992],\n",
              "       [0.51824818],\n",
              "       [0.52554745],\n",
              "       [0.49452555],\n",
              "       [0.50808133],\n",
              "       [0.51433785],\n",
              "       [0.50990615],\n",
              "       [0.53493222],\n",
              "       [0.51903024],\n",
              "       [0.51903024],\n",
              "       [0.53519291],\n",
              "       [0.52528676],\n",
              "       [0.53649635],\n",
              "       [0.47836288],\n",
              "       [0.49061522],\n",
              "       [0.51303441],\n",
              "       [0.52137643],\n",
              "       [0.54900938],\n",
              "       [0.5531804 ],\n",
              "       [0.57038582],\n",
              "       [0.59332638],\n",
              "       [0.59124088],\n",
              "       [0.61991658],\n",
              "       [0.6217414 ],\n",
              "       [0.62721585],\n",
              "       [0.61157456],\n",
              "       [0.60036496],\n",
              "       [0.61887383],\n",
              "       [0.61131387],\n",
              "       [0.61704901],\n",
              "       [0.61783107],\n",
              "       [0.61991658],\n",
              "       [0.61522419],\n",
              "       [0.59671533],\n",
              "       [0.58915537],\n",
              "       [0.6326903 ],\n",
              "       [0.62643379],\n",
              "       [0.61861314],\n",
              "       [0.6350365 ],\n",
              "       [0.6415537 ],\n",
              "       [0.66892596],\n",
              "       [0.68717414],\n",
              "       [0.66762252],\n",
              "       [0.65432742],\n",
              "       [0.64520334],\n",
              "       [0.63190824],\n",
              "       [0.65510949],\n",
              "       [0.63607925],\n",
              "       [0.64520334],\n",
              "       [0.64442127],\n",
              "       [0.66944734],\n",
              "       [0.7301877 ],\n",
              "       [0.73826903],\n",
              "       [0.73149114],\n",
              "       [0.7145464 ],\n",
              "       [0.72471324],\n",
              "       [0.67778936],\n",
              "       [0.66944734],\n",
              "       [0.64572471],\n",
              "       [0.6105318 ],\n",
              "       [0.61444213],\n",
              "       [0.60010428],\n",
              "       [0.64937435],\n",
              "       [0.67179353],\n",
              "       [0.67857143],\n",
              "       [0.68873827],\n",
              "       [0.70907195],\n",
              "       [0.6770073 ],\n",
              "       [0.65406674],\n",
              "       [0.64885297],\n",
              "       [0.65432742],\n",
              "       [0.65015641],\n",
              "       [0.61704901],\n",
              "       [0.63477581],\n",
              "       [0.63138686],\n",
              "       [0.62330553],\n",
              "       [0.61027112],\n",
              "       [0.6105318 ],\n",
              "       [0.61105318],\n",
              "       [0.60505735],\n",
              "       [0.61548488],\n",
              "       [0.63086548],\n",
              "       [0.64546403],\n",
              "       [0.6438999 ],\n",
              "       [0.63920751],\n",
              "       [0.66631908],\n",
              "       [0.63451512],\n",
              "       [0.64025026],\n",
              "       [0.65615224],\n",
              "       [0.66345151],\n",
              "       [0.681439  ],\n",
              "       [0.6923879 ],\n",
              "       [0.65198123],\n",
              "       [0.66970803],\n",
              "       [0.70881126],\n",
              "       [0.68847758],\n",
              "       [0.68717414],\n",
              "       [0.62773723],\n",
              "       [0.62904067],\n",
              "       [0.66084463],\n",
              "       [0.67778936],\n",
              "       [0.70255474],\n",
              "       [0.70177268],\n",
              "       [0.68769552],\n",
              "       [0.6527633 ],\n",
              "       [0.64468196],\n",
              "       [0.66058394],\n",
              "       [0.67857143],\n",
              "       [0.70516163],\n",
              "       [0.7124609 ],\n",
              "       [0.725756  ],\n",
              "       [0.74504692],\n",
              "       [0.73305527],\n",
              "       [0.72601668],\n",
              "       [0.7301877 ],\n",
              "       [0.74452555],\n",
              "       [0.7213243 ],\n",
              "       [0.70177268],\n",
              "       [0.70828989],\n",
              "       [0.72106361],\n",
              "       [0.70594369],\n",
              "       [0.70281543],\n",
              "       [0.67492179],\n",
              "       [0.66475495],\n",
              "       [0.6548488 ],\n",
              "       [0.59697602],\n",
              "       [0.59176225],\n",
              "       [0.58889468],\n",
              "       [0.5508342 ],\n",
              "       [0.52997914],\n",
              "       [0.5576121 ],\n",
              "       [0.58733055],\n",
              "       [0.58706986],\n",
              "       [0.58211679],\n",
              "       [0.56960375],\n",
              "       [0.57247132],\n",
              "       [0.59045881],\n",
              "       [0.54822732],\n",
              "       [0.54092805],\n",
              "       [0.54953076],\n",
              "       [0.56360792],\n",
              "       [0.56777894],\n",
              "       [0.57612096],\n",
              "       [0.55917623],\n",
              "       [0.5375391 ],\n",
              "       [0.53597497],\n",
              "       [0.57221064],\n",
              "       [0.57924922],\n",
              "       [0.57664234],\n",
              "       [0.59176225],\n",
              "       [0.58733055],\n",
              "       [0.61183525],\n",
              "       [0.61522419],\n",
              "       [0.61392075],\n",
              "       [0.61652763],\n",
              "       [0.62773723],\n",
              "       [0.60557873],\n",
              "       [0.6061001 ],\n",
              "       [0.61574557],\n",
              "       [0.60505735],\n",
              "       [0.6238269 ],\n",
              "       [0.63894682],\n",
              "       [0.64937435],\n",
              "       [0.64285714],\n",
              "       [0.65745568],\n",
              "       [0.67075078],\n",
              "       [0.65667362],\n",
              "       [0.63034411],\n",
              "       [0.63086548],\n",
              "       [0.63868613],\n",
              "       [0.62122002],\n",
              "       [0.60688217],\n",
              "       [0.65093848],\n",
              "       [0.67361835],\n",
              "       [0.68430657],\n",
              "       [0.68873827],\n",
              "       [0.70620438],\n",
              "       [0.6968196 ],\n",
              "       [0.70828989],\n",
              "       [0.70542231],\n",
              "       [0.71976017],\n",
              "       [0.76642336],\n",
              "       [0.74504692],\n",
              "       [0.7145464 ],\n",
              "       [0.72758081],\n",
              "       [0.71532847],\n",
              "       [0.70099062],\n",
              "       [0.73696559],\n",
              "       [0.71845673],\n",
              "       [0.72679875],\n",
              "       [0.72836288],\n",
              "       [0.73488008],\n",
              "       [0.74009385],\n",
              "       [0.76668405],\n",
              "       [0.72940563],\n",
              "       [0.70594369],\n",
              "       [0.70490094],\n",
              "       [0.72393118],\n",
              "       [0.70620438],\n",
              "       [0.71402503],\n",
              "       [0.75078206],\n",
              "       [0.78701773],\n",
              "       [0.81230448],\n",
              "       [0.82038582],\n",
              "       [0.83081335],\n",
              "       [0.8164755 ],\n",
              "       [0.81751825],\n",
              "       [0.82429614],\n",
              "       [0.80578728],\n",
              "       [0.81360792],\n",
              "       [0.83654849],\n",
              "       [0.86783107],\n",
              "       [0.86209593],\n",
              "       [0.87877998],\n",
              "       [0.8693952 ],\n",
              "       [0.87721585],\n",
              "       [0.86522419],\n",
              "       [0.87252346],\n",
              "       [0.88321168],\n",
              "       [0.91892596],\n",
              "       [0.96428571],\n",
              "       [0.95411887],\n",
              "       [0.9778415 ],\n",
              "       [0.94577685],\n",
              "       [0.97210636],\n",
              "       [0.96663191],\n",
              "       [0.94994786],\n",
              "       [0.97914494],\n",
              "       [1.        ],\n",
              "       [0.94186653],\n",
              "       [0.92961418],\n",
              "       [0.89572471],\n",
              "       [0.89546403],\n",
              "       [0.92101147],\n",
              "       [0.91579771],\n",
              "       [0.94812304],\n",
              "       [0.89963504],\n",
              "       [0.90615224],\n",
              "       [0.91605839],\n",
              "       [0.93613139],\n",
              "       [0.95307612],\n",
              "       [0.95281543],\n",
              "       [0.93534932],\n",
              "       [0.89937435],\n",
              "       [0.84801877],\n",
              "       [0.86105318],\n",
              "       [0.87356621],\n",
              "       [0.89937435],\n",
              "       [0.90589155],\n",
              "       [0.93952033],\n",
              "       [0.92883212],\n",
              "       [0.91788321],\n",
              "       [0.92909281],\n",
              "       [0.93117831],\n",
              "       [0.92518248],\n",
              "       [0.91553702],\n",
              "       [0.92153285],\n",
              "       [0.92022941],\n",
              "       [0.92387904],\n",
              "       [0.96741397],\n",
              "       [0.96637122]])"
            ]
          },
          "metadata": {},
          "execution_count": 19
        }
      ]
    },
    {
      "cell_type": "markdown",
      "source": [
        "# 5. Converter os valores do array para um dataset matrix"
      ],
      "metadata": {
        "id": "52o2uJADWc9R"
      }
    },
    {
      "cell_type": "code",
      "source": [
        "import numpy\n",
        "def create_dataset(dataset, time_step=1):\n",
        "\tdataX, dataY = [], []\n",
        "\tfor i in range(len(dataset)-time_step-1):\n",
        "\t\ta = dataset[i:(i+time_step), 0]   \n",
        "\t\tdataX.append(a)\n",
        "\t\tdataY.append(dataset[i + time_step, 0])\n",
        "\treturn numpy.array(dataX), numpy.array(dataY)"
      ],
      "metadata": {
        "id": "9PFtR8hFb3Qc"
      },
      "execution_count": null,
      "outputs": []
    },
    {
      "cell_type": "markdown",
      "source": [
        "# 5.1. Análise de 10 dias (time_step  = 10) para o valor que será previsto"
      ],
      "metadata": {
        "id": "Oj0KuhTJUT1J"
      }
    },
    {
      "cell_type": "code",
      "source": [
        "time_step = 10\n",
        "x_train, y_train = create_dataset(train_data, time_step)\n",
        "x_test, y_test = create_dataset(test_data, time_step)"
      ],
      "metadata": {
        "id": "qp5m--Onb6lB"
      },
      "execution_count": null,
      "outputs": []
    },
    {
      "cell_type": "code",
      "source": [
        "print(x_train.shape), print(y_train.shape)"
      ],
      "metadata": {
        "colab": {
          "base_uri": "https://localhost:8080/"
        },
        "id": "T6uMTs04b8WO",
        "outputId": "bcb4b27d-e643-40ef-f699-a9c5d1d5e333"
      },
      "execution_count": null,
      "outputs": [
        {
          "output_type": "stream",
          "name": "stdout",
          "text": [
            "(1563, 10)\n",
            "(1563,)\n"
          ]
        },
        {
          "output_type": "execute_result",
          "data": {
            "text/plain": [
              "(None, None)"
            ]
          },
          "metadata": {},
          "execution_count": 22
        }
      ]
    },
    {
      "cell_type": "code",
      "source": [
        "print(x_test.shape), print(y_test.shape)"
      ],
      "metadata": {
        "colab": {
          "base_uri": "https://localhost:8080/"
        },
        "id": "Nf9Oaomfb_ot",
        "outputId": "512a5fc0-3e96-4c15-e6c6-67625c5a3524"
      },
      "execution_count": null,
      "outputs": [
        {
          "output_type": "stream",
          "name": "stdout",
          "text": [
            "(383, 10)\n",
            "(383,)\n"
          ]
        },
        {
          "output_type": "execute_result",
          "data": {
            "text/plain": [
              "(None, None)"
            ]
          },
          "metadata": {},
          "execution_count": 23
        }
      ]
    },
    {
      "cell_type": "markdown",
      "source": [
        "## 5.2. Remodalar input para o LSTM."
      ],
      "metadata": {
        "id": "A_dz6OXtNeLE"
      }
    },
    {
      "cell_type": "markdown",
      "source": [
        "O input do LSTM é sempre um 3D array -->  (batch_size, time_steps, seq_len)"
      ],
      "metadata": {
        "id": "4upofZ7EQbOp"
      }
    },
    {
      "cell_type": "code",
      "source": [
        "x_train =x_train.reshape(x_train.shape[0],x_train.shape[1] , 1)\n",
        "x_test = x_test.reshape(x_test.shape[0],x_test.shape[1] , 1)"
      ],
      "metadata": {
        "id": "OJfvx6nPcDSQ"
      },
      "execution_count": null,
      "outputs": []
    },
    {
      "cell_type": "code",
      "source": [
        "print(x_train.shape), print(x_test.shape)"
      ],
      "metadata": {
        "colab": {
          "base_uri": "https://localhost:8080/"
        },
        "id": "bBPXLnOuObTW",
        "outputId": "cc4034c4-73ea-4523-971f-45b258a25ee0"
      },
      "execution_count": null,
      "outputs": [
        {
          "output_type": "stream",
          "name": "stdout",
          "text": [
            "(1563, 10, 1)\n",
            "(383, 10, 1)\n"
          ]
        },
        {
          "output_type": "execute_result",
          "data": {
            "text/plain": [
              "(None, None)"
            ]
          },
          "metadata": {},
          "execution_count": 25
        }
      ]
    },
    {
      "cell_type": "markdown",
      "source": [
        "# 6. Rede Neural Long Short-Term Memory Network - LSTM"
      ],
      "metadata": {
        "id": "B7MAJYsLZGwT"
      }
    },
    {
      "cell_type": "markdown",
      "source": [
        "# 6.1. Criando a Rede Neural "
      ],
      "metadata": {
        "id": "GaoRsb_Dt0Cc"
      }
    },
    {
      "cell_type": "code",
      "source": [
        "### Create the Stacked LSTM model\n",
        "from tensorflow.keras.models import Sequential\n",
        "from tensorflow.keras.layers import Dense\n",
        "from tensorflow.keras.layers import LSTM\n",
        "from tensorflow.keras.optimizers import Adam"
      ],
      "metadata": {
        "id": "HU8NKt5QcFYr"
      },
      "execution_count": null,
      "outputs": []
    },
    {
      "cell_type": "code",
      "source": [
        "model=Sequential()\n",
        "model.add(LSTM(64,return_sequences=True,input_shape=(10,1)))\n",
        "model.add(LSTM(64,return_sequences=True))\n",
        "model.add(Dense(32,activation='relu'))\n",
        "model.add(LSTM(64))\n",
        "model.add(Dense(1))\n",
        "model.compile(loss='mse', \n",
        "              optimizer=Adam(learning_rate=0.001),\n",
        "              metrics=['mean_absolute_error'])"
      ],
      "metadata": {
        "id": "x2FHcOFgcIco"
      },
      "execution_count": null,
      "outputs": []
    },
    {
      "cell_type": "code",
      "source": [
        "model.summary()"
      ],
      "metadata": {
        "colab": {
          "base_uri": "https://localhost:8080/"
        },
        "id": "zSLnUwLccL0Q",
        "outputId": "34489191-0b2d-4b93-f613-14be62d2da3a"
      },
      "execution_count": null,
      "outputs": [
        {
          "output_type": "stream",
          "name": "stdout",
          "text": [
            "Model: \"sequential\"\n",
            "_________________________________________________________________\n",
            " Layer (type)                Output Shape              Param #   \n",
            "=================================================================\n",
            " lstm (LSTM)                 (None, 10, 64)            16896     \n",
            "                                                                 \n",
            " lstm_1 (LSTM)               (None, 10, 64)            33024     \n",
            "                                                                 \n",
            " dense (Dense)               (None, 10, 32)            2080      \n",
            "                                                                 \n",
            " lstm_2 (LSTM)               (None, 64)                24832     \n",
            "                                                                 \n",
            " dense_1 (Dense)             (None, 1)                 65        \n",
            "                                                                 \n",
            "=================================================================\n",
            "Total params: 76,897\n",
            "Trainable params: 76,897\n",
            "Non-trainable params: 0\n",
            "_________________________________________________________________\n"
          ]
        }
      ]
    },
    {
      "cell_type": "markdown",
      "source": [
        "# 6.2. Treinamento da Rede Neural"
      ],
      "metadata": {
        "id": "TAijgSuEhETM"
      }
    },
    {
      "cell_type": "code",
      "source": [
        "history = model.fit(x_train,y_train,validation_data=(x_test,y_test),\n",
        "                          epochs=10,\n",
        "                          batch_size=3,\n",
        "                          verbose=1)"
      ],
      "metadata": {
        "id": "5j9bqmyPcS60",
        "colab": {
          "base_uri": "https://localhost:8080/"
        },
        "outputId": "c44a7ad2-24fd-4129-ee06-c098e8df4efb"
      },
      "execution_count": null,
      "outputs": [
        {
          "output_type": "stream",
          "name": "stdout",
          "text": [
            "Epoch 1/10\n",
            "521/521 [==============================] - 17s 19ms/step - loss: 0.0011 - mean_absolute_error: 0.0186 - val_loss: 0.0060 - val_mean_absolute_error: 0.0591\n",
            "Epoch 2/10\n",
            "521/521 [==============================] - 8s 16ms/step - loss: 3.5672e-04 - mean_absolute_error: 0.0121 - val_loss: 0.0069 - val_mean_absolute_error: 0.0641\n",
            "Epoch 3/10\n",
            "521/521 [==============================] - 7s 14ms/step - loss: 2.8935e-04 - mean_absolute_error: 0.0102 - val_loss: 0.0120 - val_mean_absolute_error: 0.0915\n",
            "Epoch 4/10\n",
            "521/521 [==============================] - 8s 15ms/step - loss: 3.5720e-04 - mean_absolute_error: 0.0118 - val_loss: 0.0096 - val_mean_absolute_error: 0.0764\n",
            "Epoch 5/10\n",
            "521/521 [==============================] - 7s 14ms/step - loss: 2.7676e-04 - mean_absolute_error: 0.0105 - val_loss: 0.0031 - val_mean_absolute_error: 0.0451\n",
            "Epoch 6/10\n",
            "521/521 [==============================] - 7s 14ms/step - loss: 2.5772e-04 - mean_absolute_error: 0.0102 - val_loss: 0.0042 - val_mean_absolute_error: 0.0481\n",
            "Epoch 7/10\n",
            "521/521 [==============================] - 8s 16ms/step - loss: 2.1738e-04 - mean_absolute_error: 0.0088 - val_loss: 0.0037 - val_mean_absolute_error: 0.0459\n",
            "Epoch 8/10\n",
            "521/521 [==============================] - 8s 15ms/step - loss: 2.1163e-04 - mean_absolute_error: 0.0092 - val_loss: 0.0061 - val_mean_absolute_error: 0.0579\n",
            "Epoch 9/10\n",
            "521/521 [==============================] - 8s 16ms/step - loss: 1.8150e-04 - mean_absolute_error: 0.0077 - val_loss: 0.0068 - val_mean_absolute_error: 0.0593\n",
            "Epoch 10/10\n",
            "521/521 [==============================] - 7s 14ms/step - loss: 1.3164e-04 - mean_absolute_error: 0.0075 - val_loss: 0.0041 - val_mean_absolute_error: 0.0457\n"
          ]
        }
      ]
    },
    {
      "cell_type": "markdown",
      "source": [
        "# 7. Avaliação da Rede Neural"
      ],
      "metadata": {
        "id": "zDhAHCAqg7ce"
      }
    },
    {
      "cell_type": "markdown",
      "source": [
        "7.1. Gráfico do treinamento: custo do treino"
      ],
      "metadata": {
        "id": "aldLJgKyhflA"
      }
    },
    {
      "cell_type": "code",
      "source": [
        "import matplotlib.pyplot as plt\n",
        "plt.plot(history.history['loss'], label='train')\n",
        "plt.title('Loss de treino')\n",
        "plt.ylabel('loss')\n",
        "plt.xlabel('época')\n",
        "plt.legend();"
      ],
      "metadata": {
        "colab": {
          "base_uri": "https://localhost:8080/",
          "height": 296
        },
        "id": "dcB3Mf50gsKp",
        "outputId": "72240b80-367c-4304-8ac4-2a2259ff7076"
      },
      "execution_count": null,
      "outputs": [
        {
          "output_type": "display_data",
          "data": {
            "text/plain": [
              "<Figure size 432x288 with 1 Axes>"
            ],
            "image/png": "[encoded data removed]"
          },
          "metadata": {
            "needs_background": "light"
          }
        }
      ]
    },
    {
      "cell_type": "code",
      "source": [
        "score = model.evaluate(x_train, y_train, verbose = 0)\n",
        "print('Test score:', score[0])\n",
        "print('Test mape:', score[1], '%')"
      ],
      "metadata": {
        "id": "or06w5UdjHU4",
        "colab": {
          "base_uri": "https://localhost:8080/"
        },
        "outputId": "381e8d85-7d60-418f-e5dd-66f2a0e8a1ff"
      },
      "execution_count": null,
      "outputs": [
        {
          "output_type": "stream",
          "name": "stdout",
          "text": [
            "Test score: 6.974200368858874e-05\n",
            "Test mape: 0.004680872894823551 %\n"
          ]
        }
      ]
    },
    {
      "cell_type": "markdown",
      "source": [
        "## 7.2. Fazendo predict com nosso modelo"
      ],
      "metadata": {
        "id": "eKCSSH5p7CSP"
      }
    },
    {
      "cell_type": "code",
      "source": [
        "train_predict=model.predict(x_train)\n",
        "test_predict=model.predict(x_test)"
      ],
      "metadata": {
        "id": "HOzZy-XNdd8J",
        "colab": {
          "base_uri": "https://localhost:8080/"
        },
        "outputId": "9081f13e-8349-4d46-8e2c-a5d4909083e8"
      },
      "execution_count": null,
      "outputs": [
        {
          "output_type": "stream",
          "name": "stdout",
          "text": [
            "49/49 [==============================] - 2s 9ms/step\n",
            "12/12 [==============================] - 0s 10ms/step\n"
          ]
        }
      ]
    },
    {
      "cell_type": "code",
      "source": [
        "train_predict"
      ],
      "metadata": {
        "colab": {
          "base_uri": "https://localhost:8080/"
        },
        "id": "JBmT-op3DpP-",
        "outputId": "b0815f17-0155-4395-a8a4-ee9e6090d9db"
      },
      "execution_count": null,
      "outputs": [
        {
          "output_type": "execute_result",
          "data": {
            "text/plain": [
              "array([[0.00519462],\n",
              "       [0.00566674],\n",
              "       [0.00655536],\n",
              "       ...,\n",
              "       [0.4957763 ],\n",
              "       [0.5008967 ],\n",
              "       [0.50531596]], dtype=float32)"
            ]
          },
          "metadata": {},
          "execution_count": 33
        }
      ]
    },
    {
      "cell_type": "markdown",
      "source": [
        "## 7.3. Retorna à escala normal para cálculo das métricas (de 0 até 40)"
      ],
      "metadata": {
        "id": "I_5-xqMhHa04"
      }
    },
    {
      "cell_type": "code",
      "source": [
        "train_predict=scaler.inverse_transform(train_predict)\n",
        "test_predict=scaler.inverse_transform(test_predict)"
      ],
      "metadata": {
        "id": "rrif0YtpdihW"
      },
      "execution_count": null,
      "outputs": []
    },
    {
      "cell_type": "code",
      "source": [
        "train_predict"
      ],
      "metadata": {
        "colab": {
          "base_uri": "https://localhost:8080/"
        },
        "id": "ikbLIMP-uuva",
        "outputId": "0107d5fd-82ab-4ef0-c4da-d8678cec158e"
      },
      "execution_count": null,
      "outputs": [
        {
          "output_type": "execute_result",
          "data": {
            "text/plain": [
              "array([[ 0.33926553],\n",
              "       [ 0.35737616],\n",
              "       [ 0.39146346],\n",
              "       ...,\n",
              "       [19.157978  ],\n",
              "       [19.354397  ],\n",
              "       [19.52392   ]], dtype=float32)"
            ]
          },
          "metadata": {},
          "execution_count": 35
        }
      ]
    },
    {
      "cell_type": "code",
      "source": [
        "test_predict"
      ],
      "metadata": {
        "colab": {
          "base_uri": "https://localhost:8080/"
        },
        "id": "kWY_nT1C5lXJ",
        "outputId": "454b7797-264d-4b3d-9e8d-02f8ac549e9f"
      },
      "execution_count": null,
      "outputs": [
        {
          "output_type": "execute_result",
          "data": {
            "text/plain": [
              "array([[19.88954 ],\n",
              "       [19.693027],\n",
              "       [19.616543],\n",
              "       [19.601381],\n",
              "       [19.644411],\n",
              "       [19.674063],\n",
              "       [19.615412],\n",
              "       [19.48083 ],\n",
              "       [19.374176],\n",
              "       [19.414698],\n",
              "       [19.720497],\n",
              "       [20.173378],\n",
              "       [20.582508],\n",
              "       [20.636581],\n",
              "       [20.465895],\n",
              "       [20.23235 ],\n",
              "       [20.040358],\n",
              "       [19.956398],\n",
              "       [19.89267 ],\n",
              "       [19.76158 ],\n",
              "       [19.591269],\n",
              "       [19.310518],\n",
              "       [19.16026 ],\n",
              "       [19.165422],\n",
              "       [19.225216],\n",
              "       [19.255802],\n",
              "       [19.218275],\n",
              "       [19.000345],\n",
              "       [18.777922],\n",
              "       [18.701187],\n",
              "       [18.600647],\n",
              "       [18.464273],\n",
              "       [18.384499],\n",
              "       [18.229599],\n",
              "       [18.063242],\n",
              "       [17.97292 ],\n",
              "       [17.957455],\n",
              "       [18.210085],\n",
              "       [18.40926 ],\n",
              "       [18.396801],\n",
              "       [18.247097],\n",
              "       [17.962856],\n",
              "       [17.69235 ],\n",
              "       [17.632908],\n",
              "       [17.840616],\n",
              "       [18.073711],\n",
              "       [18.360071],\n",
              "       [18.640589],\n",
              "       [18.829746],\n",
              "       [18.773993],\n",
              "       [18.90675 ],\n",
              "       [19.107115],\n",
              "       [19.25628 ],\n",
              "       [19.236776],\n",
              "       [19.177565],\n",
              "       [19.022892],\n",
              "       [18.932693],\n",
              "       [18.845114],\n",
              "       [19.077723],\n",
              "       [19.26551 ],\n",
              "       [19.40745 ],\n",
              "       [19.529114],\n",
              "       [19.892117],\n",
              "       [20.2364  ],\n",
              "       [20.317616],\n",
              "       [20.083597],\n",
              "       [19.854965],\n",
              "       [20.00274 ],\n",
              "       [20.330406],\n",
              "       [20.801699],\n",
              "       [21.377245],\n",
              "       [21.627058],\n",
              "       [21.824856],\n",
              "       [22.371344],\n",
              "       [23.154978],\n",
              "       [23.777388],\n",
              "       [24.208883],\n",
              "       [24.468306],\n",
              "       [24.70787 ],\n",
              "       [24.949003],\n",
              "       [25.253971],\n",
              "       [25.417095],\n",
              "       [25.660854],\n",
              "       [25.799442],\n",
              "       [25.782564],\n",
              "       [25.680511],\n",
              "       [25.601803],\n",
              "       [25.47175 ],\n",
              "       [25.38081 ],\n",
              "       [25.465765],\n",
              "       [25.533922],\n",
              "       [25.31531 ],\n",
              "       [24.739227],\n",
              "       [24.183477],\n",
              "       [23.777042],\n",
              "       [23.588543],\n",
              "       [23.433922],\n",
              "       [23.994951],\n",
              "       [24.652727],\n",
              "       [24.91415 ],\n",
              "       [24.8467  ],\n",
              "       [24.721315],\n",
              "       [24.451456],\n",
              "       [24.072798],\n",
              "       [23.694326],\n",
              "       [23.243484],\n",
              "       [22.783123],\n",
              "       [22.355814],\n",
              "       [22.25047 ],\n",
              "       [22.151987],\n",
              "       [22.072872],\n",
              "       [21.650478],\n",
              "       [21.326124],\n",
              "       [21.03465 ],\n",
              "       [20.823503],\n",
              "       [20.82214 ],\n",
              "       [20.939932],\n",
              "       [21.120766],\n",
              "       [21.299398],\n",
              "       [21.271809],\n",
              "       [21.11422 ],\n",
              "       [20.991459],\n",
              "       [20.841501],\n",
              "       [20.613468],\n",
              "       [20.444021],\n",
              "       [20.353783],\n",
              "       [20.36269 ],\n",
              "       [20.16564 ],\n",
              "       [20.009848],\n",
              "       [19.979696],\n",
              "       [19.964727],\n",
              "       [20.126316],\n",
              "       [20.203302],\n",
              "       [20.22448 ],\n",
              "       [20.327703],\n",
              "       [20.37396 ],\n",
              "       [20.458729],\n",
              "       [20.15485 ],\n",
              "       [19.834444],\n",
              "       [19.77885 ],\n",
              "       [19.918192],\n",
              "       [20.257635],\n",
              "       [20.617981],\n",
              "       [20.989037],\n",
              "       [21.412104],\n",
              "       [21.747927],\n",
              "       [22.151823],\n",
              "       [22.553177],\n",
              "       [22.877642],\n",
              "       [23.00138 ],\n",
              "       [22.972801],\n",
              "       [23.025322],\n",
              "       [23.073765],\n",
              "       [23.141151],\n",
              "       [23.197311],\n",
              "       [23.25717 ],\n",
              "       [23.254065],\n",
              "       [23.116165],\n",
              "       [22.911474],\n",
              "       [23.033731],\n",
              "       [23.212536],\n",
              "       [23.284771],\n",
              "       [23.40712 ],\n",
              "       [23.555359],\n",
              "       [23.847054],\n",
              "       [24.225065],\n",
              "       [24.418291],\n",
              "       [24.432268],\n",
              "       [24.344666],\n",
              "       [24.15486 ],\n",
              "       [24.147785],\n",
              "       [24.104652],\n",
              "       [24.097778],\n",
              "       [24.099834],\n",
              "       [24.236477],\n",
              "       [24.737951],\n",
              "       [25.278208],\n",
              "       [25.635525],\n",
              "       [25.75071 ],\n",
              "       [25.838888],\n",
              "       [25.644047],\n",
              "       [25.388273],\n",
              "       [25.050667],\n",
              "       [24.572582],\n",
              "       [24.171213],\n",
              "       [23.774   ],\n",
              "       [23.773909],\n",
              "       [24.037184],\n",
              "       [24.333479],\n",
              "       [24.581581],\n",
              "       [24.886799],\n",
              "       [24.940594],\n",
              "       [24.779455],\n",
              "       [24.590157],\n",
              "       [24.486326],\n",
              "       [24.438995],\n",
              "       [24.189945],\n",
              "       [24.031015],\n",
              "       [23.925343],\n",
              "       [23.79771 ],\n",
              "       [23.58641 ],\n",
              "       [23.41283 ],\n",
              "       [23.301071],\n",
              "       [23.192253],\n",
              "       [23.164095],\n",
              "       [23.26764 ],\n",
              "       [23.49585 ],\n",
              "       [23.66939 ],\n",
              "       [23.749308],\n",
              "       [23.950132],\n",
              "       [23.962885],\n",
              "       [23.94041 ],\n",
              "       [24.024385],\n",
              "       [24.184137],\n",
              "       [24.431664],\n",
              "       [24.703552],\n",
              "       [24.667477],\n",
              "       [24.645815],\n",
              "       [24.88711 ],\n",
              "       [25.027477],\n",
              "       [25.109488],\n",
              "       [24.798267],\n",
              "       [24.432592],\n",
              "       [24.350931],\n",
              "       [24.490307],\n",
              "       [24.79774 ],\n",
              "       [25.083755],\n",
              "       [25.174244],\n",
              "       [24.952414],\n",
              "       [24.658121],\n",
              "       [24.519478],\n",
              "       [24.626215],\n",
              "       [24.930666],\n",
              "       [25.235826],\n",
              "       [25.522263],\n",
              "       [25.82174 ],\n",
              "       [25.988369],\n",
              "       [26.04334 ],\n",
              "       [26.101988],\n",
              "       [26.241964],\n",
              "       [26.250263],\n",
              "       [26.105938],\n",
              "       [25.981438],\n",
              "       [25.976448],\n",
              "       [25.922445],\n",
              "       [25.832066],\n",
              "       [25.600546],\n",
              "       [25.31723 ],\n",
              "       [25.025171],\n",
              "       [24.445045],\n",
              "       [23.87155 ],\n",
              "       [23.42744 ],\n",
              "       [22.872467],\n",
              "       [22.23239 ],\n",
              "       [21.891258],\n",
              "       [21.929506],\n",
              "       [22.077293],\n",
              "       [22.145031],\n",
              "       [22.056713],\n",
              "       [21.981356],\n",
              "       [22.044708],\n",
              "       [21.86612 ],\n",
              "       [21.610146],\n",
              "       [21.465597],\n",
              "       [21.48281 ],\n",
              "       [21.567564],\n",
              "       [21.70457 ],\n",
              "       [21.700636],\n",
              "       [21.494572],\n",
              "       [21.248766],\n",
              "       [21.299408],\n",
              "       [21.54173 ],\n",
              "       [21.75173 ],\n",
              "       [21.977467],\n",
              "       [22.115494],\n",
              "       [22.351534],\n",
              "       [22.589392],\n",
              "       [22.775196],\n",
              "       [22.93025 ],\n",
              "       [23.117544],\n",
              "       [23.11704 ],\n",
              "       [23.064835],\n",
              "       [23.087887],\n",
              "       [23.063364],\n",
              "       [23.156216],\n",
              "       [23.349495],\n",
              "       [23.59375 ],\n",
              "       [23.747622],\n",
              "       [23.916899],\n",
              "       [24.130955],\n",
              "       [24.24361 ],\n",
              "       [24.132137],\n",
              "       [23.979492],\n",
              "       [23.927387],\n",
              "       [23.81146 ],\n",
              "       [23.603891],\n",
              "       [23.686905],\n",
              "       [24.000244],\n",
              "       [24.347569],\n",
              "       [24.619528],\n",
              "       [24.904264],\n",
              "       [25.084787],\n",
              "       [25.254923],\n",
              "       [25.374266],\n",
              "       [25.554396],\n",
              "       [25.987593],\n",
              "       [26.253277],\n",
              "       [26.227705],\n",
              "       [26.193554],\n",
              "       [26.118052],\n",
              "       [25.970177],\n",
              "       [26.049843],\n",
              "       [26.078913],\n",
              "       [26.126163],\n",
              "       [26.165707],\n",
              "       [26.203161],\n",
              "       [26.276268],\n",
              "       [26.495707],\n",
              "       [26.494541],\n",
              "       [26.301435],\n",
              "       [26.102564],\n",
              "       [26.048128],\n",
              "       [25.978241],\n",
              "       [25.948524],\n",
              "       [26.139437],\n",
              "       [26.537527],\n",
              "       [27.011837],\n",
              "       [27.399065],\n",
              "       [27.729668],\n",
              "       [27.902649],\n",
              "       [28.003042],\n",
              "       [28.101301],\n",
              "       [28.114914],\n",
              "       [28.144043],\n",
              "       [28.276989],\n",
              "       [28.547287],\n",
              "       [28.751795],\n",
              "       [28.954214],\n",
              "       [29.06003 ],\n",
              "       [29.157297],\n",
              "       [29.180706],\n",
              "       [29.214588],\n",
              "       [29.306803],\n",
              "       [29.545916],\n",
              "       [29.944832],\n",
              "       [30.225288],\n",
              "       [30.495567],\n",
              "       [30.56656 ],\n",
              "       [30.68161 ],\n",
              "       [30.767405],\n",
              "       [30.773905],\n",
              "       [30.873354],\n",
              "       [31.054262],\n",
              "       [30.986223],\n",
              "       [30.811152],\n",
              "       [30.532545],\n",
              "       [30.287777],\n",
              "       [30.233263],\n",
              "       [30.208475],\n",
              "       [30.321115],\n",
              "       [30.244373],\n",
              "       [30.138771],\n",
              "       [30.08683 ],\n",
              "       [30.16579 ],\n",
              "       [30.322695],\n",
              "       [30.464842],\n",
              "       [30.492573],\n",
              "       [30.33368 ],\n",
              "       [29.962137],\n",
              "       [29.667885],\n",
              "       [29.552954],\n",
              "       [29.61876 ],\n",
              "       [29.732388],\n",
              "       [29.948622],\n",
              "       [30.077433],\n",
              "       [30.09775 ],\n",
              "       [30.134205],\n",
              "       [30.19085 ],\n",
              "       [30.23467 ],\n",
              "       [30.221157],\n",
              "       [30.222746],\n",
              "       [30.220337],\n",
              "       [30.234177]], dtype=float32)"
            ]
          },
          "metadata": {},
          "execution_count": 36
        }
      ]
    },
    {
      "cell_type": "code",
      "source": [
        "print(train_predict.shape), print(test_predict.shape)"
      ],
      "metadata": {
        "colab": {
          "base_uri": "https://localhost:8080/"
        },
        "id": "HaAs5ttLC5hW",
        "outputId": "79535f47-4c98-47af-bf37-569b2b18122e"
      },
      "execution_count": null,
      "outputs": [
        {
          "output_type": "stream",
          "name": "stdout",
          "text": [
            "(1563, 1)\n",
            "(383, 1)\n"
          ]
        },
        {
          "output_type": "execute_result",
          "data": {
            "text/plain": [
              "(None, None)"
            ]
          },
          "metadata": {},
          "execution_count": 37
        }
      ]
    },
    {
      "cell_type": "markdown",
      "source": [
        "# 8. Visualizar os resultados de treino e teste"
      ],
      "metadata": {
        "id": "ugO6zgpgYfiO"
      }
    },
    {
      "cell_type": "code",
      "source": [
        "plt.plot(scaler.inverse_transform(df2))\n",
        "plt.plot(train_predict)\n",
        "plt.plot(test_predict)\n",
        "plt.legend(['Valor Real da Ação','Train_Predict','Teste_Predict'])\n",
        "plt.show()"
      ],
      "metadata": {
        "id": "E3SnTTfO-6Jh",
        "colab": {
          "base_uri": "https://localhost:8080/",
          "height": 267
        },
        "outputId": "dc99435c-05e5-4269-d4e7-41a7c2a058ed"
      },
      "execution_count": null,
      "outputs": [
        {
          "output_type": "display_data",
          "data": {
            "text/plain": [
              "<Figure size 432x288 with 1 Axes>"
            ],
            "image/png": "[encoded data removed]"
          },
          "metadata": {
            "needs_background": "light"
          }
        }
      ]
    },
    {
      "cell_type": "markdown",
      "source": [
        "## 8.1. Deslocar o test prediction para visualizar no gráfico "
      ],
      "metadata": {
        "id": "9kpQDO-FZGTj"
      }
    },
    {
      "cell_type": "code",
      "source": [
        "look_back=10\n",
        "\n",
        "testPredictPlot = numpy.empty_like(df2)\n",
        "testPredictPlot[:, :] = numpy.nan\n",
        "testPredictPlot[len(train_predict)+(look_back*2)+1:len(df2)-1, :] = test_predict\n",
        "\n",
        "plt.plot(scaler.inverse_transform(df2))\n",
        "plt.plot(train_predict)\n",
        "plt.plot(testPredictPlot)\n",
        "plt.legend(['Valor Real da Ação','Train_Predict','Teste_Predict'])\n",
        "plt.show()"
      ],
      "metadata": {
        "id": "KCnWkSQjKASs",
        "colab": {
          "base_uri": "https://localhost:8080/",
          "height": 267
        },
        "outputId": "5db9834a-34a8-432e-b60b-5b16571bea83"
      },
      "execution_count": null,
      "outputs": [
        {
          "output_type": "display_data",
          "data": {
            "text/plain": [
              "<Figure size 432x288 with 1 Axes>"
            ],
            "image/png": "[encoded data removed]"
          },
          "metadata": {
            "needs_background": "light"
          }
        }
      ]
    },
    {
      "cell_type": "markdown",
      "source": [
        "# 9. Métricas de avaliação \n"
      ],
      "metadata": {
        "id": "VBw1WfReL5qf"
      }
    },
    {
      "cell_type": "markdown",
      "source": [
        "9.1. RSME (Root mean square error) \n",
        "* Calcula a média das diferenças entre os values predicted e observações reais ao quadrado"
      ],
      "metadata": {
        "id": "UR4ANeQ5bmPN"
      }
    },
    {
      "cell_type": "code",
      "source": [
        "import math\n",
        "from sklearn.metrics import mean_squared_error\n",
        "rsme_train = math.sqrt(mean_squared_error(y_train,train_predict))\n",
        "rsme_test = math.sqrt(mean_squared_error(y_test,test_predict))\n",
        "print('RSME do train: ',rsme_train)\n",
        "print('RSME do test: ',rsme_test)"
      ],
      "metadata": {
        "colab": {
          "base_uri": "https://localhost:8080/"
        },
        "id": "7trZjEklMBuk",
        "outputId": "d01e0c0e-525a-4741-8726-14e629d60115"
      },
      "execution_count": null,
      "outputs": [
        {
          "output_type": "stream",
          "name": "stdout",
          "text": [
            "RSME do train:  5.634125887401881\n",
            "RSME do test:  23.332523231891013\n"
          ]
        }
      ]
    },
    {
      "cell_type": "markdown",
      "source": [
        "9.2. MAE - Mean Absolute Error \n",
        "\n",
        "*   Calcula o erro absoluto médio, que consiste em calcular o residual de cada ponto, onde valores residuais negativos e positivos não se anulam e após o agrupamento é calculada a média dos residuais. \n",
        "\n",
        "\n"
      ],
      "metadata": {
        "id": "krpXmNUqbYq8"
      }
    },
    {
      "cell_type": "code",
      "source": [
        "from sklearn.metrics import mean_absolute_error\n",
        "mae_train = mean_absolute_error(y_train,train_predict)\n",
        "mae_test = mean_absolute_error(y_test,test_predict)\n",
        "print('MAE do train: ',mae_train)\n",
        "print('MAE do test: ',mae_test)"
      ],
      "metadata": {
        "colab": {
          "base_uri": "https://localhost:8080/"
        },
        "id": "p-2wF25cbBDb",
        "outputId": "c588449d-76bf-4164-b07e-f0b291524322"
      },
      "execution_count": null,
      "outputs": [
        {
          "output_type": "stream",
          "name": "stdout",
          "text": [
            "MAE do train:  3.3641619172736656\n",
            "MAE do test:  23.105822809464396\n"
          ]
        }
      ]
    },
    {
      "cell_type": "markdown",
      "source": [
        "9.3. MSE - Mean Squared Error\n",
        "\n",
        "\n",
        "\n",
        "*   Calcula a acurácia de modelos e dá um maior peso aos maiores erros, já que, ao ser calculado, cada erro é elevado ao quadrado individualmente e, após isso, a média desses erros quadráticos é calculada.\n",
        "\n",
        "\n"
      ],
      "metadata": {
        "id": "1dgC5gPShN6q"
      }
    },
    {
      "cell_type": "code",
      "source": [
        "mse_train = mean_squared_error(y_train,train_predict)\n",
        "mse_test = mean_squared_error(y_test,test_predict)\n",
        "print('MSE do train: ',mse_train)\n",
        "print('MSE do test: ',mse_test)"
      ],
      "metadata": {
        "colab": {
          "base_uri": "https://localhost:8080/"
        },
        "id": "9UFM6yj-hT4Q",
        "outputId": "70dbac16-13f1-4151-f4bd-7d77c5b05e46"
      },
      "execution_count": null,
      "outputs": [
        {
          "output_type": "stream",
          "name": "stdout",
          "text": [
            "MSE do train:  31.74337451509203\n",
            "MSE do test:  544.4066403667338\n"
          ]
        }
      ]
    },
    {
      "cell_type": "markdown",
      "source": [
        "9.4. MAPE — Mean Absolute Percentage Error\n",
        "\n",
        "*   Usada em relatórios de gerenciamento, porque o erro é medido como uma porcentagem e assim, é possível fazer comparações entre erros percentuais do modelo entre produtos.\n",
        "\n",
        "\n"
      ],
      "metadata": {
        "id": "CY4_Rh2SqCyD"
      }
    },
    {
      "cell_type": "code",
      "source": [
        "from sklearn.metrics import mean_absolute_percentage_error\n",
        "mean_train = mean_absolute_percentage_error(y_train,train_predict)\n",
        "mean_test = mean_absolute_percentage_error(y_test,test_predict)\n",
        "print('MAPE do train: ',mean_train)\n",
        "print('MAPE do test: ',mean_test) "
      ],
      "metadata": {
        "colab": {
          "base_uri": "https://localhost:8080/"
        },
        "id": "qmmu-ht2nlHg",
        "outputId": "acda34b3-ed98-4258-b805-a4fba11c2935"
      },
      "execution_count": null,
      "outputs": [
        {
          "output_type": "stream",
          "name": "stdout",
          "text": [
            "MAPE do train:  4833587761484.6875\n",
            "MAPE do test:  35.98221649800142\n"
          ]
        }
      ]
    }
  ],
  "metadata": {
    "colab": {
      "provenance": [],
      "include_colab_link": true
    },
    "kernelspec": {
      "display_name": "Python 3",
      "name": "python3"
    }
  },
  "nbformat": 4,
  "nbformat_minor": 0
}