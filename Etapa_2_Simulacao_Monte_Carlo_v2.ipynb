{
  "nbformat": 4,
  "nbformat_minor": 0,
  "metadata": {
    "colab": {
      "provenance": [],
      "mount_file_id": "1gy18pqvYqfnyiDCjF_lBTzvrC9Mmd0mv",
      "authorship_tag": "ABX9TyMKzuFCfI6Xp58RYhK/Mr5d",
      "include_colab_link": true
    },
    "kernelspec": {
      "name": "python3",
      "display_name": "Python 3"
    },
    "language_info": {
      "name": "python"
    },
    "gpuClass": "standard"
  },
  "cells": [
    {
      "cell_type": "markdown",
      "metadata": {
        "id": "view-in-github",
        "colab_type": "text"
      },
      "source": [
        "<a href=\"https://colab.research.google.com/github/arcadiopfz/Projeto-Final/blob/main/Etapa_2_Simulacao_Monte_Carlo_v2.ipynb\" target=\"_parent\"><img src=\"https://colab.research.google.com/assets/colab-badge.svg\" alt=\"Open In Colab\"/></a>"
      ]
    },
    {
      "cell_type": "markdown",
      "source": [
        "# Etapa 2 - Simulação Monte Carlo para previsão de preços da ação da Petro Rio SA (PRIO3)"
      ],
      "metadata": {
        "id": "S-07UTGbTcda"
      }
    },
    {
      "cell_type": "markdown",
      "source": [
        "**negrito**# 1. Importação das bibliotecas e preparação da base de dados"
      ],
      "metadata": {
        "id": "zuKKp0hecM_g"
      }
    },
    {
      "cell_type": "code",
      "execution_count": null,
      "metadata": {
        "id": "ER6Pf5KkTbjf"
      },
      "outputs": [],
      "source": [
        "import pandas as pd\n",
        "import numpy as np\n",
        "import plotly.express as px\n",
        "import seaborn as sns\n",
        "import matplotlib.pyplot as plt\n",
        "from scipy import stats"
      ]
    },
    {
      "cell_type": "code",
      "source": [
        "prio_df3 = pd.read_csv('/content/prio2.csv')[['Close']]"
      ],
      "metadata": {
        "id": "kmNlzSMtVtgj"
      },
      "execution_count": null,
      "outputs": []
    },
    {
      "cell_type": "code",
      "source": [
        "prio_df3"
      ],
      "metadata": {
        "colab": {
          "base_uri": "https://localhost:8080/",
          "height": 423
        },
        "id": "yaog9TktWzK9",
        "outputId": "fa0d9bcf-1579-4354-f81f-03eb6021bf50"
      },
      "execution_count": null,
      "outputs": [
        {
          "output_type": "execute_result",
          "data": {
            "text/plain": [
              "          Close\n",
              "0      0.440000\n",
              "1      0.407000\n",
              "2      0.367000\n",
              "3      0.366000\n",
              "4      0.378000\n",
              "...         ...\n",
              "1983  35.490002\n",
              "1984  35.439999\n",
              "1985  35.580002\n",
              "1986  37.250000\n",
              "1987  37.209999\n",
              "\n",
              "[1988 rows x 1 columns]"
            ],
            "text/html": [
              "\n",
              "  <div id=\"df-10667e61-74e8-4877-bc62-6fd9fba4a039\">\n",
              "    <div class=\"colab-df-container\">\n",
              "      <div>\n",
              "<style scoped>\n",
              "    .dataframe tbody tr th:only-of-type {\n",
              "        vertical-align: middle;\n",
              "    }\n",
              "\n",
              "    .dataframe tbody tr th {\n",
              "        vertical-align: top;\n",
              "    }\n",
              "\n",
              "    .dataframe thead th {\n",
              "        text-align: right;\n",
              "    }\n",
              "</style>\n",
              "<table border=\"1\" class=\"dataframe\">\n",
              "  <thead>\n",
              "    <tr style=\"text-align: right;\">\n",
              "      <th></th>\n",
              "      <th>Close</th>\n",
              "    </tr>\n",
              "  </thead>\n",
              "  <tbody>\n",
              "    <tr>\n",
              "      <th>0</th>\n",
              "      <td>0.440000</td>\n",
              "    </tr>\n",
              "    <tr>\n",
              "      <th>1</th>\n",
              "      <td>0.407000</td>\n",
              "    </tr>\n",
              "    <tr>\n",
              "      <th>2</th>\n",
              "      <td>0.367000</td>\n",
              "    </tr>\n",
              "    <tr>\n",
              "      <th>3</th>\n",
              "      <td>0.366000</td>\n",
              "    </tr>\n",
              "    <tr>\n",
              "      <th>4</th>\n",
              "      <td>0.378000</td>\n",
              "    </tr>\n",
              "    <tr>\n",
              "      <th>...</th>\n",
              "      <td>...</td>\n",
              "    </tr>\n",
              "    <tr>\n",
              "      <th>1983</th>\n",
              "      <td>35.490002</td>\n",
              "    </tr>\n",
              "    <tr>\n",
              "      <th>1984</th>\n",
              "      <td>35.439999</td>\n",
              "    </tr>\n",
              "    <tr>\n",
              "      <th>1985</th>\n",
              "      <td>35.580002</td>\n",
              "    </tr>\n",
              "    <tr>\n",
              "      <th>1986</th>\n",
              "      <td>37.250000</td>\n",
              "    </tr>\n",
              "    <tr>\n",
              "      <th>1987</th>\n",
              "      <td>37.209999</td>\n",
              "    </tr>\n",
              "  </tbody>\n",
              "</table>\n",
              "<p>1988 rows × 1 columns</p>\n",
              "</div>\n",
              "      <button class=\"colab-df-convert\" onclick=\"convertToInteractive('df-10667e61-74e8-4877-bc62-6fd9fba4a039')\"\n",
              "              title=\"Convert this dataframe to an interactive table.\"\n",
              "              style=\"display:none;\">\n",
              "        \n",
              "  <svg xmlns=\"http://www.w3.org/2000/svg\" height=\"24px\"viewBox=\"0 0 24 24\"\n",
              "       width=\"24px\">\n",
              "    <path d=\"M0 0h24v24H0V0z\" fill=\"none\"/>\n",
              "    <path d=\"M18.56 5.44l.94 2.06.94-2.06 2.06-.94-2.06-.94-.94-2.06-.94 2.06-2.06.94zm-11 1L8.5 8.5l.94-2.06 2.06-.94-2.06-.94L8.5 2.5l-.94 2.06-2.06.94zm10 10l.94 2.06.94-2.06 2.06-.94-2.06-.94-.94-2.06-.94 2.06-2.06.94z\"/><path d=\"M17.41 7.96l-1.37-1.37c-.4-.4-.92-.59-1.43-.59-.52 0-1.04.2-1.43.59L10.3 9.45l-7.72 7.72c-.78.78-.78 2.05 0 2.83L4 21.41c.39.39.9.59 1.41.59.51 0 1.02-.2 1.41-.59l7.78-7.78 2.81-2.81c.8-.78.8-2.07 0-2.86zM5.41 20L4 18.59l7.72-7.72 1.47 1.35L5.41 20z\"/>\n",
              "  </svg>\n",
              "      </button>\n",
              "      \n",
              "  <style>\n",
              "    .colab-df-container {\n",
              "      display:flex;\n",
              "      flex-wrap:wrap;\n",
              "      gap: 12px;\n",
              "    }\n",
              "\n",
              "    .colab-df-convert {\n",
              "      background-color: #E8F0FE;\n",
              "      border: none;\n",
              "      border-radius: 50%;\n",
              "      cursor: pointer;\n",
              "      display: none;\n",
              "      fill: #1967D2;\n",
              "      height: 32px;\n",
              "      padding: 0 0 0 0;\n",
              "      width: 32px;\n",
              "    }\n",
              "\n",
              "    .colab-df-convert:hover {\n",
              "      background-color: #E2EBFA;\n",
              "      box-shadow: 0px 1px 2px rgba(60, 64, 67, 0.3), 0px 1px 3px 1px rgba(60, 64, 67, 0.15);\n",
              "      fill: #174EA6;\n",
              "    }\n",
              "\n",
              "    [theme=dark] .colab-df-convert {\n",
              "      background-color: #3B4455;\n",
              "      fill: #D2E3FC;\n",
              "    }\n",
              "\n",
              "    [theme=dark] .colab-df-convert:hover {\n",
              "      background-color: #434B5C;\n",
              "      box-shadow: 0px 1px 3px 1px rgba(0, 0, 0, 0.15);\n",
              "      filter: drop-shadow(0px 1px 2px rgba(0, 0, 0, 0.3));\n",
              "      fill: #FFFFFF;\n",
              "    }\n",
              "  </style>\n",
              "\n",
              "      <script>\n",
              "        const buttonEl =\n",
              "          document.querySelector('#df-10667e61-74e8-4877-bc62-6fd9fba4a039 button.colab-df-convert');\n",
              "        buttonEl.style.display =\n",
              "          google.colab.kernel.accessAllowed ? 'block' : 'none';\n",
              "\n",
              "        async function convertToInteractive(key) {\n",
              "          const element = document.querySelector('#df-10667e61-74e8-4877-bc62-6fd9fba4a039');\n",
              "          const dataTable =\n",
              "            await google.colab.kernel.invokeFunction('convertToInteractive',\n",
              "                                                     [key], {});\n",
              "          if (!dataTable) return;\n",
              "\n",
              "          const docLinkHtml = 'Like what you see? Visit the ' +\n",
              "            '<a target=\"_blank\" href=https://colab.research.google.com/notebooks/data_table.ipynb>data table notebook</a>'\n",
              "            + ' to learn more about interactive tables.';\n",
              "          element.innerHTML = '';\n",
              "          dataTable['output_type'] = 'display_data';\n",
              "          await google.colab.output.renderOutput(dataTable, element);\n",
              "          const docLink = document.createElement('div');\n",
              "          docLink.innerHTML = docLinkHtml;\n",
              "          element.appendChild(docLink);\n",
              "        }\n",
              "      </script>\n",
              "    </div>\n",
              "  </div>\n",
              "  "
            ]
          },
          "metadata": {},
          "execution_count": 42
        }
      ]
    },
    {
      "cell_type": "code",
      "source": [
        "prio_df3_normalizado = prio_df3.copy()\n",
        "for i in prio_df3:\n",
        "  prio_df3_normalizado[i] = prio_df3[i] / prio_df3[i][0]\n",
        "prio_df3_normalizado"
      ],
      "metadata": {
        "colab": {
          "base_uri": "https://localhost:8080/",
          "height": 423
        },
        "id": "kTS-uU2YX-_m",
        "outputId": "4642c9d3-d5ad-4268-83d9-cff9ce881566"
      },
      "execution_count": null,
      "outputs": [
        {
          "output_type": "execute_result",
          "data": {
            "text/plain": [
              "          Close\n",
              "0      1.000000\n",
              "1      0.925000\n",
              "2      0.834091\n",
              "3      0.831818\n",
              "4      0.859091\n",
              "...         ...\n",
              "1983  80.659095\n",
              "1984  80.545452\n",
              "1985  80.863641\n",
              "1986  84.659091\n",
              "1987  84.568180\n",
              "\n",
              "[1988 rows x 1 columns]"
            ],
            "text/html": [
              "\n",
              "  <div id=\"df-bc459901-e0e8-4f98-b312-607138505b93\">\n",
              "    <div class=\"colab-df-container\">\n",
              "      <div>\n",
              "<style scoped>\n",
              "    .dataframe tbody tr th:only-of-type {\n",
              "        vertical-align: middle;\n",
              "    }\n",
              "\n",
              "    .dataframe tbody tr th {\n",
              "        vertical-align: top;\n",
              "    }\n",
              "\n",
              "    .dataframe thead th {\n",
              "        text-align: right;\n",
              "    }\n",
              "</style>\n",
              "<table border=\"1\" class=\"dataframe\">\n",
              "  <thead>\n",
              "    <tr style=\"text-align: right;\">\n",
              "      <th></th>\n",
              "      <th>Close</th>\n",
              "    </tr>\n",
              "  </thead>\n",
              "  <tbody>\n",
              "    <tr>\n",
              "      <th>0</th>\n",
              "      <td>1.000000</td>\n",
              "    </tr>\n",
              "    <tr>\n",
              "      <th>1</th>\n",
              "      <td>0.925000</td>\n",
              "    </tr>\n",
              "    <tr>\n",
              "      <th>2</th>\n",
              "      <td>0.834091</td>\n",
              "    </tr>\n",
              "    <tr>\n",
              "      <th>3</th>\n",
              "      <td>0.831818</td>\n",
              "    </tr>\n",
              "    <tr>\n",
              "      <th>4</th>\n",
              "      <td>0.859091</td>\n",
              "    </tr>\n",
              "    <tr>\n",
              "      <th>...</th>\n",
              "      <td>...</td>\n",
              "    </tr>\n",
              "    <tr>\n",
              "      <th>1983</th>\n",
              "      <td>80.659095</td>\n",
              "    </tr>\n",
              "    <tr>\n",
              "      <th>1984</th>\n",
              "      <td>80.545452</td>\n",
              "    </tr>\n",
              "    <tr>\n",
              "      <th>1985</th>\n",
              "      <td>80.863641</td>\n",
              "    </tr>\n",
              "    <tr>\n",
              "      <th>1986</th>\n",
              "      <td>84.659091</td>\n",
              "    </tr>\n",
              "    <tr>\n",
              "      <th>1987</th>\n",
              "      <td>84.568180</td>\n",
              "    </tr>\n",
              "  </tbody>\n",
              "</table>\n",
              "<p>1988 rows × 1 columns</p>\n",
              "</div>\n",
              "      <button class=\"colab-df-convert\" onclick=\"convertToInteractive('df-bc459901-e0e8-4f98-b312-607138505b93')\"\n",
              "              title=\"Convert this dataframe to an interactive table.\"\n",
              "              style=\"display:none;\">\n",
              "        \n",
              "  <svg xmlns=\"http://www.w3.org/2000/svg\" height=\"24px\"viewBox=\"0 0 24 24\"\n",
              "       width=\"24px\">\n",
              "    <path d=\"M0 0h24v24H0V0z\" fill=\"none\"/>\n",
              "    <path d=\"M18.56 5.44l.94 2.06.94-2.06 2.06-.94-2.06-.94-.94-2.06-.94 2.06-2.06.94zm-11 1L8.5 8.5l.94-2.06 2.06-.94-2.06-.94L8.5 2.5l-.94 2.06-2.06.94zm10 10l.94 2.06.94-2.06 2.06-.94-2.06-.94-.94-2.06-.94 2.06-2.06.94z\"/><path d=\"M17.41 7.96l-1.37-1.37c-.4-.4-.92-.59-1.43-.59-.52 0-1.04.2-1.43.59L10.3 9.45l-7.72 7.72c-.78.78-.78 2.05 0 2.83L4 21.41c.39.39.9.59 1.41.59.51 0 1.02-.2 1.41-.59l7.78-7.78 2.81-2.81c.8-.78.8-2.07 0-2.86zM5.41 20L4 18.59l7.72-7.72 1.47 1.35L5.41 20z\"/>\n",
              "  </svg>\n",
              "      </button>\n",
              "      \n",
              "  <style>\n",
              "    .colab-df-container {\n",
              "      display:flex;\n",
              "      flex-wrap:wrap;\n",
              "      gap: 12px;\n",
              "    }\n",
              "\n",
              "    .colab-df-convert {\n",
              "      background-color: #E8F0FE;\n",
              "      border: none;\n",
              "      border-radius: 50%;\n",
              "      cursor: pointer;\n",
              "      display: none;\n",
              "      fill: #1967D2;\n",
              "      height: 32px;\n",
              "      padding: 0 0 0 0;\n",
              "      width: 32px;\n",
              "    }\n",
              "\n",
              "    .colab-df-convert:hover {\n",
              "      background-color: #E2EBFA;\n",
              "      box-shadow: 0px 1px 2px rgba(60, 64, 67, 0.3), 0px 1px 3px 1px rgba(60, 64, 67, 0.15);\n",
              "      fill: #174EA6;\n",
              "    }\n",
              "\n",
              "    [theme=dark] .colab-df-convert {\n",
              "      background-color: #3B4455;\n",
              "      fill: #D2E3FC;\n",
              "    }\n",
              "\n",
              "    [theme=dark] .colab-df-convert:hover {\n",
              "      background-color: #434B5C;\n",
              "      box-shadow: 0px 1px 3px 1px rgba(0, 0, 0, 0.15);\n",
              "      filter: drop-shadow(0px 1px 2px rgba(0, 0, 0, 0.3));\n",
              "      fill: #FFFFFF;\n",
              "    }\n",
              "  </style>\n",
              "\n",
              "      <script>\n",
              "        const buttonEl =\n",
              "          document.querySelector('#df-bc459901-e0e8-4f98-b312-607138505b93 button.colab-df-convert');\n",
              "        buttonEl.style.display =\n",
              "          google.colab.kernel.accessAllowed ? 'block' : 'none';\n",
              "\n",
              "        async function convertToInteractive(key) {\n",
              "          const element = document.querySelector('#df-bc459901-e0e8-4f98-b312-607138505b93');\n",
              "          const dataTable =\n",
              "            await google.colab.kernel.invokeFunction('convertToInteractive',\n",
              "                                                     [key], {});\n",
              "          if (!dataTable) return;\n",
              "\n",
              "          const docLinkHtml = 'Like what you see? Visit the ' +\n",
              "            '<a target=\"_blank\" href=https://colab.research.google.com/notebooks/data_table.ipynb>data table notebook</a>'\n",
              "            + ' to learn more about interactive tables.';\n",
              "          element.innerHTML = '';\n",
              "          dataTable['output_type'] = 'display_data';\n",
              "          await google.colab.output.renderOutput(dataTable, element);\n",
              "          const docLink = document.createElement('div');\n",
              "          docLink.innerHTML = docLinkHtml;\n",
              "          element.appendChild(docLink);\n",
              "        }\n",
              "      </script>\n",
              "    </div>\n",
              "  </div>\n",
              "  "
            ]
          },
          "metadata": {},
          "execution_count": 43
        }
      ]
    },
    {
      "cell_type": "code",
      "source": [
        "prio_df3_taxa_retorno = np.log(1 + prio_df3_normalizado.pct_change())\n",
        "prio_df3_taxa_retorno"
      ],
      "metadata": {
        "colab": {
          "base_uri": "https://localhost:8080/",
          "height": 423
        },
        "id": "JYGek0kcZTJI",
        "outputId": "90f4e5e8-1bb4-481f-fec8-0e59a37465fc"
      },
      "execution_count": null,
      "outputs": [
        {
          "output_type": "execute_result",
          "data": {
            "text/plain": [
              "         Close\n",
              "0          NaN\n",
              "1    -0.077962\n",
              "2    -0.103451\n",
              "3    -0.002729\n",
              "4     0.032261\n",
              "...        ...\n",
              "1983  0.006502\n",
              "1984 -0.001410\n",
              "1985  0.003943\n",
              "1986  0.045868\n",
              "1987 -0.001074\n",
              "\n",
              "[1988 rows x 1 columns]"
            ],
            "text/html": [
              "\n",
              "  <div id=\"df-733c15ca-13e8-4a66-80f2-4bde2b537d9e\">\n",
              "    <div class=\"colab-df-container\">\n",
              "      <div>\n",
              "<style scoped>\n",
              "    .dataframe tbody tr th:only-of-type {\n",
              "        vertical-align: middle;\n",
              "    }\n",
              "\n",
              "    .dataframe tbody tr th {\n",
              "        vertical-align: top;\n",
              "    }\n",
              "\n",
              "    .dataframe thead th {\n",
              "        text-align: right;\n",
              "    }\n",
              "</style>\n",
              "<table border=\"1\" class=\"dataframe\">\n",
              "  <thead>\n",
              "    <tr style=\"text-align: right;\">\n",
              "      <th></th>\n",
              "      <th>Close</th>\n",
              "    </tr>\n",
              "  </thead>\n",
              "  <tbody>\n",
              "    <tr>\n",
              "      <th>0</th>\n",
              "      <td>NaN</td>\n",
              "    </tr>\n",
              "    <tr>\n",
              "      <th>1</th>\n",
              "      <td>-0.077962</td>\n",
              "    </tr>\n",
              "    <tr>\n",
              "      <th>2</th>\n",
              "      <td>-0.103451</td>\n",
              "    </tr>\n",
              "    <tr>\n",
              "      <th>3</th>\n",
              "      <td>-0.002729</td>\n",
              "    </tr>\n",
              "    <tr>\n",
              "      <th>4</th>\n",
              "      <td>0.032261</td>\n",
              "    </tr>\n",
              "    <tr>\n",
              "      <th>...</th>\n",
              "      <td>...</td>\n",
              "    </tr>\n",
              "    <tr>\n",
              "      <th>1983</th>\n",
              "      <td>0.006502</td>\n",
              "    </tr>\n",
              "    <tr>\n",
              "      <th>1984</th>\n",
              "      <td>-0.001410</td>\n",
              "    </tr>\n",
              "    <tr>\n",
              "      <th>1985</th>\n",
              "      <td>0.003943</td>\n",
              "    </tr>\n",
              "    <tr>\n",
              "      <th>1986</th>\n",
              "      <td>0.045868</td>\n",
              "    </tr>\n",
              "    <tr>\n",
              "      <th>1987</th>\n",
              "      <td>-0.001074</td>\n",
              "    </tr>\n",
              "  </tbody>\n",
              "</table>\n",
              "<p>1988 rows × 1 columns</p>\n",
              "</div>\n",
              "      <button class=\"colab-df-convert\" onclick=\"convertToInteractive('df-733c15ca-13e8-4a66-80f2-4bde2b537d9e')\"\n",
              "              title=\"Convert this dataframe to an interactive table.\"\n",
              "              style=\"display:none;\">\n",
              "        \n",
              "  <svg xmlns=\"http://www.w3.org/2000/svg\" height=\"24px\"viewBox=\"0 0 24 24\"\n",
              "       width=\"24px\">\n",
              "    <path d=\"M0 0h24v24H0V0z\" fill=\"none\"/>\n",
              "    <path d=\"M18.56 5.44l.94 2.06.94-2.06 2.06-.94-2.06-.94-.94-2.06-.94 2.06-2.06.94zm-11 1L8.5 8.5l.94-2.06 2.06-.94-2.06-.94L8.5 2.5l-.94 2.06-2.06.94zm10 10l.94 2.06.94-2.06 2.06-.94-2.06-.94-.94-2.06-.94 2.06-2.06.94z\"/><path d=\"M17.41 7.96l-1.37-1.37c-.4-.4-.92-.59-1.43-.59-.52 0-1.04.2-1.43.59L10.3 9.45l-7.72 7.72c-.78.78-.78 2.05 0 2.83L4 21.41c.39.39.9.59 1.41.59.51 0 1.02-.2 1.41-.59l7.78-7.78 2.81-2.81c.8-.78.8-2.07 0-2.86zM5.41 20L4 18.59l7.72-7.72 1.47 1.35L5.41 20z\"/>\n",
              "  </svg>\n",
              "      </button>\n",
              "      \n",
              "  <style>\n",
              "    .colab-df-container {\n",
              "      display:flex;\n",
              "      flex-wrap:wrap;\n",
              "      gap: 12px;\n",
              "    }\n",
              "\n",
              "    .colab-df-convert {\n",
              "      background-color: #E8F0FE;\n",
              "      border: none;\n",
              "      border-radius: 50%;\n",
              "      cursor: pointer;\n",
              "      display: none;\n",
              "      fill: #1967D2;\n",
              "      height: 32px;\n",
              "      padding: 0 0 0 0;\n",
              "      width: 32px;\n",
              "    }\n",
              "\n",
              "    .colab-df-convert:hover {\n",
              "      background-color: #E2EBFA;\n",
              "      box-shadow: 0px 1px 2px rgba(60, 64, 67, 0.3), 0px 1px 3px 1px rgba(60, 64, 67, 0.15);\n",
              "      fill: #174EA6;\n",
              "    }\n",
              "\n",
              "    [theme=dark] .colab-df-convert {\n",
              "      background-color: #3B4455;\n",
              "      fill: #D2E3FC;\n",
              "    }\n",
              "\n",
              "    [theme=dark] .colab-df-convert:hover {\n",
              "      background-color: #434B5C;\n",
              "      box-shadow: 0px 1px 3px 1px rgba(0, 0, 0, 0.15);\n",
              "      filter: drop-shadow(0px 1px 2px rgba(0, 0, 0, 0.3));\n",
              "      fill: #FFFFFF;\n",
              "    }\n",
              "  </style>\n",
              "\n",
              "      <script>\n",
              "        const buttonEl =\n",
              "          document.querySelector('#df-733c15ca-13e8-4a66-80f2-4bde2b537d9e button.colab-df-convert');\n",
              "        buttonEl.style.display =\n",
              "          google.colab.kernel.accessAllowed ? 'block' : 'none';\n",
              "\n",
              "        async function convertToInteractive(key) {\n",
              "          const element = document.querySelector('#df-733c15ca-13e8-4a66-80f2-4bde2b537d9e');\n",
              "          const dataTable =\n",
              "            await google.colab.kernel.invokeFunction('convertToInteractive',\n",
              "                                                     [key], {});\n",
              "          if (!dataTable) return;\n",
              "\n",
              "          const docLinkHtml = 'Like what you see? Visit the ' +\n",
              "            '<a target=\"_blank\" href=https://colab.research.google.com/notebooks/data_table.ipynb>data table notebook</a>'\n",
              "            + ' to learn more about interactive tables.';\n",
              "          element.innerHTML = '';\n",
              "          dataTable['output_type'] = 'display_data';\n",
              "          await google.colab.output.renderOutput(dataTable, element);\n",
              "          const docLink = document.createElement('div');\n",
              "          docLink.innerHTML = docLinkHtml;\n",
              "          element.appendChild(docLink);\n",
              "        }\n",
              "      </script>\n",
              "    </div>\n",
              "  </div>\n",
              "  "
            ]
          },
          "metadata": {},
          "execution_count": 44
        }
      ]
    },
    {
      "cell_type": "code",
      "source": [
        "prio_df3_taxa_retorno.fillna(0, inplace=True)\n",
        "prio_df3_taxa_retorno"
      ],
      "metadata": {
        "colab": {
          "base_uri": "https://localhost:8080/",
          "height": 423
        },
        "id": "4K0q2uL9Zbfv",
        "outputId": "f1b869cf-fdd3-4ed2-dccf-947bb83f2396"
      },
      "execution_count": null,
      "outputs": [
        {
          "output_type": "execute_result",
          "data": {
            "text/plain": [
              "         Close\n",
              "0     0.000000\n",
              "1    -0.077962\n",
              "2    -0.103451\n",
              "3    -0.002729\n",
              "4     0.032261\n",
              "...        ...\n",
              "1983  0.006502\n",
              "1984 -0.001410\n",
              "1985  0.003943\n",
              "1986  0.045868\n",
              "1987 -0.001074\n",
              "\n",
              "[1988 rows x 1 columns]"
            ],
            "text/html": [
              "\n",
              "  <div id=\"df-8633f853-c46a-4dba-8ae1-8c0120132a2c\">\n",
              "    <div class=\"colab-df-container\">\n",
              "      <div>\n",
              "<style scoped>\n",
              "    .dataframe tbody tr th:only-of-type {\n",
              "        vertical-align: middle;\n",
              "    }\n",
              "\n",
              "    .dataframe tbody tr th {\n",
              "        vertical-align: top;\n",
              "    }\n",
              "\n",
              "    .dataframe thead th {\n",
              "        text-align: right;\n",
              "    }\n",
              "</style>\n",
              "<table border=\"1\" class=\"dataframe\">\n",
              "  <thead>\n",
              "    <tr style=\"text-align: right;\">\n",
              "      <th></th>\n",
              "      <th>Close</th>\n",
              "    </tr>\n",
              "  </thead>\n",
              "  <tbody>\n",
              "    <tr>\n",
              "      <th>0</th>\n",
              "      <td>0.000000</td>\n",
              "    </tr>\n",
              "    <tr>\n",
              "      <th>1</th>\n",
              "      <td>-0.077962</td>\n",
              "    </tr>\n",
              "    <tr>\n",
              "      <th>2</th>\n",
              "      <td>-0.103451</td>\n",
              "    </tr>\n",
              "    <tr>\n",
              "      <th>3</th>\n",
              "      <td>-0.002729</td>\n",
              "    </tr>\n",
              "    <tr>\n",
              "      <th>4</th>\n",
              "      <td>0.032261</td>\n",
              "    </tr>\n",
              "    <tr>\n",
              "      <th>...</th>\n",
              "      <td>...</td>\n",
              "    </tr>\n",
              "    <tr>\n",
              "      <th>1983</th>\n",
              "      <td>0.006502</td>\n",
              "    </tr>\n",
              "    <tr>\n",
              "      <th>1984</th>\n",
              "      <td>-0.001410</td>\n",
              "    </tr>\n",
              "    <tr>\n",
              "      <th>1985</th>\n",
              "      <td>0.003943</td>\n",
              "    </tr>\n",
              "    <tr>\n",
              "      <th>1986</th>\n",
              "      <td>0.045868</td>\n",
              "    </tr>\n",
              "    <tr>\n",
              "      <th>1987</th>\n",
              "      <td>-0.001074</td>\n",
              "    </tr>\n",
              "  </tbody>\n",
              "</table>\n",
              "<p>1988 rows × 1 columns</p>\n",
              "</div>\n",
              "      <button class=\"colab-df-convert\" onclick=\"convertToInteractive('df-8633f853-c46a-4dba-8ae1-8c0120132a2c')\"\n",
              "              title=\"Convert this dataframe to an interactive table.\"\n",
              "              style=\"display:none;\">\n",
              "        \n",
              "  <svg xmlns=\"http://www.w3.org/2000/svg\" height=\"24px\"viewBox=\"0 0 24 24\"\n",
              "       width=\"24px\">\n",
              "    <path d=\"M0 0h24v24H0V0z\" fill=\"none\"/>\n",
              "    <path d=\"M18.56 5.44l.94 2.06.94-2.06 2.06-.94-2.06-.94-.94-2.06-.94 2.06-2.06.94zm-11 1L8.5 8.5l.94-2.06 2.06-.94-2.06-.94L8.5 2.5l-.94 2.06-2.06.94zm10 10l.94 2.06.94-2.06 2.06-.94-2.06-.94-.94-2.06-.94 2.06-2.06.94z\"/><path d=\"M17.41 7.96l-1.37-1.37c-.4-.4-.92-.59-1.43-.59-.52 0-1.04.2-1.43.59L10.3 9.45l-7.72 7.72c-.78.78-.78 2.05 0 2.83L4 21.41c.39.39.9.59 1.41.59.51 0 1.02-.2 1.41-.59l7.78-7.78 2.81-2.81c.8-.78.8-2.07 0-2.86zM5.41 20L4 18.59l7.72-7.72 1.47 1.35L5.41 20z\"/>\n",
              "  </svg>\n",
              "      </button>\n",
              "      \n",
              "  <style>\n",
              "    .colab-df-container {\n",
              "      display:flex;\n",
              "      flex-wrap:wrap;\n",
              "      gap: 12px;\n",
              "    }\n",
              "\n",
              "    .colab-df-convert {\n",
              "      background-color: #E8F0FE;\n",
              "      border: none;\n",
              "      border-radius: 50%;\n",
              "      cursor: pointer;\n",
              "      display: none;\n",
              "      fill: #1967D2;\n",
              "      height: 32px;\n",
              "      padding: 0 0 0 0;\n",
              "      width: 32px;\n",
              "    }\n",
              "\n",
              "    .colab-df-convert:hover {\n",
              "      background-color: #E2EBFA;\n",
              "      box-shadow: 0px 1px 2px rgba(60, 64, 67, 0.3), 0px 1px 3px 1px rgba(60, 64, 67, 0.15);\n",
              "      fill: #174EA6;\n",
              "    }\n",
              "\n",
              "    [theme=dark] .colab-df-convert {\n",
              "      background-color: #3B4455;\n",
              "      fill: #D2E3FC;\n",
              "    }\n",
              "\n",
              "    [theme=dark] .colab-df-convert:hover {\n",
              "      background-color: #434B5C;\n",
              "      box-shadow: 0px 1px 3px 1px rgba(0, 0, 0, 0.15);\n",
              "      filter: drop-shadow(0px 1px 2px rgba(0, 0, 0, 0.3));\n",
              "      fill: #FFFFFF;\n",
              "    }\n",
              "  </style>\n",
              "\n",
              "      <script>\n",
              "        const buttonEl =\n",
              "          document.querySelector('#df-8633f853-c46a-4dba-8ae1-8c0120132a2c button.colab-df-convert');\n",
              "        buttonEl.style.display =\n",
              "          google.colab.kernel.accessAllowed ? 'block' : 'none';\n",
              "\n",
              "        async function convertToInteractive(key) {\n",
              "          const element = document.querySelector('#df-8633f853-c46a-4dba-8ae1-8c0120132a2c');\n",
              "          const dataTable =\n",
              "            await google.colab.kernel.invokeFunction('convertToInteractive',\n",
              "                                                     [key], {});\n",
              "          if (!dataTable) return;\n",
              "\n",
              "          const docLinkHtml = 'Like what you see? Visit the ' +\n",
              "            '<a target=\"_blank\" href=https://colab.research.google.com/notebooks/data_table.ipynb>data table notebook</a>'\n",
              "            + ' to learn more about interactive tables.';\n",
              "          element.innerHTML = '';\n",
              "          dataTable['output_type'] = 'display_data';\n",
              "          await google.colab.output.renderOutput(dataTable, element);\n",
              "          const docLink = document.createElement('div');\n",
              "          docLink.innerHTML = docLinkHtml;\n",
              "          element.appendChild(docLink);\n",
              "        }\n",
              "      </script>\n",
              "    </div>\n",
              "  </div>\n",
              "  "
            ]
          },
          "metadata": {},
          "execution_count": 45
        }
      ]
    },
    {
      "cell_type": "markdown",
      "source": [
        "# 2. Cálculo do drift"
      ],
      "metadata": {
        "id": "Jj8henDQcfvT"
      }
    },
    {
      "cell_type": "code",
      "source": [
        "media = prio_df3_taxa_retorno.mean()\n",
        "media"
      ],
      "metadata": {
        "colab": {
          "base_uri": "https://localhost:8080/"
        },
        "id": "0XF0kjCOZx3p",
        "outputId": "7f61ef7f-d393-4197-e5cb-41f5830f5e96"
      },
      "execution_count": null,
      "outputs": [
        {
          "output_type": "execute_result",
          "data": {
            "text/plain": [
              "Close    0.002232\n",
              "dtype: float64"
            ]
          },
          "metadata": {},
          "execution_count": 46
        }
      ]
    },
    {
      "cell_type": "code",
      "source": [
        "variancia = prio_df3_taxa_retorno.var()\n",
        "variancia"
      ],
      "metadata": {
        "colab": {
          "base_uri": "https://localhost:8080/"
        },
        "id": "iYb9hIHwZ4KU",
        "outputId": "b9279791-57f2-41f3-afb6-798fcc2bd530"
      },
      "execution_count": null,
      "outputs": [
        {
          "output_type": "execute_result",
          "data": {
            "text/plain": [
              "Close    0.002169\n",
              "dtype: float64"
            ]
          },
          "metadata": {},
          "execution_count": 47
        }
      ]
    },
    {
      "cell_type": "code",
      "source": [
        "drift = media - (0.5 * variancia)\n",
        "drift"
      ],
      "metadata": {
        "colab": {
          "base_uri": "https://localhost:8080/"
        },
        "id": "2brs8M_tbK9N",
        "outputId": "7b4b201f-2696-4b35-8090-782c0b99d71d"
      },
      "execution_count": null,
      "outputs": [
        {
          "output_type": "execute_result",
          "data": {
            "text/plain": [
              "Close    0.001148\n",
              "dtype: float64"
            ]
          },
          "metadata": {},
          "execution_count": 48
        }
      ]
    },
    {
      "cell_type": "markdown",
      "source": [
        "## 2.x. Definindo a Quantidade de dias e simulações"
      ],
      "metadata": {
        "id": "5saMAwLjjpoa"
      }
    },
    {
      "cell_type": "code",
      "source": [
        "dias_frente = 30\n",
        "simulacoes = 100"
      ],
      "metadata": {
        "id": "8LbBMT6VaC-b"
      },
      "execution_count": null,
      "outputs": []
    },
    {
      "cell_type": "code",
      "source": [
        "desvio_padrao = prio_df3_taxa_retorno.std()\n",
        "desvio_padrao"
      ],
      "metadata": {
        "colab": {
          "base_uri": "https://localhost:8080/"
        },
        "id": "8bDdpWBFaLpj",
        "outputId": "e60bd190-7b64-4768-d1b1-0eb2e1406198"
      },
      "execution_count": null,
      "outputs": [
        {
          "output_type": "execute_result",
          "data": {
            "text/plain": [
              "Close    0.046572\n",
              "dtype: float64"
            ]
          },
          "metadata": {},
          "execution_count": 50
        }
      ]
    },
    {
      "cell_type": "code",
      "source": [
        "Z = stats.norm.ppf(np.random.rand(dias_frente, simulacoes))"
      ],
      "metadata": {
        "id": "i_cgQU3EZ3_Z"
      },
      "execution_count": null,
      "outputs": []
    },
    {
      "cell_type": "code",
      "source": [
        "Z.shape"
      ],
      "metadata": {
        "colab": {
          "base_uri": "https://localhost:8080/"
        },
        "id": "aes9HGrCaTz-",
        "outputId": "2644e722-1257-49f7-afbe-8280a454fcfc"
      },
      "execution_count": null,
      "outputs": [
        {
          "output_type": "execute_result",
          "data": {
            "text/plain": [
              "(30, 100)"
            ]
          },
          "metadata": {},
          "execution_count": 52
        }
      ]
    },
    {
      "cell_type": "code",
      "source": [
        "Z"
      ],
      "metadata": {
        "colab": {
          "base_uri": "https://localhost:8080/"
        },
        "id": "9hsj-u5laXPG",
        "outputId": "5cd460ef-787e-4a8c-dc85-987165a21b79"
      },
      "execution_count": null,
      "outputs": [
        {
          "output_type": "execute_result",
          "data": {
            "text/plain": [
              "array([[ 1.2474585 , -2.22856531,  0.26449133, ..., -1.87504653,\n",
              "        -1.99312336, -1.80137339],\n",
              "       [-1.0256804 , -1.07867235,  0.69459959, ..., -1.48906026,\n",
              "        -1.97266388, -0.55071699],\n",
              "       [ 0.45192435,  0.95430679,  0.61309566, ...,  0.6270165 ,\n",
              "         0.36689461, -0.43279443],\n",
              "       ...,\n",
              "       [-0.61012584, -1.11791737, -1.08555397, ..., -0.58330955,\n",
              "        -1.36883908,  0.77507938],\n",
              "       [-0.6404183 , -0.09100343, -0.50883957, ...,  0.02712715,\n",
              "        -0.28526589,  0.50863419],\n",
              "       [ 0.53251932, -0.10379691,  0.87764938, ..., -0.32458404,\n",
              "        -0.98204044, -0.02847167]])"
            ]
          },
          "metadata": {},
          "execution_count": 53
        }
      ]
    },
    {
      "cell_type": "code",
      "source": [
        "retornos_diarios = np.exp(drift.values + desvio_padrao.values * Z)"
      ],
      "metadata": {
        "id": "KchRKRGaadEe"
      },
      "execution_count": null,
      "outputs": []
    },
    {
      "cell_type": "code",
      "source": [
        "retornos_diarios.shape"
      ],
      "metadata": {
        "colab": {
          "base_uri": "https://localhost:8080/"
        },
        "id": "5UITTrmkbRiT",
        "outputId": "ace3757c-a12e-48d8-bce2-7214d5201361"
      },
      "execution_count": null,
      "outputs": [
        {
          "output_type": "execute_result",
          "data": {
            "text/plain": [
              "(30, 100)"
            ]
          },
          "metadata": {},
          "execution_count": 55
        }
      ]
    },
    {
      "cell_type": "code",
      "source": [
        "retornos_diarios"
      ],
      "metadata": {
        "colab": {
          "base_uri": "https://localhost:8080/"
        },
        "id": "y6-IgTJObWNt",
        "outputId": "34805520-23d8-4185-f431-9d3552f687c4"
      },
      "execution_count": null,
      "outputs": [
        {
          "output_type": "execute_result",
          "data": {
            "text/plain": [
              "array([[1.06103481, 0.90245028, 1.01355672, ..., 0.91743137, 0.91240016,\n",
              "        0.9205846 ],\n",
              "       [0.95444946, 0.95209682, 1.0340641 , ..., 0.93407248, 0.91326995,\n",
              "        0.97579724],\n",
              "       [1.02244297, 1.04664721, 1.03014642, ..., 1.0308145 , 1.01840207,\n",
              "        0.98117098],\n",
              "       ...,\n",
              "       [0.97310113, 0.95035824, 0.95179173, ..., 0.97431719, 0.93931699,\n",
              "        1.03794718],\n",
              "       [0.97172926, 0.99691422, 0.97770222, ..., 1.00241397, 0.98793557,\n",
              "        1.02514692],\n",
              "       [1.02628791, 0.99632041, 1.04291723, ..., 0.98612818, 0.95639127,\n",
              "        0.99982171]])"
            ]
          },
          "metadata": {},
          "execution_count": 56
        }
      ]
    },
    {
      "cell_type": "markdown",
      "source": [
        "# 3. Previsões de preços futuros"
      ],
      "metadata": {
        "id": "HT8qTwgodCUn"
      }
    },
    {
      "cell_type": "code",
      "source": [
        "previsoes = np.zeros_like(retornos_diarios)"
      ],
      "metadata": {
        "id": "QzB83DHxdIN9"
      },
      "execution_count": null,
      "outputs": []
    },
    {
      "cell_type": "code",
      "source": [
        "previsoes.shape"
      ],
      "metadata": {
        "colab": {
          "base_uri": "https://localhost:8080/"
        },
        "id": "FhoUBzxUdJvH",
        "outputId": "ff60bc80-5ab8-4d91-b3dd-0bce68ba70f6"
      },
      "execution_count": null,
      "outputs": [
        {
          "output_type": "execute_result",
          "data": {
            "text/plain": [
              "(30, 100)"
            ]
          },
          "metadata": {},
          "execution_count": 58
        }
      ]
    },
    {
      "cell_type": "code",
      "source": [
        "previsoes"
      ],
      "metadata": {
        "colab": {
          "base_uri": "https://localhost:8080/"
        },
        "id": "DpR6fcUqdMMJ",
        "outputId": "fc3c28be-25dc-4e08-db19-76ea4f9b5dab"
      },
      "execution_count": null,
      "outputs": [
        {
          "output_type": "execute_result",
          "data": {
            "text/plain": [
              "array([[0., 0., 0., ..., 0., 0., 0.],\n",
              "       [0., 0., 0., ..., 0., 0., 0.],\n",
              "       [0., 0., 0., ..., 0., 0., 0.],\n",
              "       ...,\n",
              "       [0., 0., 0., ..., 0., 0., 0.],\n",
              "       [0., 0., 0., ..., 0., 0., 0.],\n",
              "       [0., 0., 0., ..., 0., 0., 0.]])"
            ]
          },
          "metadata": {},
          "execution_count": 59
        }
      ]
    },
    {
      "cell_type": "code",
      "source": [
        "previsoes[0]"
      ],
      "metadata": {
        "colab": {
          "base_uri": "https://localhost:8080/"
        },
        "id": "4rbwB_mvdPpZ",
        "outputId": "4c438650-13e3-4cf5-bf26-475d546297fb"
      },
      "execution_count": null,
      "outputs": [
        {
          "output_type": "execute_result",
          "data": {
            "text/plain": [
              "array([0., 0., 0., 0., 0., 0., 0., 0., 0., 0., 0., 0., 0., 0., 0., 0., 0.,\n",
              "       0., 0., 0., 0., 0., 0., 0., 0., 0., 0., 0., 0., 0., 0., 0., 0., 0.,\n",
              "       0., 0., 0., 0., 0., 0., 0., 0., 0., 0., 0., 0., 0., 0., 0., 0., 0.,\n",
              "       0., 0., 0., 0., 0., 0., 0., 0., 0., 0., 0., 0., 0., 0., 0., 0., 0.,\n",
              "       0., 0., 0., 0., 0., 0., 0., 0., 0., 0., 0., 0., 0., 0., 0., 0., 0.,\n",
              "       0., 0., 0., 0., 0., 0., 0., 0., 0., 0., 0., 0., 0., 0., 0.])"
            ]
          },
          "metadata": {},
          "execution_count": 60
        }
      ]
    },
    {
      "cell_type": "code",
      "source": [
        "prio_df3.tail(1)"
      ],
      "metadata": {
        "colab": {
          "base_uri": "https://localhost:8080/",
          "height": 80
        },
        "id": "yhpy_lyAdRv0",
        "outputId": "10807745-883e-4013-c498-797e72a34c12"
      },
      "execution_count": null,
      "outputs": [
        {
          "output_type": "execute_result",
          "data": {
            "text/plain": [
              "          Close\n",
              "1987  37.209999"
            ],
            "text/html": [
              "\n",
              "  <div id=\"df-44676bbc-c310-423b-b2e9-0d5fd18fcc8e\">\n",
              "    <div class=\"colab-df-container\">\n",
              "      <div>\n",
              "<style scoped>\n",
              "    .dataframe tbody tr th:only-of-type {\n",
              "        vertical-align: middle;\n",
              "    }\n",
              "\n",
              "    .dataframe tbody tr th {\n",
              "        vertical-align: top;\n",
              "    }\n",
              "\n",
              "    .dataframe thead th {\n",
              "        text-align: right;\n",
              "    }\n",
              "</style>\n",
              "<table border=\"1\" class=\"dataframe\">\n",
              "  <thead>\n",
              "    <tr style=\"text-align: right;\">\n",
              "      <th></th>\n",
              "      <th>Close</th>\n",
              "    </tr>\n",
              "  </thead>\n",
              "  <tbody>\n",
              "    <tr>\n",
              "      <th>1987</th>\n",
              "      <td>37.209999</td>\n",
              "    </tr>\n",
              "  </tbody>\n",
              "</table>\n",
              "</div>\n",
              "      <button class=\"colab-df-convert\" onclick=\"convertToInteractive('df-44676bbc-c310-423b-b2e9-0d5fd18fcc8e')\"\n",
              "              title=\"Convert this dataframe to an interactive table.\"\n",
              "              style=\"display:none;\">\n",
              "        \n",
              "  <svg xmlns=\"http://www.w3.org/2000/svg\" height=\"24px\"viewBox=\"0 0 24 24\"\n",
              "       width=\"24px\">\n",
              "    <path d=\"M0 0h24v24H0V0z\" fill=\"none\"/>\n",
              "    <path d=\"M18.56 5.44l.94 2.06.94-2.06 2.06-.94-2.06-.94-.94-2.06-.94 2.06-2.06.94zm-11 1L8.5 8.5l.94-2.06 2.06-.94-2.06-.94L8.5 2.5l-.94 2.06-2.06.94zm10 10l.94 2.06.94-2.06 2.06-.94-2.06-.94-.94-2.06-.94 2.06-2.06.94z\"/><path d=\"M17.41 7.96l-1.37-1.37c-.4-.4-.92-.59-1.43-.59-.52 0-1.04.2-1.43.59L10.3 9.45l-7.72 7.72c-.78.78-.78 2.05 0 2.83L4 21.41c.39.39.9.59 1.41.59.51 0 1.02-.2 1.41-.59l7.78-7.78 2.81-2.81c.8-.78.8-2.07 0-2.86zM5.41 20L4 18.59l7.72-7.72 1.47 1.35L5.41 20z\"/>\n",
              "  </svg>\n",
              "      </button>\n",
              "      \n",
              "  <style>\n",
              "    .colab-df-container {\n",
              "      display:flex;\n",
              "      flex-wrap:wrap;\n",
              "      gap: 12px;\n",
              "    }\n",
              "\n",
              "    .colab-df-convert {\n",
              "      background-color: #E8F0FE;\n",
              "      border: none;\n",
              "      border-radius: 50%;\n",
              "      cursor: pointer;\n",
              "      display: none;\n",
              "      fill: #1967D2;\n",
              "      height: 32px;\n",
              "      padding: 0 0 0 0;\n",
              "      width: 32px;\n",
              "    }\n",
              "\n",
              "    .colab-df-convert:hover {\n",
              "      background-color: #E2EBFA;\n",
              "      box-shadow: 0px 1px 2px rgba(60, 64, 67, 0.3), 0px 1px 3px 1px rgba(60, 64, 67, 0.15);\n",
              "      fill: #174EA6;\n",
              "    }\n",
              "\n",
              "    [theme=dark] .colab-df-convert {\n",
              "      background-color: #3B4455;\n",
              "      fill: #D2E3FC;\n",
              "    }\n",
              "\n",
              "    [theme=dark] .colab-df-convert:hover {\n",
              "      background-color: #434B5C;\n",
              "      box-shadow: 0px 1px 3px 1px rgba(0, 0, 0, 0.15);\n",
              "      filter: drop-shadow(0px 1px 2px rgba(0, 0, 0, 0.3));\n",
              "      fill: #FFFFFF;\n",
              "    }\n",
              "  </style>\n",
              "\n",
              "      <script>\n",
              "        const buttonEl =\n",
              "          document.querySelector('#df-44676bbc-c310-423b-b2e9-0d5fd18fcc8e button.colab-df-convert');\n",
              "        buttonEl.style.display =\n",
              "          google.colab.kernel.accessAllowed ? 'block' : 'none';\n",
              "\n",
              "        async function convertToInteractive(key) {\n",
              "          const element = document.querySelector('#df-44676bbc-c310-423b-b2e9-0d5fd18fcc8e');\n",
              "          const dataTable =\n",
              "            await google.colab.kernel.invokeFunction('convertToInteractive',\n",
              "                                                     [key], {});\n",
              "          if (!dataTable) return;\n",
              "\n",
              "          const docLinkHtml = 'Like what you see? Visit the ' +\n",
              "            '<a target=\"_blank\" href=https://colab.research.google.com/notebooks/data_table.ipynb>data table notebook</a>'\n",
              "            + ' to learn more about interactive tables.';\n",
              "          element.innerHTML = '';\n",
              "          dataTable['output_type'] = 'display_data';\n",
              "          await google.colab.output.renderOutput(dataTable, element);\n",
              "          const docLink = document.createElement('div');\n",
              "          docLink.innerHTML = docLinkHtml;\n",
              "          element.appendChild(docLink);\n",
              "        }\n",
              "      </script>\n",
              "    </div>\n",
              "  </div>\n",
              "  "
            ]
          },
          "metadata": {},
          "execution_count": 61
        }
      ]
    },
    {
      "cell_type": "code",
      "source": [
        "prio_df3.iloc[-1]"
      ],
      "metadata": {
        "colab": {
          "base_uri": "https://localhost:8080/"
        },
        "id": "Xt8-DZfgdjAq",
        "outputId": "f450bf2c-3f86-4b34-eef7-9c99a2686f2f"
      },
      "execution_count": null,
      "outputs": [
        {
          "output_type": "execute_result",
          "data": {
            "text/plain": [
              "Close    37.209999\n",
              "Name: 1987, dtype: float64"
            ]
          },
          "metadata": {},
          "execution_count": 62
        }
      ]
    },
    {
      "cell_type": "code",
      "source": [
        "previsoes[0] = prio_df3.iloc[-1]\n",
        "previsoes"
      ],
      "metadata": {
        "colab": {
          "base_uri": "https://localhost:8080/"
        },
        "id": "d1116XRddnsr",
        "outputId": "d7cf3146-3245-499c-de09-e3f832a20512"
      },
      "execution_count": null,
      "outputs": [
        {
          "output_type": "execute_result",
          "data": {
            "text/plain": [
              "array([[37.20999908, 37.20999908, 37.20999908, ..., 37.20999908,\n",
              "        37.20999908, 37.20999908],\n",
              "       [ 0.        ,  0.        ,  0.        , ...,  0.        ,\n",
              "         0.        ,  0.        ],\n",
              "       [ 0.        ,  0.        ,  0.        , ...,  0.        ,\n",
              "         0.        ,  0.        ],\n",
              "       ...,\n",
              "       [ 0.        ,  0.        ,  0.        , ...,  0.        ,\n",
              "         0.        ,  0.        ],\n",
              "       [ 0.        ,  0.        ,  0.        , ...,  0.        ,\n",
              "         0.        ,  0.        ],\n",
              "       [ 0.        ,  0.        ,  0.        , ...,  0.        ,\n",
              "         0.        ,  0.        ]])"
            ]
          },
          "metadata": {},
          "execution_count": 63
        }
      ]
    },
    {
      "cell_type": "code",
      "source": [
        "for dia in range(1, dias_frente):\n",
        "  #print(dia)\n",
        "  previsoes[dia] = previsoes[dia - 1] * retornos_diarios[dia]"
      ],
      "metadata": {
        "id": "KVPgDX28d2IO"
      },
      "execution_count": null,
      "outputs": []
    },
    {
      "cell_type": "code",
      "source": [
        "previsoes.shape"
      ],
      "metadata": {
        "colab": {
          "base_uri": "https://localhost:8080/"
        },
        "id": "9dUIfrmleCyA",
        "outputId": "228235be-c671-4789-adec-ddf04b671aeb"
      },
      "execution_count": null,
      "outputs": [
        {
          "output_type": "execute_result",
          "data": {
            "text/plain": [
              "(30, 100)"
            ]
          },
          "metadata": {},
          "execution_count": 65
        }
      ]
    },
    {
      "cell_type": "code",
      "source": [
        "previsoes"
      ],
      "metadata": {
        "colab": {
          "base_uri": "https://localhost:8080/"
        },
        "id": "jhyoVPuweGtQ",
        "outputId": "b88e54ff-ca33-488e-cfba-ed1951f7d020"
      },
      "execution_count": null,
      "outputs": [
        {
          "output_type": "execute_result",
          "data": {
            "text/plain": [
              "array([[37.20999908, 37.20999908, 37.20999908, ..., 37.20999908,\n",
              "        37.20999908, 37.20999908],\n",
              "       [35.51506345, 35.42752191, 38.4775243 , ..., 34.75683606,\n",
              "        33.98277408, 36.30941437],\n",
              "       [36.31212685, 37.08011705, 39.63748379, ..., 35.82785071,\n",
              "        34.60812748, 35.62574383],\n",
              "       ...,\n",
              "       [36.23875472, 53.78974546, 31.85674366, ..., 62.08448467,\n",
              "        34.6072947 , 38.18548196],\n",
              "       [35.21425821, 53.623762  , 31.14640899, ..., 62.23435449,\n",
              "        34.18977732, 39.14572912],\n",
              "       [36.13996744, 53.42644861, 32.48312656, ..., 61.37105063,\n",
              "        32.6988044 , 39.13874978]])"
            ]
          },
          "metadata": {},
          "execution_count": 66
        }
      ]
    },
    {
      "cell_type": "markdown",
      "source": [
        "# 4. Gráfico das previsões"
      ],
      "metadata": {
        "id": "62uoIjSGeOB3"
      }
    },
    {
      "cell_type": "code",
      "source": [
        "len(previsoes)"
      ],
      "metadata": {
        "colab": {
          "base_uri": "https://localhost:8080/"
        },
        "id": "YkZS3U3ueag3",
        "outputId": "c70e3ad9-c173-4d48-e663-c0ea1555d652"
      },
      "execution_count": null,
      "outputs": [
        {
          "output_type": "execute_result",
          "data": {
            "text/plain": [
              "30"
            ]
          },
          "metadata": {},
          "execution_count": 67
        }
      ]
    },
    {
      "cell_type": "code",
      "source": [
        "previsoes.T.shape, previsoes.shape"
      ],
      "metadata": {
        "colab": {
          "base_uri": "https://localhost:8080/"
        },
        "id": "mtDDv3_0ecwb",
        "outputId": "9996a1c8-4075-4389-debb-3cc52f8151ac"
      },
      "execution_count": null,
      "outputs": [
        {
          "output_type": "execute_result",
          "data": {
            "text/plain": [
              "((100, 30), (30, 100))"
            ]
          },
          "metadata": {},
          "execution_count": 68
        }
      ]
    },
    {
      "cell_type": "code",
      "source": [
        "previsoes.T"
      ],
      "metadata": {
        "colab": {
          "base_uri": "https://localhost:8080/"
        },
        "id": "JLVn9ZVwefI4",
        "outputId": "8e1cab4c-d3ce-4869-f544-e637527c9a31"
      },
      "execution_count": null,
      "outputs": [
        {
          "output_type": "execute_result",
          "data": {
            "text/plain": [
              "array([[37.20999908, 35.51506345, 36.31212685, ..., 36.23875472,\n",
              "        35.21425821, 36.13996744],\n",
              "       [37.20999908, 35.42752191, 37.08011705, ..., 53.78974546,\n",
              "        53.623762  , 53.42644861],\n",
              "       [37.20999908, 38.4775243 , 39.63748379, ..., 31.85674366,\n",
              "        31.14640899, 32.48312656],\n",
              "       ...,\n",
              "       [37.20999908, 34.75683606, 35.82785071, ..., 62.08448467,\n",
              "        62.23435449, 61.37105063],\n",
              "       [37.20999908, 33.98277408, 34.60812748, ..., 34.6072947 ,\n",
              "        34.18977732, 32.6988044 ],\n",
              "       [37.20999908, 36.30941437, 35.62574383, ..., 38.18548196,\n",
              "        39.14572912, 39.13874978]])"
            ]
          },
          "metadata": {},
          "execution_count": 69
        }
      ]
    },
    {
      "cell_type": "code",
      "source": [
        "figura = px.line(title = 'Previsões do preço das ações - simulações')\n",
        "for i in range(len(previsoes.T)):\n",
        "  figura.add_scatter(y = previsoes.T[i], name = i)\n",
        "figura.show()"
      ],
      "metadata": {
        "colab": {
          "base_uri": "https://localhost:8080/",
          "height": 542
        },
        "id": "WDdSHG1ReiSr",
        "outputId": "419d8897-8250-4e32-8adb-f826e1f67f27"
      },
      "execution_count": null,
      "outputs": [
        {
          "output_type": "display_data",
          "data": {
            "text/html": [
              "<html>\n",
              "<head><meta charset=\"utf-8\" /></head>\n",
              "<body>\n",
              "    <div>            <script src=\"https://cdnjs.cloudflare.com/ajax/libs/mathjax/2.7.5/MathJax.js?config=TeX-AMS-MML_SVG\"></script><script type=\"text/javascript\">if (window.MathJax) {MathJax.Hub.Config({SVG: {font: \"STIX-Web\"}});}</script>                <script type=\"text/javascript\">window.PlotlyConfig = {MathJaxConfig: 'local'};</script>\n",
              "        <script src=\"https://cdn.plot.ly/plotly-2.8.3.min.js\"></script>                <div id=\"e260ad58-1d73-40c6-b99e-fe1d2731e1c6\" class=\"plotly-graph-div\" style=\"height:525px; width:100%;\"></div>            <script type=\"text/javascript\">                                    window.PLOTLYENV=window.PLOTLYENV || {};                                    if (document.getElementById(\"e260ad58-1d73-40c6-b99e-fe1d2731e1c6\")) {                    Plotly.newPlot(                        \"e260ad58-1d73-40c6-b99e-fe1d2731e1c6\",                        [{\"name\":\"0\",\"y\":[37.209999084472656,35.51506344636742,36.31212685497954,36.510684883167045,36.232633361554456,37.064882238354286,38.8642628960065,42.5400577220721,42.21227600545941,40.96881629434141,38.4021895014291,41.82246236797509,38.84436532492739,37.30735853030691,40.014071140973165,41.18507410765638,38.363828040802524,37.40394624790294,36.689057728393955,36.568589893540086,38.150916166402034,34.321938880264604,35.483170025634244,35.94078061658513,35.73815010100723,36.07011891951532,37.240481613904834,36.238754715042454,35.214258209350795,36.13996744121144],\"type\":\"scatter\"},{\"name\":\"1\",\"y\":[37.209999084472656,35.427521907298946,37.08011705184413,35.82495159194135,38.73648404138706,39.070925388936644,41.15361734217491,43.713042201536815,41.80431485036276,46.863644248063544,49.25264364775137,45.59825752381925,45.91641095915425,46.81727757531276,47.53965373213187,46.53651331868992,45.49239200487829,46.172749201997966,48.14447285793038,51.253677371877586,51.813800227717195,52.147488616916846,50.733862212729626,53.855577175040146,56.32036101540256,56.863327114546735,56.599441563985586,53.78974545727084,53.62376199875291,53.42644861234807],\"type\":\"scatter\"},{\"name\":\"2\",\"y\":[37.209999084472656,38.4775242999572,39.63748379470546,39.09374296028503,38.33634523658626,38.744650576016724,39.82909849709959,39.75844141591174,37.52600998803619,38.583677491172445,39.320687721248305,40.1847224100156,40.11213343323593,39.11206296723723,38.7383404717669,37.901910853772605,38.14263623153972,37.89905907329543,37.54074599659136,37.795735936450384,37.501125147580304,37.73361546658025,39.426123194969406,37.93780996710614,35.61557924424503,35.878605738571494,33.47028828728638,31.856743655867128,31.146408992638285,32.48312655791129],\"type\":\"scatter\"},{\"name\":\"3\",\"y\":[37.209999084472656,39.832263326507004,39.61098612705499,40.37764825275456,42.42070705346132,40.850507802827615,41.75051413679781,42.21162360664242,41.45745009632257,41.506638677100014,40.519558455969154,39.98430688310728,41.64436121004931,40.978406042116205,37.36344208950126,36.496585472061675,36.76321856624243,35.989883598036606,34.114490385508724,34.09396095925681,36.31582799729434,35.14520475729847,35.331537986679535,37.25970381520316,37.4857338211202,35.35174731850726,33.074548586718066,34.241859096169016,34.156158349620455,35.82336734697804],\"type\":\"scatter\"},{\"name\":\"4\",\"y\":[37.209999084472656,40.21266783745092,39.99171716729642,38.49882459220506,36.84280127376713,37.095809598629074,37.93021433691658,41.818355904116835,44.127985753002875,48.73768351549907,49.263254575895196,50.472058872920954,53.41508620323141,53.529269354148646,53.23704007632642,53.50362816224143,53.71777626723602,58.25901423555667,55.54649652561679,56.742452775182365,56.287142629937144,56.27612168349346,53.039002809195296,54.90962268482356,54.72548520965653,55.56712961418018,55.60418606718464,54.72580709269289,51.60951442619832,46.68612489167754],\"type\":\"scatter\"},{\"name\":\"5\",\"y\":[37.209999084472656,37.534874036841074,36.80681134803507,35.38035891510094,33.81703176610433,34.74310797294168,32.5683953995426,32.35186236210648,30.60213108979717,28.739891196595988,28.02090639061879,26.745566096523437,27.908025700568924,26.55600193764509,24.287558755400255,23.008940134857088,23.079408577160713,23.148026517677838,24.078070750761594,23.480674297444057,22.13759441906758,22.26766112920697,23.51982086542338,25.51346168155887,24.83967715779511,24.4799887232005,25.650660853828168,23.152358093677094,23.939000763774274,24.83672380072512],\"type\":\"scatter\"},{\"name\":\"6\",\"y\":[37.209999084472656,41.18511650562069,41.41738852681801,41.120632336600444,44.145291884650284,43.2380404503614,39.58742600217247,37.05151499953385,36.84427610350112,40.18678037096485,36.3143661813933,34.17049480870012,34.456963960571095,38.4747309217815,35.629589433052466,38.95743589996399,36.71802347556442,40.393077873457905,43.57222224006919,42.85402862361091,43.165332369086165,42.18914929455838,39.29447126339927,38.5920902468415,40.56151180910389,39.859778270122206,39.51379850934329,40.65973325265959,41.940883875377985,42.01641383951496],\"type\":\"scatter\"},{\"name\":\"7\",\"y\":[37.209999084472656,38.87474171567846,37.87219108491939,36.51853668937449,35.164746731200715,35.80599405007987,35.44353823660054,34.665124617002064,34.382989515098316,35.72978819298539,37.939367152508254,39.341353210499506,38.775882309023736,41.301922751560944,39.20615414516731,38.15150080753712,39.511656857515376,42.18628257844703,39.752448343784415,40.44323945807186,38.72081322268377,38.91117129759872,41.724823510766655,40.85367910199115,40.766728999858046,39.31981081150556,38.96902871062334,39.66981474510509,42.018630375343534,40.39275989858815],\"type\":\"scatter\"},{\"name\":\"8\",\"y\":[37.209999084472656,35.99504964724666,34.06205678643898,34.02696633327117,30.958826817479114,31.372189875245322,29.100691117916053,28.194842623092622,26.215083007552174,26.512743214288033,26.862518742525076,24.145882424337646,23.759835660513314,22.726580643317206,24.04287780073133,25.271910025675236,24.277583292606433,25.81826026404595,25.480420325906163,27.554022171698275,27.751049704548404,27.497127626640356,28.01744528479021,26.391328835683314,27.84256169066995,28.42499129015762,26.677146583209044,27.01474657515848,26.03123380656652,27.705771602971392],\"type\":\"scatter\"},{\"name\":\"9\",\"y\":[37.209999084472656,37.42250171927055,39.67047824979133,41.089960247519606,42.614563328240685,40.949707865450364,40.75898991999798,38.96292205873778,37.490425921934104,37.337013769391945,37.44693136274669,37.38975993201536,36.44877770590751,37.42400263932469,33.60395496871664,33.796408933072556,32.18832416937017,31.744939159909627,30.831201786790594,31.4751681470898,30.42603051785977,30.972405931075155,31.8416611854662,32.24904534644595,32.8429950337597,29.39916179257122,27.655894118479818,28.079755024157915,29.759751291076068,30.511355314032606],\"type\":\"scatter\"},{\"name\":\"10\",\"y\":[37.209999084472656,37.63487745660218,40.78803610308591,39.975890442367934,39.44021678488845,40.26955110572941,40.21274134977015,41.93115778524599,41.650229868636806,43.126987866035925,42.958735327004284,40.85275795350454,40.33120107840082,41.80736266046699,43.15247415891352,42.44791142709967,41.21181545832972,41.35339307701675,44.67816142668902,44.73895285010599,47.0580976825335,50.96522835945954,49.04333305273662,50.08857219992225,51.57386248027405,46.80734925815759,50.65142771540023,48.34777854160634,46.568452866187926,48.03496166762376],\"type\":\"scatter\"},{\"name\":\"11\",\"y\":[37.209999084472656,39.556138559618645,38.47937035265764,37.5980344599965,39.38569719838839,38.102800521667426,39.359811920899006,41.552204069230626,41.098481915464355,40.254980677240326,42.54192729940392,44.7093088811547,46.74614323293468,46.032875520738756,44.080528577588105,44.15466203264723,45.7150787719867,44.1724848715749,43.24010160243999,40.3812828492049,41.56421135121913,40.041082591449346,44.67650070129651,43.14155688748714,44.83744970856393,46.37921983268324,48.00807800970469,47.4085284349054,50.554149097289894,50.82210619893686],\"type\":\"scatter\"},{\"name\":\"12\",\"y\":[37.209999084472656,38.013335538545384,36.8094367337404,36.13522413992286,36.60042232469121,39.77137408671425,39.13379376301034,39.334586619364785,38.34943368068584,38.70205998355191,38.13124537509715,38.685138378067364,38.71430130442156,39.43275008847611,42.7519129633767,42.714375337003645,40.53706668862549,41.8092940506552,41.82117262320779,40.06833798234657,39.68139660693862,39.47621566796027,37.88891830493142,37.74572621792308,38.48475189433003,40.4155923652881,38.97233591505981,37.754503659163134,37.44154586897061,38.609371608041506],\"type\":\"scatter\"},{\"name\":\"13\",\"y\":[37.209999084472656,36.88175726936645,35.73796331030016,31.69470378415382,31.389883843675037,30.20485392367036,29.76964446620366,30.039347582540305,30.61806200337111,28.65827103319988,28.49425378050092,26.474608544779542,27.535955695604002,27.776548691145127,27.48891800142025,26.73917821694681,27.26783713947163,28.14655673681482,27.391691759819395,25.54588673841432,25.58027670773029,24.971349591704627,27.579222122592874,28.772557641008696,28.986918243917735,26.127678319567238,26.997802171629782,25.177089650503607,25.273861535338458,24.48099749131532],\"type\":\"scatter\"},{\"name\":\"14\",\"y\":[37.209999084472656,39.426174538732425,41.01274147843361,39.24414057426946,42.85688764857051,45.45880058930649,47.8748813253768,50.16899621597601,52.66383555092709,54.2739203762981,50.44765393140979,49.40923805577152,46.11533876350486,41.495043125217514,42.397730736213006,43.646150829808626,40.44082065876572,39.890288922090186,41.153622188379636,41.31578454574898,39.24988733777644,38.961159411683525,39.1571565292091,38.20229805542392,36.917700662686606,34.759027485408005,32.612017244172584,32.04768940864176,32.5385199068254,32.25604425839569],\"type\":\"scatter\"},{\"name\":\"15\",\"y\":[37.209999084472656,36.3093821546313,36.74416972355957,37.287978558333975,32.20915481459095,31.534938483460724,30.110191616603558,30.360027453872828,31.130089545566353,31.45419418705302,32.30514486669391,31.903793436707872,29.92469878510888,30.421677560019383,32.23708249436619,31.412348488774967,32.1188908756556,31.854974843976052,30.30002167065776,30.92163749397776,29.28440845053913,29.685317556562712,29.929870225484358,27.2953482423666,28.19083327326897,27.63811253771916,26.57853004641552,25.822124628876193,26.086960122741075,25.18238809331886],\"type\":\"scatter\"},{\"name\":\"16\",\"y\":[37.209999084472656,36.10466694151688,39.793178760675,42.430016353618534,43.79299760553904,42.81703504866759,40.388859798171524,40.09542477359277,43.247162709309144,43.4166831852149,46.50322611115289,46.13950879460247,48.71815034692597,52.27957934290407,55.47388460077413,53.784857164757724,50.956528579586546,46.508727430508934,48.623453206205774,47.36214396142291,47.04639204845922,49.59627124220398,48.39240804437269,48.111845789539906,49.577796065908544,49.53959133257037,54.62402762879727,57.337185120762456,63.918000862737095,63.42345456797231],\"type\":\"scatter\"},{\"name\":\"17\",\"y\":[37.209999084472656,32.53186738202899,31.281861535780873,28.764093177067846,29.674638294678207,30.69320330276714,32.02570245773574,32.431506927162566,32.883859448562255,32.452833009325374,31.628842825634962,32.196080802671716,33.14308508086273,31.249979441827115,31.575835189548233,32.970927119306005,33.2616153092496,35.982025732582244,37.479769041766666,36.14736823386744,37.87109441331736,36.661228776262995,37.6927256331927,38.30857345112418,38.238055375225805,34.968920367984964,33.27562148928581,32.9056941075023,36.689403596427475,33.78421055230756],\"type\":\"scatter\"},{\"name\":\"18\",\"y\":[37.209999084472656,35.84741862897444,35.406584088340566,35.595149267834614,37.219321591079066,38.678454943298014,37.8483740058364,37.42492780911492,37.030802946429546,34.7828179559176,34.80041439283664,36.71425414908772,37.764352072029496,36.64556637061137,35.20397026928079,34.324312406084886,34.35690321450271,31.11767130562028,32.42999206657105,32.389496523354005,32.74583094206426,32.90748132175286,33.139549342438336,34.087407611330654,34.91564428730552,36.61078613945204,35.81267073540377,39.36137461849795,36.968281127210474,35.69161604279549],\"type\":\"scatter\"},{\"name\":\"19\",\"y\":[37.209999084472656,35.994255455335605,38.260193323944286,38.37669120222851,38.02165617674241,40.1023106897799,40.921892464129606,43.27582214335315,44.46898703159078,42.611392717299154,46.59214915131821,41.97150948784355,41.10956014474499,40.495856968526176,41.53168690963365,44.5147773055638,46.92359257203898,48.67605218371757,46.26335510516356,48.43352898360178,47.29614599637068,44.250725287451914,43.726353790782944,45.23674562679804,41.2589253471141,43.0743562255341,41.02405398187395,43.808613936709676,47.74756218571656,50.610002014464456],\"type\":\"scatter\"},{\"name\":\"20\",\"y\":[37.209999084472656,36.9126789383601,38.66488158751612,41.84277944773913,38.927894856426256,39.28001726277901,40.501919994333626,39.642080391151744,40.40313179763347,39.52501185485542,43.17255229849044,44.30085350815414,48.18991235801947,48.337111327737475,49.073836325100494,52.54785166516209,53.5312395211595,52.73671031248505,51.64740212382533,52.06471546971671,54.81103641732919,54.09199273730563,55.92928338074597,56.30369249751136,56.01707084763532,55.569158124212244,53.724414903259465,52.95114850490092,52.7853431252794,51.760673436109954],\"type\":\"scatter\"},{\"name\":\"21\",\"y\":[37.209999084472656,30.08692230198357,31.09646309893837,30.382597364128824,30.08105781610426,28.2574959596222,26.616869650928642,25.190703517548624,26.22109155745319,27.62722221342995,27.421522372408408,27.22048799278902,29.369733702764258,29.101299669258037,27.780467660920074,30.328460344479993,30.215669838910713,29.76793361534579,30.7484260563583,29.903318134983625,27.146932277079994,28.841795735064593,29.865869504375176,29.039800176928367,28.571412659125155,27.102266619460213,28.09884200529213,25.914091170866254,23.535548584648588,22.690192473648228],\"type\":\"scatter\"},{\"name\":\"22\",\"y\":[37.209999084472656,38.515487846424094,36.531488772208675,35.8279596813868,32.817366514125446,35.29053236636321,34.066153686007986,31.119115165851134,30.205979063720775,31.478261562473342,32.00768250627971,29.58594931607534,27.527995058854486,28.397344621145532,27.257220284785426,28.049979111809144,28.36333001204891,28.734170118296806,28.90851449319432,32.41881089328189,31.104369884627445,32.244523470873816,31.303662881359564,33.87430595421736,31.55464933325876,30.846708090373802,30.842027648808976,30.41098287877616,31.52059209578907,31.719454443969212],\"type\":\"scatter\"},{\"name\":\"23\",\"y\":[37.209999084472656,38.57873648724635,36.324335940736546,34.977803270018796,33.69915460129969,34.82539679314777,35.5333400021402,32.97563190397894,31.662228265100698,34.18749351543464,36.61968331254249,36.01940500593753,35.388252256066025,37.19917898271122,37.86727913443681,40.73320388671954,41.33500134145407,39.29882866907897,38.27674409580068,37.68878220847674,36.929825246343846,35.841319253797614,36.44232705344092,36.527867741260174,35.74131502581829,32.98503043258545,32.73902966952717,31.559811236656856,36.47297567296393,37.855481921294036],\"type\":\"scatter\"},{\"name\":\"24\",\"y\":[37.209999084472656,38.37929979846174,37.44686050479518,37.86432501774314,43.16430511730997,40.32884640246954,41.133721902469546,42.94684700433783,41.03768041862422,39.588344195272576,39.088764701654846,37.772143786629265,37.80462958989247,38.24328895929275,37.73113256230046,38.0053824310891,39.47302162583193,38.654020099574794,38.59125312631676,38.813913558944435,37.17134010995049,37.60678076271152,38.65117061595242,43.17401288045323,46.85321271189037,47.938667124426594,47.1783845949385,43.885972505438325,41.76429139771222,41.264939639112136],\"type\":\"scatter\"},{\"name\":\"25\",\"y\":[37.209999084472656,36.508585630448785,34.87528567740045,34.22561131955016,31.356263381182135,30.178974821711552,30.45226956290991,29.88859303932883,27.5363437591391,27.412561997020422,29.37450305656337,27.844420743451398,25.35391832656873,24.15240114229674,24.86655788955841,27.558220884061175,28.775420593740666,29.0183766624893,28.295990799874332,27.35245280760187,27.245733672553506,29.434299042202046,29.93687748290346,30.288114875601174,32.43320484924454,34.2626171414092,33.86679052470752,32.448075797782906,33.38088940833599,33.235758787725835],\"type\":\"scatter\"},{\"name\":\"26\",\"y\":[37.209999084472656,36.608110247705405,37.86373925448488,39.48906842695682,39.643941663359705,36.015906000167,35.979778447166275,37.21088345627085,37.068311947581556,36.47571897226645,36.738405392258635,33.603480515272985,32.01621487341049,34.746887923105625,36.86055401097399,37.053677732964665,37.76473343005695,37.84218143640406,39.74589824060395,38.914091535850936,39.40472346784145,40.66134971035152,39.698685009241544,41.8116798980189,46.2402789799808,45.398641024539025,44.8530469130751,43.619021636581834,42.12922797834728,41.574570968617046],\"type\":\"scatter\"},{\"name\":\"27\",\"y\":[37.209999084472656,36.01264130382054,36.21639263699472,36.566403942866124,36.85689809573565,34.55297464032638,34.52658292987959,35.62055197568781,36.58784961586158,36.223999280627446,34.529093843701496,36.54726243410683,37.52871183179091,41.284283384613126,41.23424480196985,38.42294287652475,39.765126367179874,42.085198266821806,41.152675241969916,39.8424972339112,40.54433270227789,41.18990135750237,41.770515099400185,43.42264899263085,39.74222526259588,39.40418045096589,36.31568764832745,35.25712556353803,33.10567587967949,33.074135748803656],\"type\":\"scatter\"},{\"name\":\"28\",\"y\":[37.209999084472656,35.58228729538202,37.547399161698465,34.741255132114404,34.200070631239214,35.01265702105303,37.07025971753165,36.78859463018582,34.801141482395366,32.00758858208764,32.766661035300565,34.614933030839126,34.876567814427986,35.021098476161214,33.720661288047474,35.69412530505092,36.09408291215935,34.72220735572053,32.107709819356806,31.40186567307614,34.06391796776746,35.818865520976864,33.38917608139065,33.588271204381435,32.9674471664358,32.057102128140684,29.856171168409208,27.30503686419694,27.1861115454475,26.38207478012769],\"type\":\"scatter\"},{\"name\":\"29\",\"y\":[37.209999084472656,36.917520336611474,39.59435656462457,38.4133851225215,37.2171970763135,40.9895768883584,44.67571571417125,46.645637221141605,47.821798928804796,44.95049120880495,44.103192267531576,42.64593240760052,39.94826661093246,38.742339755906364,36.40759844765664,36.01672102107407,38.54515759098003,41.294637938697214,43.242550167888105,42.81472422378622,43.74981522937864,45.38937880606219,44.53837255467523,42.828238969201145,44.19179431054512,46.77458731460714,47.89057104080806,49.58451078659565,51.369670520524856,54.285281045931214],\"type\":\"scatter\"},{\"name\":\"30\",\"y\":[37.209999084472656,39.38920875284557,40.79231152367373,43.613321971659865,42.71615246450385,45.79906718373336,48.043939866594336,47.83467003051047,49.20528937628646,47.68349642873233,47.07558975821428,48.278334960096004,48.72120171529147,47.53329124149361,48.609860755973095,53.518160441510574,50.1580647331469,50.2176529220746,50.482871372960105,47.93092321149604,54.19598101777436,55.42321795196897,54.05875929580863,55.069456233235194,53.09799505357772,50.09866544534252,49.363907070113235,51.95063178203608,49.596728820491386,52.21173208486099],\"type\":\"scatter\"},{\"name\":\"31\",\"y\":[37.209999084472656,39.83221773470396,39.12555833847386,38.98654700525081,38.25351871842644,36.199885785413855,40.32951041657831,36.38035593062592,35.390486165604514,38.86863323861949,35.966418584320316,36.674115135937086,33.767892572270135,32.77012769191973,33.60962411014922,31.62766109071856,33.57810531884051,34.323867542776306,33.199137515134076,34.8272731914752,33.41873759895719,36.07958931421715,34.410231729838266,33.10813493715294,32.40092555328274,32.58806963969695,31.76094915040534,32.89240244405779,36.75527378297515,34.16193233148107],\"type\":\"scatter\"},{\"name\":\"32\",\"y\":[37.209999084472656,36.67884638633002,36.45612317181034,38.69740076576593,36.87714765437153,38.22727302282741,39.37493055496698,40.52364402688452,40.7621689556996,39.06053403193836,38.019817834116886,36.08332530741362,34.6079090488269,33.958849958249445,30.874602578277386,31.750859786005933,33.01933230001125,32.03995755145005,33.320952912276276,35.20795376285402,36.11612952379876,35.94032158917483,34.69899248406612,34.95429222653847,34.67252393340702,35.026694189977306,35.21947989722181,35.69097923480853,34.716628479893274,36.67188843837405],\"type\":\"scatter\"},{\"name\":\"33\",\"y\":[37.209999084472656,36.25229766570162,37.156559431294326,36.64234257816467,39.05293167922471,36.18436179543223,39.7003786898646,39.25692982093879,40.28161704756476,39.3028005272516,38.9333667346735,43.31533500782412,46.35723105040804,46.91639115981848,47.10415956739278,43.53708954213026,42.1867019128338,43.040804291846335,41.87416236733086,44.66167838883586,51.15312806049262,50.71648378966263,50.39219298079534,49.11051683919583,47.21246389624983,47.3065046927441,45.632430321738944,47.579672907174924,46.56927933039542,49.51349316542732],\"type\":\"scatter\"},{\"name\":\"34\",\"y\":[37.209999084472656,38.209886089914285,38.09892072216909,39.58661834085377,39.30608810475421,37.90616314372641,36.96669231978578,35.410344430038386,33.86516185754119,34.57515216438728,32.706390127226484,32.527956458121885,32.96307765135759,32.65791411875906,34.565014488825824,31.314575758872238,29.924711233701185,30.361864154362063,30.89350620184652,30.091849033073668,29.01188679851269,31.79087929237969,31.3592207368195,30.4711574201052,32.45249306984226,35.855569149208236,36.55511478687104,38.17009057856165,37.179691434077135,36.42605338470662],\"type\":\"scatter\"},{\"name\":\"35\",\"y\":[37.209999084472656,36.96240013717806,34.528453921747634,34.02813641892313,34.4131931646912,35.73238135971084,34.784087073697364,32.634491316467006,31.334508490171082,32.57405396433471,31.37049294051114,33.63529136928146,35.04428271380086,32.44731470437485,32.38455205841782,32.532761932079296,32.51630899422616,33.12367874292794,33.83985500531052,35.301018630655506,32.60862742676,30.904128678671686,30.75068727899606,29.085782759691444,29.861523357041026,28.967139640984136,29.609216678677686,28.94608582043388,29.74916099758435,31.486672419185137],\"type\":\"scatter\"},{\"name\":\"36\",\"y\":[37.209999084472656,36.726824407316634,36.557183620457224,38.1519475238297,40.30355223180224,41.30937825597614,41.66617655774004,41.48379546681023,41.66317584344327,37.823013997895345,41.700687490694406,38.11490963863903,38.01818365424942,40.1216732179145,39.63505937973541,40.7330764823396,39.966290799856324,39.886695384094814,41.951073589034095,42.99900796361345,42.80182780849212,41.222798966151466,41.19547845663249,43.9306504341605,42.613667905337415,41.43800640248689,40.04836138823108,41.53133768885142,42.50321553208085,44.615240757599594],\"type\":\"scatter\"},{\"name\":\"37\",\"y\":[37.209999084472656,36.28494515411258,37.08236989906364,39.57685114716188,40.40042589565545,41.92696598627774,44.96218152505387,44.82066583678907,42.28657204743171,37.10279295886544,37.9433945099282,37.93988078318838,38.08849351626015,35.69573545119987,33.66094940468206,32.37753473597327,36.208002725250566,36.79996022112665,37.036260120240094,39.4573175624179,38.88919771778655,39.62689159458636,43.561319279186314,48.22985225925168,48.505434391908686,48.77256436800827,46.371831996279774,47.432617708433526,46.32215701383743,47.165683809418276],\"type\":\"scatter\"},{\"name\":\"38\",\"y\":[37.209999084472656,39.70595504960758,40.32698425790487,39.85407772379598,38.81963229647809,38.334808822601396,37.52115013327825,37.401477403298834,36.06156795785864,33.253754051822085,35.37417058143023,32.78127356264468,32.40378490786828,32.23053059958467,33.2049909251972,33.19821487256842,32.078336780216546,31.92970302143815,33.3171823571637,34.96632323379802,34.3639184201807,36.74075084377582,34.695453469805635,32.81465606821326,32.22429821345995,28.638041440462185,27.4045751189781,27.7378726760697,26.14116382948709,25.36283623404946],\"type\":\"scatter\"},{\"name\":\"39\",\"y\":[37.209999084472656,37.280919438897755,39.024001596116726,40.416282952715285,41.54490074270954,41.54014813648586,41.7851308785554,41.58266279185691,43.68844313727861,40.39734397898463,37.62146277469154,38.51484290980734,36.89867510187992,36.0660156370109,35.572856440363665,40.24282808891792,41.31374088021127,42.66563822481958,44.750420358871665,47.108932372975644,45.51393740345166,47.95047916975363,45.21571338514582,46.56487508915087,49.81271090082802,48.62520747884458,48.99118790410783,49.888043674080414,50.75254501868337,51.65703704043019],\"type\":\"scatter\"},{\"name\":\"40\",\"y\":[37.209999084472656,37.86436333512762,36.582631570585946,33.73842421829405,36.42317577681019,35.92579425332587,33.575240280117605,30.802577705441124,31.475503477219064,31.14025445144419,32.67435591261395,32.470712468015236,33.82856225090628,32.5053272995104,33.401300494463825,34.554409289380324,37.947358852897075,39.2394397988812,40.28523390301576,40.297458678354545,39.791488195026396,40.2724106087573,39.99845492444761,37.574173619161144,39.566136784907975,42.35818990589878,41.10538811571206,39.46273075610843,38.678208934486015,41.15368798167679],\"type\":\"scatter\"},{\"name\":\"41\",\"y\":[37.209999084472656,37.23703210300232,38.52445520721983,38.68139585724339,38.342477309115175,39.23770573951043,43.189076338571276,40.88269290165553,42.42713152806719,43.3783608616361,46.6973604269289,44.17607099397326,42.31424012579858,41.4993155983606,44.68179262628785,44.243271267806705,44.66703706992539,46.616103969010766,44.71188385734982,47.43897489846746,52.48587488253828,49.98392566365465,50.11447414692669,50.942782772337196,47.222971248948355,49.64750740414804,46.80730271800252,52.39836671946216,54.49481088075729,55.51135092307939],\"type\":\"scatter\"},{\"name\":\"42\",\"y\":[37.209999084472656,37.91259567905663,37.932947112216034,34.49330234162112,34.77094846397233,33.79593187744333,33.392553713743744,31.859976388489816,34.20482618629777,32.7710390308384,31.655241912146927,31.361846498368138,30.83977949930266,33.82696935697692,31.198648151179878,31.658088101524235,31.194504726674367,30.31993667967165,32.09835728216965,30.48539281347569,28.96868279151132,27.040353121808643,27.270627516017814,27.11677016284157,27.815007622184364,27.502248311205136,28.089895121051025,26.76412538023768,25.576982524447516,25.497906814325688],\"type\":\"scatter\"},{\"name\":\"43\",\"y\":[37.209999084472656,38.148066390614176,38.17870684257726,34.099050295957824,33.77167686563119,37.429414627597176,37.686465500126786,39.375056419198835,37.694888313245,36.60722094486538,35.85607560793272,32.42220273976694,34.289079735390786,30.368473487867238,33.10180413480424,34.345245181532064,37.95186956353086,39.99398064304822,38.68666839353811,39.3411642655367,39.45833819274287,40.40876129571112,42.69124043164843,42.37547683150957,43.37474186885142,44.22738116444514,40.71054993233123,40.88809505747062,41.82823156135069,45.69336301128702],\"type\":\"scatter\"},{\"name\":\"44\",\"y\":[37.209999084472656,38.2067674814733,38.72234161470581,36.563990792138235,38.644130492819016,42.294698757540786,41.98855925395113,44.194395559585104,43.047837779448635,43.765258448881305,43.61203435531181,48.38181001158141,47.42344798903498,46.8730323906164,46.9725690952659,47.75281221360247,47.09098235889414,45.38383457290345,45.45055537503174,45.150788787002384,46.31457155631541,42.39075236049174,40.25296915679239,41.30490968621087,41.91595524407546,41.53277288306733,40.901039472302934,45.10150099040926,47.67574004477389,49.06700394507761],\"type\":\"scatter\"},{\"name\":\"45\",\"y\":[37.209999084472656,38.33831477637945,39.23172536002971,40.9054808228961,44.33115673067626,43.41443571054679,42.069256021822596,42.181209551758954,44.697813319348334,43.227797952937344,45.51674149681629,45.96263174931542,47.70825210949173,47.18516541410048,48.76631510366404,46.226036405635114,46.6116275588214,42.42955328772941,40.11632534167755,40.77697054654242,38.06549010374517,35.56937184747825,35.301583993693406,35.436308859791666,34.47236670628805,37.0243663271878,37.744198910926954,35.19873200360674,38.073389695302886,39.042665248326415],\"type\":\"scatter\"},{\"name\":\"46\",\"y\":[37.209999084472656,39.50073239710378,37.54162758869376,39.128472778907955,39.05608641503592,39.74237383196135,37.65695159866507,36.467241458280455,37.23770215131117,36.94355540783817,40.60828918860217,40.30760057566316,37.66639279753477,36.777836221157,39.42734218415442,41.2283393187833,39.858176637143735,38.58733364242496,35.620236407344336,35.074742651956264,37.53259804709663,35.096234940924745,34.768494918106605,33.61215032435315,34.47907064358121,34.001463181039554,33.6117203852204,35.4512376435645,33.730870278372045,33.943683659730006],\"type\":\"scatter\"},{\"name\":\"47\",\"y\":[37.209999084472656,40.617850681169756,38.99955201050671,41.195885434727224,38.615540404709115,38.91361698379084,36.7067966180289,37.300254967530236,36.17967739907625,33.959069191474256,35.24251113194229,32.99605073418183,31.908559821849867,30.36721073092367,30.02372737159272,32.67220253627274,31.11424780343767,32.53950542972252,33.46983140226582,38.0401859395517,38.62005295567453,37.69315323648874,37.73150750169827,37.012250467019946,39.94071363703739,40.86785247092209,41.075224146946155,40.598444678333344,41.70643806330715,41.07349124110411],\"type\":\"scatter\"},{\"name\":\"48\",\"y\":[37.209999084472656,36.41696843508191,34.41088125023497,34.00855647094718,33.963653394217225,31.616972525525508,33.09839434024887,31.438255883944283,29.19328559635998,30.73046974648137,28.3375623513065,29.014920191517206,30.639424878528477,30.549563949552414,31.83905770310945,33.31071845808563,30.479533550072105,30.00592960205235,28.825944448352764,29.593131000991487,28.467641503406774,29.959057673853223,27.524183290480924,27.689260803057177,25.723121870502492,25.832039402678316,25.85910927120885,26.534451603066877,27.125248501497015,27.238775758506396],\"type\":\"scatter\"},{\"name\":\"49\",\"y\":[37.209999084472656,36.07561276695569,36.97521485925246,38.58780956036658,40.079164837179995,40.82257732780453,46.448090821378855,45.885461621954605,43.60504996045877,41.53572192808615,40.56665814269391,41.28130881173654,43.417971304786406,42.151033028444736,43.52210438093615,48.23704802955394,47.5459644914641,49.16530815386128,47.80308827706701,50.57499997736616,51.57023913914366,50.07316851548127,45.39153221213022,43.418232471721275,44.35519493967009,44.272993719640475,45.5406597102961,44.16663058363795,42.11455715861251,41.30314983501346],\"type\":\"scatter\"},{\"name\":\"50\",\"y\":[37.209999084472656,35.851129740640005,35.97159728229852,34.713942919071314,34.8425841578712,35.34070905310082,37.568366701180864,36.59067833992064,36.06650192753897,37.180987078117745,37.87529635775,37.256732684806515,36.39416523840743,38.816407913594134,37.342433315770265,38.98140546250358,39.19633859683664,41.50099034343722,45.12565729349202,47.332475388854164,48.62672424049382,43.72677032553714,41.201026605828396,44.16222960518297,45.09462504895665,45.15678340347502,47.203974899674954,44.46967930852834,41.35689625798942,41.19677022001531],\"type\":\"scatter\"},{\"name\":\"51\",\"y\":[37.209999084472656,40.6329452358259,40.40231060816596,41.30270483716718,41.31550503345275,43.63694488274186,44.081357230896096,44.63084718468221,44.075017922481415,43.38409309797199,42.279317241169686,41.903542435399366,43.30303784069736,42.47344646431792,40.79022385847795,38.04691607119035,38.4039188964828,37.641930194313005,35.95047980210051,34.847824435582986,33.98356887078238,34.98386632026551,35.03658646398279,35.30552817935687,34.01725235065631,35.5728338382042,33.756145624703954,34.04710808351607,32.298184238209565,29.867247853610518],\"type\":\"scatter\"},{\"name\":\"52\",\"y\":[37.209999084472656,38.07696658807803,41.53816594648738,41.56214297202268,43.47965441314067,44.21713386673306,46.94707354500975,42.852445980013634,43.66605558674166,42.231119752269706,42.61799575887601,46.8090589512826,46.80604132948653,45.562007803508806,48.7624743726603,48.51716999437821,48.2450198072302,47.301001704341566,49.86995928217585,52.0445781979404,52.99704518895872,55.57378583458022,54.13871043462158,53.158026384782325,57.151958212905335,56.21093355745435,55.26230690374129,50.85040170348727,48.70411067606289,49.02619291009596],\"type\":\"scatter\"},{\"name\":\"53\",\"y\":[37.209999084472656,38.033469256751935,38.44412523149028,38.51788481821704,42.1766503234275,39.35919917495074,39.56368476768437,40.177204858979266,40.37995390443391,37.94877508476418,37.205394973745975,39.756384026399765,39.49378747507235,38.157820491981774,40.05433658794077,40.81098931389849,40.16678441524566,42.272354061245,41.602541942293904,42.82395633271208,44.79026955724081,44.87630063580276,45.797275087940434,50.189580922485504,48.52471430245135,49.81601782851994,49.35200066076069,49.143521355208584,50.38376543153491,51.7412152829651],\"type\":\"scatter\"},{\"name\":\"54\",\"y\":[37.209999084472656,34.2844271229112,34.82785187016541,37.0675829876656,39.43128768563195,39.1406891276841,39.80565118656159,39.72732132349325,38.57494132819541,39.976908032922125,40.28898527986996,39.82691394222471,42.85681838334299,42.15780810854487,41.73760737527358,43.070135708275764,43.494898328370255,41.35382439515946,41.303926441946764,43.59979985745359,43.32436336340106,40.3763810583867,40.02819701978359,42.103096975743114,44.04611555875358,45.999735591976304,46.002909541784405,46.41062220790533,46.50471205435946,45.46790524342629],\"type\":\"scatter\"},{\"name\":\"55\",\"y\":[37.209999084472656,39.70455263660853,39.260136885187016,36.82655542118263,37.04640380011823,37.42193514952536,33.886200549568635,34.95832553932406,36.945959402413244,35.368345458648434,36.23476078352951,36.96258426000783,37.888356636922246,36.676784492392876,37.428665037211374,38.97614084788913,39.70552570448332,37.00153617506702,36.70781304902625,34.82721912082547,34.634287499407506,33.12583243392284,34.122424687026545,34.33201122649456,35.75469675020473,37.856302258346716,39.63042079605808,38.12703275859017,38.02690841805481,38.93917031613834],\"type\":\"scatter\"},{\"name\":\"56\",\"y\":[37.209999084472656,36.63171332090358,35.43208162283701,34.93984048359664,34.99616272765268,35.22504353383426,33.99780857222544,34.647177410361074,36.67432981273508,35.23935718518623,32.85174615804059,33.15031727669948,35.243651449357,36.930704266727766,39.89002070794621,42.97946319087762,47.98278687179465,52.133068730864416,49.660404326523285,45.71165101430008,47.48153156793385,52.02105641693257,57.983237994216886,54.65423479172739,54.030389066472225,50.64849835837737,53.702098147660365,54.097286918116346,52.634297629709074,53.71094888629276],\"type\":\"scatter\"},{\"name\":\"57\",\"y\":[37.209999084472656,37.779607290933455,38.53344862934185,38.71138754918427,39.48548857626725,41.322897252702376,40.86449870140739,38.95864590006541,43.81392834756954,46.6347507979189,46.445497738013685,49.05220860195102,49.876866236089334,49.01445584010168,49.68037656491686,52.113761335795424,49.02536579846402,45.046535321033105,46.355473959107336,47.23783674014284,47.620074913885624,44.75692081878798,44.466980515973184,43.62298999519079,43.20487090385376,42.05121495848965,40.12263631129841,41.824915117659124,41.65435834272114,41.18021322561501],\"type\":\"scatter\"},{\"name\":\"58\",\"y\":[37.209999084472656,38.85997553482673,36.17226043320878,36.701495400307074,36.64624300977793,37.896614460897275,39.39205172874145,41.94663892390452,39.67965569016897,39.36062954381456,40.7015491619182,39.156793023020484,40.63848068637271,39.93124148733377,42.23501650423441,44.130422088610935,45.24483832979251,44.42523219830703,41.969460991154364,41.58401905226054,41.11457727500389,39.884072821568736,39.254352422727436,37.10361007368685,37.28768154606485,39.20652706273577,41.8523279820242,42.30661780863986,41.90751171284139,42.403812422892436],\"type\":\"scatter\"},{\"name\":\"59\",\"y\":[37.209999084472656,40.28041988261302,39.385838086826695,41.803827869089965,40.797894574112775,41.22180193188014,42.016473225127214,41.700615636545315,43.94562537983573,46.43035931527599,42.3376484626339,43.96983704543726,42.111952652323005,45.132475318046666,46.02183394666586,44.636491965211235,45.77265655832363,47.09594060513295,43.64979453055864,47.48037152711354,46.35794808375645,49.45517601878615,49.80078169865301,52.17660605871718,52.636479882020566,55.51154841587248,58.361886576676945,62.36138170244816,60.47059842689733,57.50299022409969],\"type\":\"scatter\"},{\"name\":\"60\",\"y\":[37.209999084472656,39.65522639130394,38.94157897081409,38.139255775092366,35.06044012456745,37.62070219978525,39.86530837141959,37.195565785969045,36.25334291558975,34.92039072852987,35.29538255620134,34.380757795277276,35.48142955422759,36.868300307167075,33.586322908704005,31.79290680138078,31.09214781273181,31.999952149709706,29.494307547148225,30.095434942411707,31.653328052906595,34.7663417926409,33.56514126357204,35.76671314193055,32.51843128785879,33.19894274082079,31.74013320623954,32.27312380580154,34.08400883283772,33.19842279645571],\"type\":\"scatter\"},{\"name\":\"61\",\"y\":[37.209999084472656,36.87784315595481,38.542090777522176,40.14346456531543,41.86846703341608,41.616787039623375,40.609862441145495,37.23279963829073,38.46489503920952,41.61023047706515,39.6395057970647,38.91921066463921,42.86550559254277,37.58598272317669,37.215709819783,38.95791206613395,37.481593668144086,39.61618094103525,41.63119882553396,46.01560628973254,43.609900345821615,42.882462604797226,43.55355944139793,44.11376499317444,40.81691368133066,38.785528289702064,38.94265832793865,38.91463052731094,40.31042200027589,36.61019473497753],\"type\":\"scatter\"},{\"name\":\"62\",\"y\":[37.209999084472656,37.403006082749236,38.50958844087307,39.536996993426285,38.662064873934746,36.609709679794086,36.89291609306733,37.58441769177034,37.57384580964679,39.02836107957982,39.38820712168005,41.74888354564757,46.69179694605555,45.27767059597015,45.34601627477459,49.54258775102094,50.15324533995936,50.53621494803115,50.80890948998631,51.14219950196711,49.24234786094328,50.847664526744985,53.079360205380674,54.39057362439556,55.34332455674295,49.97622975133707,51.72011078103098,51.33180774788986,51.23174682094627,53.48483057380782],\"type\":\"scatter\"},{\"name\":\"63\",\"y\":[37.209999084472656,37.99156670780603,36.936693726399795,37.103347540233166,38.914539732138195,37.7301309068034,36.074106852994454,38.225911950262436,40.679269272984484,40.79122632001124,42.19034522084602,41.33653281565066,44.71377629961164,45.7149113981233,40.68437568125633,42.068426151912625,39.27601606643189,42.21160463546574,46.28479809464173,44.16066455640296,42.17605588742072,40.0728048431879,38.1968490594609,40.41048871639475,41.59880897414931,39.899609037761046,40.85760051145948,40.21618817306622,40.73444951568405,41.92190433089915],\"type\":\"scatter\"},{\"name\":\"64\",\"y\":[37.209999084472656,38.962595634593825,37.94935321816787,37.50193411682525,37.413891040741305,34.10771715874671,34.17580835482942,35.352802815069005,35.61022123980062,36.19481617703679,36.54568282840328,37.34390973041676,37.260303214649824,35.77292549063925,34.49774424393827,35.48939685538823,34.73923344866117,33.27403169709091,32.91596985012011,35.295670886465274,37.13747064422737,38.61964665583221,38.75295242714614,40.193416930564325,39.63492007730032,38.31046062756922,41.42840759036822,40.60725474456643,39.81536960539538,37.301438874798166],\"type\":\"scatter\"},{\"name\":\"65\",\"y\":[37.209999084472656,38.318021335384394,40.36526723665755,40.06386004187865,40.50416327532136,45.39973916899995,45.53072400448763,46.4813083586269,48.70374857441626,44.78072219960637,45.28638070603794,43.49713092156334,46.892305804199225,48.76452882491336,46.91307200386275,44.88912697422846,47.451160299189006,47.060044813064216,46.82011550209223,42.84880640854949,42.94085346539438,46.879992638605756,46.56451637009446,46.549568878397736,43.45156439155647,41.95410995695554,44.58586779311722,45.30882316922792,51.3891182729059,48.19008295000953],\"type\":\"scatter\"},{\"name\":\"66\",\"y\":[37.209999084472656,38.569768158795924,40.17620576413159,42.018318842188386,47.00793975018955,46.9567221148634,47.719224739354836,46.11443258019802,47.22525125869803,46.88872631357367,44.42103150690076,42.217174614726105,39.65345917503,44.087307106182436,42.45861063488567,41.239491095007295,43.84929899971566,42.26435400660667,44.025359408023434,45.89910426752527,47.14326405846346,50.05824858170171,51.77615889118087,52.15275098432241,50.37983162850649,52.094127432977146,52.04563497854735,55.862566923976495,51.322437510257586,51.47599557713559],\"type\":\"scatter\"},{\"name\":\"67\",\"y\":[37.209999084472656,39.53627771372067,38.728748556293965,36.59914614035204,36.118297321534136,39.232306670423085,37.35194111768603,35.66419588478829,37.893494134707275,37.164377209649125,36.38737053234374,37.30566737332589,38.1229311810216,35.940341783269616,36.84762936853884,34.19127289177815,32.85544657797493,29.996032321666622,28.540509920977886,29.079962586113382,28.71667613913531,29.241467906423665,30.054900661151464,27.75455540563166,25.524083106447073,23.598104342303383,23.37357491500853,21.34016157654034,20.952084540950597,21.345159851376742],\"type\":\"scatter\"},{\"name\":\"68\",\"y\":[37.209999084472656,39.32812813372217,39.58216859386831,40.052168096553125,41.38387584816926,40.861625816883375,39.9035308566557,37.70087388308516,43.336287313733976,50.152247737883975,52.893393553248345,51.70417815686969,51.54729984333582,52.56203075920996,55.938396055592065,53.94553188672284,51.702047021267475,55.680994507464476,53.281212012319685,53.54885701384159,53.63039604914163,57.381634788337486,58.883559546269225,64.02011091703777,64.78654130983574,60.23287367286521,62.777394321722824,68.7905750511122,72.52244836948317,70.83403799342516],\"type\":\"scatter\"},{\"name\":\"69\",\"y\":[37.209999084472656,40.58102536664328,37.41188612786501,37.895081751980044,37.41173212188546,37.557472403430175,36.31185641584456,34.83335024893291,32.5586728313011,33.60812239345359,33.63119211775175,33.527917450005006,34.24104513548399,33.04798747585665,30.652554309587508,32.67719660173057,33.72017809416163,31.885441485213747,29.167011629961593,29.47256073554085,30.43292013632376,31.94243949475879,31.4621951832898,31.552542409263385,33.45241236680799,32.56084480618088,32.88088438647223,34.229749744073736,33.673752016027215,31.98957215875928],\"type\":\"scatter\"},{\"name\":\"70\",\"y\":[37.209999084472656,36.14080669420796,36.95691823357521,36.97773044568879,36.15802150373467,32.91174991470729,35.6038162868384,35.386726302896065,32.883357767459536,33.890128817913585,39.10868904362438,38.50777478667404,38.345093415862685,37.004864929482586,36.52521634693228,35.56007073774235,34.42045658152987,35.096509201057984,37.0614463179826,35.87528129039043,35.08239721771692,37.0714580540016,34.320370324154645,34.72829676480441,37.31217216699243,38.12679546343368,38.2891071787088,40.027177749166334,41.757114134456685,37.94221853317928],\"type\":\"scatter\"},{\"name\":\"71\",\"y\":[37.209999084472656,38.17756340769661,36.18085512661439,36.24633381261555,36.404942509848695,37.75486577837302,40.174832936127714,40.17015252689711,36.06886859084991,34.16910078162918,34.307074515906926,35.80760338362499,32.82626931244881,34.037129355222525,36.352166874115596,40.54133955455162,41.17400578322273,40.764988767931506,43.768121891842,39.31738207115879,38.30896679932305,39.358326866489165,38.18930316721951,38.15428304720975,38.76502830560406,41.626308322907946,40.28191621800547,40.952091638040436,39.606095948386375,39.312334871776805],\"type\":\"scatter\"},{\"name\":\"72\",\"y\":[37.209999084472656,35.73989617069115,35.58721629546392,36.657749741529045,38.66978383190725,38.577295069523366,41.759243042037,46.53596437090274,45.79131534843041,41.492321474179825,41.76589992031751,43.20076707403094,41.55182448420035,40.574658864310464,38.14491503092046,37.66445799455571,36.7583969267683,36.5315187785167,38.07482353932686,37.01372225666233,36.694403949770916,36.90867921930479,34.87514485713226,35.44958100707302,34.71565119611678,35.363397853990094,34.536441173392994,36.21801890869526,37.13764794721375,38.71468114857687],\"type\":\"scatter\"},{\"name\":\"73\",\"y\":[37.209999084472656,40.26558850340815,38.02090673878823,45.02756124568049,44.34753001541449,43.46574638256567,47.00742150919459,48.96721012673811,45.74936208308274,44.46886683733272,47.36417960711493,45.838367722057384,47.646448550810135,46.03977455311428,46.607007442452904,49.38847786543645,47.530285880859516,46.2522870976185,48.85408358613101,47.60408387841093,48.61107490519863,47.07004701076715,46.37931184988636,45.92306915242697,45.924236740270324,46.82134626251673,42.47587100695261,42.585557022960046,44.43829369552927,46.425196358689334],\"type\":\"scatter\"},{\"name\":\"74\",\"y\":[37.209999084472656,35.786490787200236,34.772962334881946,36.35556530026447,34.93336882712568,38.08274589479538,36.90658221979733,38.11315890172691,36.27278011455544,37.72109132036474,37.1688319712056,41.081112082130154,41.70509391061002,39.48173712550108,39.921736947505565,38.46713298769623,39.015278528504304,37.94370595441718,38.37749899221448,37.7991144001817,37.50519056858676,34.657723396738376,34.76379095660766,37.529398693651196,40.583484216186164,40.92507405841404,41.655792761736265,43.498061472160906,44.090125169290026,45.01010056726987],\"type\":\"scatter\"},{\"name\":\"75\",\"y\":[37.209999084472656,38.29742347946865,42.05208901275498,44.27910874110763,44.196943940738166,45.694483941273475,45.388606081416796,45.583698164558925,45.456651480584824,49.31563977230632,47.266076562349134,49.45633157763717,48.41440096750632,47.099089048915985,47.334215496152346,48.890869096552386,50.44719372360004,56.171199238723126,59.508806994787854,63.222664125948775,60.66895980086529,61.675939578158015,59.93985396923206,59.14951091551028,57.90421880835455,54.66797436127995,53.138692293924585,55.48879645027743,56.42282945291419,61.31437894345071],\"type\":\"scatter\"},{\"name\":\"76\",\"y\":[37.209999084472656,36.71453216855948,36.13036173771594,33.3989284358087,35.6579070449003,33.67198404008918,34.327306422196216,35.531540990678124,36.492151649161634,35.97351064473741,35.28613135250417,34.620126085222424,33.406996307933596,31.342832050968592,32.43879083228823,30.593832549711635,31.941648535553064,29.525668989820105,28.74355750505013,30.211532572619504,30.84191898555506,28.724062208838976,28.405357684623247,27.574726489452217,28.356352881137685,27.955496871638744,30.660860414139698,30.259834877723296,30.34628530983611,29.49484366702931],\"type\":\"scatter\"},{\"name\":\"77\",\"y\":[37.209999084472656,37.032752636135015,38.756299573976385,38.09891460714655,36.697838001649636,35.221053842969624,34.33962317794131,29.1315868904269,30.18402515346054,28.556821166263468,28.279565106125858,30.103840960377465,32.305784157241376,31.09367870464223,31.56837403360174,29.54829501257808,28.66952580647846,28.293928200550294,29.457517408867805,29.76006583863978,29.9338933726941,30.200187372492447,28.640062262642434,31.46422993005787,34.05012323061405,35.54539975799888,37.72632337004392,37.5961959971007,35.4105699842156,37.25413420895561],\"type\":\"scatter\"},{\"name\":\"78\",\"y\":[37.209999084472656,37.269914595567755,35.76243856301266,33.660794799259236,31.77986402855882,33.10535258974633,34.2642222388888,31.906090279823193,35.85785542011747,32.86736102185258,31.764603796169663,30.64036718960494,29.964708210928542,27.821831188160015,26.374707089986682,27.751531434260585,28.103934863392077,26.994256294177617,28.126591863585602,28.71805796508981,28.265034247765364,27.511169179073427,26.95892807704946,29.240938518189637,30.324535601126904,30.625542915052147,31.83268120424708,32.7031070599375,34.210371700744695,35.55613313863539],\"type\":\"scatter\"},{\"name\":\"79\",\"y\":[37.209999084472656,35.51214678028633,35.72411200711249,35.81078938801089,34.5858460299478,37.346774376635054,38.62098821497557,38.794873159558,35.85893178318647,40.25949778146049,40.6302222558219,41.29422104482441,41.15501191499003,40.652245196466524,40.15191565223428,41.65952190460671,39.219150220477495,40.40117019540052,42.52795431257271,45.78412307262648,45.14488546955694,41.802034689475555,42.70494730031358,42.71115741812053,45.50828392398337,42.74459939591495,45.16242777292512,45.19900364362778,44.036269223517465,40.735039050511816],\"type\":\"scatter\"},{\"name\":\"80\",\"y\":[37.209999084472656,36.439672790639484,36.013374880029936,35.697954510148605,34.62787786006943,34.765879754102734,34.41994325425327,37.0622022067419,33.18470460216164,34.149224363382096,31.535224146988284,31.328900347287565,32.41360769541235,30.888041884127176,29.577747656762362,29.03857746779291,28.396787457843452,28.62775165477338,26.048924374199462,24.10095496367054,23.99385715210871,23.81218123318347,24.84729464033167,24.6934487223705,23.337286119227397,22.60923242723905,23.100165476002193,22.753983233538502,22.98626138180382,24.670467230571127],\"type\":\"scatter\"},{\"name\":\"81\",\"y\":[37.209999084472656,37.4520262867778,37.8458485847867,37.57832715360772,39.39200741063199,38.53199332967885,39.69870077615299,38.17479362260212,37.73912779413114,40.18161927323096,38.677640340269015,39.3173523389371,39.67773550971991,41.710764648059296,41.61855652356905,40.14809419471696,45.83930916943529,44.456266037304985,47.95640790649075,47.074443726772955,49.74211864674862,54.83330061042842,57.08670932621149,57.853056502333864,56.629436254924165,59.86969773767131,62.33220841419826,68.788114018249,70.30587102576037,67.76105012611882],\"type\":\"scatter\"},{\"name\":\"82\",\"y\":[37.209999084472656,36.87306769558207,37.712946006669135,36.223511114256006,37.10798727527963,36.07927515809245,36.97543051197809,35.43930297816858,35.793850086707465,33.020353212828034,34.29600419905266,36.01818795497524,35.48896883063223,36.50514543402237,36.37156776010874,38.251721024695826,38.72241276391869,39.286384896748785,35.56800593633291,36.637709505148464,38.48251951538843,37.16535648092975,34.9644304901735,34.54192109868679,33.55712324950024,35.761261437694216,33.51536816054342,31.904189005896697,30.010701398145045,28.553875564269354],\"type\":\"scatter\"},{\"name\":\"83\",\"y\":[37.209999084472656,37.85609558569908,38.006673959036675,37.99261401438898,36.65293931213773,34.75965269871664,34.011527432997916,33.44258160437482,34.557919253048816,31.433577219701874,32.03278349078081,29.383509505530046,29.474765496065473,31.690185530277432,28.412235136286437,28.52939079539711,27.453086760818596,29.372934829220444,30.280704440688332,31.315426897475742,32.48213422749199,32.84504399127625,35.716163974957006,35.556687482489444,35.48056309265217,35.74070619972113,38.514952777498344,39.29471162419341,42.13373770955352,40.1310389474712],\"type\":\"scatter\"},{\"name\":\"84\",\"y\":[37.209999084472656,39.67318320035065,40.65055812998686,41.323504779443454,41.75872109261055,41.114237683126746,42.39148124476077,41.98991904778961,43.355776232501064,42.88552879874796,42.28464491737537,37.16951485190884,38.06660632627788,35.930602643795055,36.16432069574466,36.068267525182556,35.95394192909947,38.18394406234362,37.74610504666866,36.90360475923537,35.630067536206255,36.546882044006516,38.324481511775794,41.04778554768867,40.25362431164967,41.33548942797685,38.28293898403864,37.11849901598516,35.71535137812944,35.558498992229964],\"type\":\"scatter\"},{\"name\":\"85\",\"y\":[37.209999084472656,36.94015697464526,37.035025857322026,39.02550600917282,37.91069091012176,40.300963738467786,39.08743338571919,39.05678638112991,40.22603470793037,42.68529560715277,41.974035670387,42.29802452903035,42.930706143197646,43.55446278068228,47.75280107186714,47.71807955020747,50.16532159536697,48.73692413884384,46.732580854111085,47.9702989407188,44.487424430874384,48.51645369770005,49.80404595504854,50.70380390043741,49.773332699357745,53.34759376954033,52.946689559688835,54.441643477254985,56.00779321375985,61.615834712264764],\"type\":\"scatter\"},{\"name\":\"86\",\"y\":[37.209999084472656,37.469311817409405,38.69098447493024,36.68831738116899,35.638708345557475,33.45770905647561,33.65186111840179,32.75826458191253,34.31188453328194,34.13984618571066,33.38950844567935,35.69090637845656,36.89684544681514,35.74876050560819,37.20979616553266,37.89569860247808,36.88063733881277,36.844389871179374,37.82785033393756,39.3057971735694,35.52476659151147,34.969337064649565,34.52709511429665,34.552018386689014,32.27282335165149,32.164218515730106,34.31674770347738,34.750799214857935,35.42033438857794,31.93988529265265],\"type\":\"scatter\"},{\"name\":\"87\",\"y\":[37.209999084472656,35.005773561043156,35.26820518434667,36.45271076061506,33.79489450690681,35.204607405465644,36.29435938872062,35.370288807159966,36.47089298111446,35.24358489669769,32.57013857658748,32.17242385000817,33.290443661856365,33.08227954790846,34.8358736545899,35.723429307481865,38.098531707762234,38.98055556510268,41.482381636548915,37.64120205738697,38.62868939592616,38.78281084453517,38.56105024464868,40.28215230351322,38.19928908597549,36.49973274868185,36.6770176628928,36.95130736921245,36.5498435277968,35.257165692204794],\"type\":\"scatter\"},{\"name\":\"88\",\"y\":[37.209999084472656,34.817914458158086,33.97956588789679,36.64277058939318,36.571285049089404,39.49012782894232,36.85812485522206,36.081652097042664,36.11607417456312,36.88994036319872,35.09301130997335,35.652792427986164,36.52973953476729,36.32163550800457,33.0004852443371,32.817367821873795,32.639618821040784,35.42731965112681,36.03205375035688,37.50309531334448,34.380187477752145,33.12872577508348,32.532566427060445,30.063719889275838,31.688517870306843,31.021401595716075,28.5691409577961,28.004600557473484,27.69183188297261,28.28043201144452],\"type\":\"scatter\"},{\"name\":\"89\",\"y\":[37.209999084472656,37.140629363688696,37.93999986654141,37.87553564115999,37.50623030093656,37.28536342026162,41.0026470960648,41.18076744879281,42.14697856925274,43.406100312027895,44.92659333660861,44.881713377228984,43.07226950091106,42.680686697040336,43.25008858813809,40.49012371006705,41.19989628732043,40.06090342026439,40.02908264686924,36.58499704301485,35.23586994892626,33.71011741476178,37.207967483855356,36.08475010546265,36.07473809169362,38.602514759202165,40.98310067221146,40.888573065705785,39.44100427387511,39.60692051196315],\"type\":\"scatter\"},{\"name\":\"90\",\"y\":[37.209999084472656,38.89177639832896,37.34859761617658,36.387311993053196,35.64953726847764,35.299821221816536,33.97526454947254,35.23029118025821,36.84901084885865,36.48700991189067,37.598237472344174,37.873301942437855,36.64912335921116,37.1280231494473,34.488788614483724,31.31310043621973,29.81347865136158,29.9322706480701,29.8634019998736,30.408510809689542,29.962778054656344,29.8969035359779,29.621531448418917,28.186688303520352,30.05976575501192,31.427628275847635,30.295849260463932,29.510031063305394,31.66905099720913,32.721869859116026],\"type\":\"scatter\"},{\"name\":\"91\",\"y\":[37.209999084472656,36.258505363063726,34.74322165865334,34.722774347538284,34.52309185567784,36.53150800198161,33.93124600070446,35.2123878351476,36.08506924246226,37.00790421697219,35.23399708932921,36.95361003252249,37.35461738344911,35.19440913005747,33.19058244606701,31.62618503048253,31.2155675755258,33.412241083757905,32.7275374433128,33.865264885547404,33.16346784053281,33.58173350393482,35.67845821415393,35.898941080992,36.46958978374465,34.39937143646677,32.76804750328629,32.26895791767135,32.38029570898173,32.167997136134616],\"type\":\"scatter\"},{\"name\":\"92\",\"y\":[37.209999084472656,38.30013650859597,39.35022822218593,40.11493292761212,40.15286775217795,41.21527452133262,38.7195336166815,42.04872696844448,45.750866712855036,43.21997864343155,48.031547072496174,45.7834222378441,44.22523614926663,43.564881361001454,41.944722919595485,42.36253288554941,43.22845890638956,39.94914478987513,36.89758663474145,37.87559091160775,38.96383226928012,38.6639570138281,39.072446512017116,39.85601336124128,39.23854266000838,42.575715233610964,40.15579693255735,39.96875224422224,41.659523792644464,41.00161149725209],\"type\":\"scatter\"},{\"name\":\"93\",\"y\":[37.209999084472656,35.010294712333945,35.774380405798745,37.411501360844355,37.064245205589465,40.758927117865376,38.765849404683316,38.28061168820065,39.017988046760124,41.850072919399935,43.25553086719246,42.12085855158542,41.51515073963681,42.05003126693535,39.93168006242719,37.998383564154906,38.27215655753422,39.26407827487963,39.21969548382008,40.61539912122064,38.45281694573302,40.96523195610694,41.2412651659247,41.77905139569222,40.04016300773102,42.606099612066465,42.68669600692839,43.522565499643676,39.80623099566669,41.43996218836306],\"type\":\"scatter\"},{\"name\":\"94\",\"y\":[37.209999084472656,37.96484002184985,37.4023903738202,36.41560015417403,37.25390992451449,37.02270964378375,35.10503498710767,32.98313041060998,35.31907806258284,33.58120642632331,36.45360560732803,36.40813687510554,34.13409298381477,31.870839004286275,33.400394990845705,35.93704507722732,36.501236155063566,39.08273256364572,41.5202881549281,45.98822882102288,47.649050470419176,45.422236611097304,42.680860042507604,41.62907843697886,42.57022059558388,41.90434556609194,39.46320834132782,40.07579503145249,41.56169671442699,43.25958079335067],\"type\":\"scatter\"},{\"name\":\"95\",\"y\":[37.209999084472656,36.287092525106644,37.033706164051196,35.84404161764041,37.32735664227974,37.642945300377555,36.49604274109528,36.852383552167495,34.855335965349454,35.16525331411272,36.21933611776397,34.708549441428886,33.743852295463476,35.49068921905409,33.83875294392634,34.21508496058479,30.882933687881238,31.939440022645325,30.528465169667946,32.47677099277988,31.29835186455726,28.988820286781703,30.51070364618174,27.713465603286394,28.16448059245041,26.84354204318955,27.174327588076164,26.475020478665446,27.90009649583932,27.949987652840772],\"type\":\"scatter\"},{\"name\":\"96\",\"y\":[37.209999084472656,35.921440041509044,36.9881839208166,38.15113262151849,37.93265113812474,41.051695214679846,41.80846608813596,39.41796927329755,38.96401858281204,39.82924638789998,39.71339480297093,41.341850697544054,42.23527068571411,42.6669609757008,42.73341967817678,39.68011285363463,37.76610111621672,40.77408128199873,41.020735458461296,42.54345492451287,44.297684465187466,45.302947284443846,45.83793312804728,46.09125917020911,46.60726559647425,43.15420773990798,40.51040764110459,39.50531575517056,39.363440944563706,40.94418500403138],\"type\":\"scatter\"},{\"name\":\"97\",\"y\":[37.209999084472656,34.75683605920894,35.827850708608985,39.141404007241825,42.19497975965773,42.31069707193353,45.542886025008606,46.988927996589595,47.15883504183599,46.55732959575546,48.572085898410165,54.771614744272604,54.886909494945094,58.893300614174,59.87899880480082,59.12007392723776,58.013263899697606,63.08106692944525,61.544249395672765,66.00855987334144,68.55438715003442,66.86980900452903,68.68535906630802,72.46548319700915,68.0759414089893,64.93178327520657,63.72101947856435,62.084484666691125,62.23435449400184,61.37105062956611],\"type\":\"scatter\"},{\"name\":\"98\",\"y\":[37.209999084472656,33.982774076698156,34.60812747749609,34.43335359632468,34.751341185235724,36.37980632186242,33.99624930260356,30.74324624330644,29.80565542938357,29.662088518961777,32.92681539921048,32.45848843637282,33.05232471234104,33.740717188001604,33.29899001529622,31.904407708417114,31.89955829760256,31.708515783251247,34.59322302417838,35.675927808674004,32.142760316278824,33.27905090854929,33.3133516576564,32.261619502520006,37.640333611323456,36.06233799089338,36.84304119495289,34.60729470223834,34.18977732402118,32.69880439875386],\"type\":\"scatter\"},{\"name\":\"99\",\"y\":[37.209999084472656,36.309414368974544,35.62574383190334,34.758153571277134,33.03897265556799,33.718348217004994,37.00129051860961,35.04080602423284,34.67830496841148,34.51978592462766,34.38135262396532,32.869514753863974,32.44892227260001,32.32263385978663,34.42233833741988,33.852375566319964,34.597894600094456,35.265022618098584,34.345163721434034,35.80981309256302,35.848902588192516,36.34784732009192,34.94496568784777,35.047725573126115,33.00239785174355,34.58228150140218,36.78942700297077,38.185481960031225,39.14572911734638,39.138749779557266],\"type\":\"scatter\"}],                        {\"template\":{\"data\":{\"bar\":[{\"error_x\":{\"color\":\"#2a3f5f\"},\"error_y\":{\"color\":\"#2a3f5f\"},\"marker\":{\"line\":{\"color\":\"#E5ECF6\",\"width\":0.5},\"pattern\":{\"fillmode\":\"overlay\",\"size\":10,\"solidity\":0.2}},\"type\":\"bar\"}],\"barpolar\":[{\"marker\":{\"line\":{\"color\":\"#E5ECF6\",\"width\":0.5},\"pattern\":{\"fillmode\":\"overlay\",\"size\":10,\"solidity\":0.2}},\"type\":\"barpolar\"}],\"carpet\":[{\"aaxis\":{\"endlinecolor\":\"#2a3f5f\",\"gridcolor\":\"white\",\"linecolor\":\"white\",\"minorgridcolor\":\"white\",\"startlinecolor\":\"#2a3f5f\"},\"baxis\":{\"endlinecolor\":\"#2a3f5f\",\"gridcolor\":\"white\",\"linecolor\":\"white\",\"minorgridcolor\":\"white\",\"startlinecolor\":\"#2a3f5f\"},\"type\":\"carpet\"}],\"choropleth\":[{\"colorbar\":{\"outlinewidth\":0,\"ticks\":\"\"},\"type\":\"choropleth\"}],\"contour\":[{\"colorbar\":{\"outlinewidth\":0,\"ticks\":\"\"},\"colorscale\":[[0.0,\"#0d0887\"],[0.1111111111111111,\"#46039f\"],[0.2222222222222222,\"#7201a8\"],[0.3333333333333333,\"#9c179e\"],[0.4444444444444444,\"#bd3786\"],[0.5555555555555556,\"#d8576b\"],[0.6666666666666666,\"#ed7953\"],[0.7777777777777778,\"#fb9f3a\"],[0.8888888888888888,\"#fdca26\"],[1.0,\"#f0f921\"]],\"type\":\"contour\"}],\"contourcarpet\":[{\"colorbar\":{\"outlinewidth\":0,\"ticks\":\"\"},\"type\":\"contourcarpet\"}],\"heatmap\":[{\"colorbar\":{\"outlinewidth\":0,\"ticks\":\"\"},\"colorscale\":[[0.0,\"#0d0887\"],[0.1111111111111111,\"#46039f\"],[0.2222222222222222,\"#7201a8\"],[0.3333333333333333,\"#9c179e\"],[0.4444444444444444,\"#bd3786\"],[0.5555555555555556,\"#d8576b\"],[0.6666666666666666,\"#ed7953\"],[0.7777777777777778,\"#fb9f3a\"],[0.8888888888888888,\"#fdca26\"],[1.0,\"#f0f921\"]],\"type\":\"heatmap\"}],\"heatmapgl\":[{\"colorbar\":{\"outlinewidth\":0,\"ticks\":\"\"},\"colorscale\":[[0.0,\"#0d0887\"],[0.1111111111111111,\"#46039f\"],[0.2222222222222222,\"#7201a8\"],[0.3333333333333333,\"#9c179e\"],[0.4444444444444444,\"#bd3786\"],[0.5555555555555556,\"#d8576b\"],[0.6666666666666666,\"#ed7953\"],[0.7777777777777778,\"#fb9f3a\"],[0.8888888888888888,\"#fdca26\"],[1.0,\"#f0f921\"]],\"type\":\"heatmapgl\"}],\"histogram\":[{\"marker\":{\"pattern\":{\"fillmode\":\"overlay\",\"size\":10,\"solidity\":0.2}},\"type\":\"histogram\"}],\"histogram2d\":[{\"colorbar\":{\"outlinewidth\":0,\"ticks\":\"\"},\"colorscale\":[[0.0,\"#0d0887\"],[0.1111111111111111,\"#46039f\"],[0.2222222222222222,\"#7201a8\"],[0.3333333333333333,\"#9c179e\"],[0.4444444444444444,\"#bd3786\"],[0.5555555555555556,\"#d8576b\"],[0.6666666666666666,\"#ed7953\"],[0.7777777777777778,\"#fb9f3a\"],[0.8888888888888888,\"#fdca26\"],[1.0,\"#f0f921\"]],\"type\":\"histogram2d\"}],\"histogram2dcontour\":[{\"colorbar\":{\"outlinewidth\":0,\"ticks\":\"\"},\"colorscale\":[[0.0,\"#0d0887\"],[0.1111111111111111,\"#46039f\"],[0.2222222222222222,\"#7201a8\"],[0.3333333333333333,\"#9c179e\"],[0.4444444444444444,\"#bd3786\"],[0.5555555555555556,\"#d8576b\"],[0.6666666666666666,\"#ed7953\"],[0.7777777777777778,\"#fb9f3a\"],[0.8888888888888888,\"#fdca26\"],[1.0,\"#f0f921\"]],\"type\":\"histogram2dcontour\"}],\"mesh3d\":[{\"colorbar\":{\"outlinewidth\":0,\"ticks\":\"\"},\"type\":\"mesh3d\"}],\"parcoords\":[{\"line\":{\"colorbar\":{\"outlinewidth\":0,\"ticks\":\"\"}},\"type\":\"parcoords\"}],\"pie\":[{\"automargin\":true,\"type\":\"pie\"}],\"scatter\":[{\"marker\":{\"colorbar\":{\"outlinewidth\":0,\"ticks\":\"\"}},\"type\":\"scatter\"}],\"scatter3d\":[{\"line\":{\"colorbar\":{\"outlinewidth\":0,\"ticks\":\"\"}},\"marker\":{\"colorbar\":{\"outlinewidth\":0,\"ticks\":\"\"}},\"type\":\"scatter3d\"}],\"scattercarpet\":[{\"marker\":{\"colorbar\":{\"outlinewidth\":0,\"ticks\":\"\"}},\"type\":\"scattercarpet\"}],\"scattergeo\":[{\"marker\":{\"colorbar\":{\"outlinewidth\":0,\"ticks\":\"\"}},\"type\":\"scattergeo\"}],\"scattergl\":[{\"marker\":{\"colorbar\":{\"outlinewidth\":0,\"ticks\":\"\"}},\"type\":\"scattergl\"}],\"scattermapbox\":[{\"marker\":{\"colorbar\":{\"outlinewidth\":0,\"ticks\":\"\"}},\"type\":\"scattermapbox\"}],\"scatterpolar\":[{\"marker\":{\"colorbar\":{\"outlinewidth\":0,\"ticks\":\"\"}},\"type\":\"scatterpolar\"}],\"scatterpolargl\":[{\"marker\":{\"colorbar\":{\"outlinewidth\":0,\"ticks\":\"\"}},\"type\":\"scatterpolargl\"}],\"scatterternary\":[{\"marker\":{\"colorbar\":{\"outlinewidth\":0,\"ticks\":\"\"}},\"type\":\"scatterternary\"}],\"surface\":[{\"colorbar\":{\"outlinewidth\":0,\"ticks\":\"\"},\"colorscale\":[[0.0,\"#0d0887\"],[0.1111111111111111,\"#46039f\"],[0.2222222222222222,\"#7201a8\"],[0.3333333333333333,\"#9c179e\"],[0.4444444444444444,\"#bd3786\"],[0.5555555555555556,\"#d8576b\"],[0.6666666666666666,\"#ed7953\"],[0.7777777777777778,\"#fb9f3a\"],[0.8888888888888888,\"#fdca26\"],[1.0,\"#f0f921\"]],\"type\":\"surface\"}],\"table\":[{\"cells\":{\"fill\":{\"color\":\"#EBF0F8\"},\"line\":{\"color\":\"white\"}},\"header\":{\"fill\":{\"color\":\"#C8D4E3\"},\"line\":{\"color\":\"white\"}},\"type\":\"table\"}]},\"layout\":{\"annotationdefaults\":{\"arrowcolor\":\"#2a3f5f\",\"arrowhead\":0,\"arrowwidth\":1},\"autotypenumbers\":\"strict\",\"coloraxis\":{\"colorbar\":{\"outlinewidth\":0,\"ticks\":\"\"}},\"colorscale\":{\"diverging\":[[0,\"#8e0152\"],[0.1,\"#c51b7d\"],[0.2,\"#de77ae\"],[0.3,\"#f1b6da\"],[0.4,\"#fde0ef\"],[0.5,\"#f7f7f7\"],[0.6,\"#e6f5d0\"],[0.7,\"#b8e186\"],[0.8,\"#7fbc41\"],[0.9,\"#4d9221\"],[1,\"#276419\"]],\"sequential\":[[0.0,\"#0d0887\"],[0.1111111111111111,\"#46039f\"],[0.2222222222222222,\"#7201a8\"],[0.3333333333333333,\"#9c179e\"],[0.4444444444444444,\"#bd3786\"],[0.5555555555555556,\"#d8576b\"],[0.6666666666666666,\"#ed7953\"],[0.7777777777777778,\"#fb9f3a\"],[0.8888888888888888,\"#fdca26\"],[1.0,\"#f0f921\"]],\"sequentialminus\":[[0.0,\"#0d0887\"],[0.1111111111111111,\"#46039f\"],[0.2222222222222222,\"#7201a8\"],[0.3333333333333333,\"#9c179e\"],[0.4444444444444444,\"#bd3786\"],[0.5555555555555556,\"#d8576b\"],[0.6666666666666666,\"#ed7953\"],[0.7777777777777778,\"#fb9f3a\"],[0.8888888888888888,\"#fdca26\"],[1.0,\"#f0f921\"]]},\"colorway\":[\"#636efa\",\"#EF553B\",\"#00cc96\",\"#ab63fa\",\"#FFA15A\",\"#19d3f3\",\"#FF6692\",\"#B6E880\",\"#FF97FF\",\"#FECB52\"],\"font\":{\"color\":\"#2a3f5f\"},\"geo\":{\"bgcolor\":\"white\",\"lakecolor\":\"white\",\"landcolor\":\"#E5ECF6\",\"showlakes\":true,\"showland\":true,\"subunitcolor\":\"white\"},\"hoverlabel\":{\"align\":\"left\"},\"hovermode\":\"closest\",\"mapbox\":{\"style\":\"light\"},\"paper_bgcolor\":\"white\",\"plot_bgcolor\":\"#E5ECF6\",\"polar\":{\"angularaxis\":{\"gridcolor\":\"white\",\"linecolor\":\"white\",\"ticks\":\"\"},\"bgcolor\":\"#E5ECF6\",\"radialaxis\":{\"gridcolor\":\"white\",\"linecolor\":\"white\",\"ticks\":\"\"}},\"scene\":{\"xaxis\":{\"backgroundcolor\":\"#E5ECF6\",\"gridcolor\":\"white\",\"gridwidth\":2,\"linecolor\":\"white\",\"showbackground\":true,\"ticks\":\"\",\"zerolinecolor\":\"white\"},\"yaxis\":{\"backgroundcolor\":\"#E5ECF6\",\"gridcolor\":\"white\",\"gridwidth\":2,\"linecolor\":\"white\",\"showbackground\":true,\"ticks\":\"\",\"zerolinecolor\":\"white\"},\"zaxis\":{\"backgroundcolor\":\"#E5ECF6\",\"gridcolor\":\"white\",\"gridwidth\":2,\"linecolor\":\"white\",\"showbackground\":true,\"ticks\":\"\",\"zerolinecolor\":\"white\"}},\"shapedefaults\":{\"line\":{\"color\":\"#2a3f5f\"}},\"ternary\":{\"aaxis\":{\"gridcolor\":\"white\",\"linecolor\":\"white\",\"ticks\":\"\"},\"baxis\":{\"gridcolor\":\"white\",\"linecolor\":\"white\",\"ticks\":\"\"},\"bgcolor\":\"#E5ECF6\",\"caxis\":{\"gridcolor\":\"white\",\"linecolor\":\"white\",\"ticks\":\"\"}},\"title\":{\"x\":0.05},\"xaxis\":{\"automargin\":true,\"gridcolor\":\"white\",\"linecolor\":\"white\",\"ticks\":\"\",\"title\":{\"standoff\":15},\"zerolinecolor\":\"white\",\"zerolinewidth\":2},\"yaxis\":{\"automargin\":true,\"gridcolor\":\"white\",\"linecolor\":\"white\",\"ticks\":\"\",\"title\":{\"standoff\":15},\"zerolinecolor\":\"white\",\"zerolinewidth\":2}}},\"xaxis\":{\"anchor\":\"y\",\"domain\":[0.0,1.0]},\"yaxis\":{\"anchor\":\"x\",\"domain\":[0.0,1.0]},\"legend\":{\"tracegroupgap\":0},\"title\":{\"text\":\"Previs\\u00f5es do pre\\u00e7o das a\\u00e7\\u00f5es - simula\\u00e7\\u00f5es\"}},                        {\"responsive\": true}                    ).then(function(){\n",
              "                            \n",
              "var gd = document.getElementById('e260ad58-1d73-40c6-b99e-fe1d2731e1c6');\n",
              "var x = new MutationObserver(function (mutations, observer) {{\n",
              "        var display = window.getComputedStyle(gd).display;\n",
              "        if (!display || display === 'none') {{\n",
              "            console.log([gd, 'removed!']);\n",
              "            Plotly.purge(gd);\n",
              "            observer.disconnect();\n",
              "        }}\n",
              "}});\n",
              "\n",
              "// Listen for the removal of the full notebook cells\n",
              "var notebookContainer = gd.closest('#notebook-container');\n",
              "if (notebookContainer) {{\n",
              "    x.observe(notebookContainer, {childList: true});\n",
              "}}\n",
              "\n",
              "// Listen for the clearing of the current output cell\n",
              "var outputEl = gd.closest('.output');\n",
              "if (outputEl) {{\n",
              "    x.observe(outputEl, {childList: true});\n",
              "}}\n",
              "\n",
              "                        })                };                            </script>        </div>\n",
              "</body>\n",
              "</html>"
            ]
          },
          "metadata": {}
        }
      ]
    },
    {
      "cell_type": "markdown",
      "source": [
        "4.2. Histograma"
      ],
      "metadata": {
        "id": "RrcABHO-QRgP"
      }
    },
    {
      "cell_type": "code",
      "source": [
        "preco_mediano = str(np.percentile(previsoes, 50))\n",
        "preco_95 = str(np.percentile(previsoes, 5))\n",
        "preco_99 = str(np.percentile(previsoes, 1))"
      ],
      "metadata": {
        "id": "YsFEEcMeFQCz"
      },
      "execution_count": null,
      "outputs": []
    },
    {
      "cell_type": "code",
      "source": [
        "preco_mediano"
      ],
      "metadata": {
        "id": "sNOz0SgeGi8p",
        "colab": {
          "base_uri": "https://localhost:8080/",
          "height": 36
        },
        "outputId": "ec92c041-0fa3-4291-fc38-96f7386e3a6d"
      },
      "execution_count": null,
      "outputs": [
        {
          "output_type": "execute_result",
          "data": {
            "text/plain": [
              "'37.86582123478222'"
            ],
            "application/vnd.google.colaboratory.intrinsic+json": {
              "type": "string"
            }
          },
          "metadata": {},
          "execution_count": 74
        }
      ]
    },
    {
      "cell_type": "code",
      "source": [
        "preco_95"
      ],
      "metadata": {
        "id": "x0IoOo9oGc_4",
        "colab": {
          "base_uri": "https://localhost:8080/",
          "height": 36
        },
        "outputId": "3af2ae92-c064-446b-d148-e36eeb851e76"
      },
      "execution_count": null,
      "outputs": [
        {
          "output_type": "execute_result",
          "data": {
            "text/plain": [
              "'28.103680220487078'"
            ],
            "application/vnd.google.colaboratory.intrinsic+json": {
              "type": "string"
            }
          },
          "metadata": {},
          "execution_count": 75
        }
      ]
    },
    {
      "cell_type": "code",
      "source": [
        "preco_99"
      ],
      "metadata": {
        "id": "OLYA6k3-GRLK",
        "colab": {
          "base_uri": "https://localhost:8080/",
          "height": 36
        },
        "outputId": "157671f3-37be-4b99-ef37-a3a0dd519b8c"
      },
      "execution_count": null,
      "outputs": [
        {
          "output_type": "execute_result",
          "data": {
            "text/plain": [
              "'24.276331471103337'"
            ],
            "application/vnd.google.colaboratory.intrinsic+json": {
              "type": "string"
            }
          },
          "metadata": {},
          "execution_count": 76
        }
      ]
    },
    {
      "cell_type": "code",
      "source": [
        "print(f'''Para a previsão do preço da ação da PRIO.SA nos próximos {dias_frente} dias utilizando o Método de Monte Carlo com {simulacoes} simulações, temos: \n",
        "\n",
        "Com 50% de probabilidade, o preço será maior que R$ {preco_mediano}.\n",
        "\n",
        "Com 95% de probabilidade, o preço será maior que R$ {preco_95}.\n",
        "\n",
        "Com 99% de probabilidade, o preço será maior que R$ {preco_99}.''')"
      ],
      "metadata": {
        "id": "2xXVE69MLxdS",
        "colab": {
          "base_uri": "https://localhost:8080/"
        },
        "outputId": "a5829bed-e7b6-43cf-afad-378ae1392b59"
      },
      "execution_count": null,
      "outputs": [
        {
          "output_type": "stream",
          "name": "stdout",
          "text": [
            "Para a previsão do preço da ação da PRIO.SA nos próximos 30 dias utilizando o Método de Monte Carlo com 100 simulações, temos: \n",
            "\n",
            "Com 50% de probabilidade, o preço será maior que R$ 37.86582123478222.\n",
            "\n",
            "Com 95% de probabilidade, o preço será maior que R$ 28.103680220487078.\n",
            "\n",
            "Com 99% de probabilidade, o preço será maior que R$ 24.276331471103337.\n"
          ]
        }
      ]
    },
    {
      "cell_type": "code",
      "source": [
        "sns.histplot(data=previsoes, legend=False);"
      ],
      "metadata": {
        "colab": {
          "base_uri": "https://localhost:8080/",
          "height": 265
        },
        "id": "cHJLovARdX0z",
        "outputId": "8fa1aeb0-4348-4165-850a-23a419c5dff9"
      },
      "execution_count": null,
      "outputs": [
        {
          "output_type": "display_data",
          "data": {
            "text/plain": [
              "<Figure size 432x288 with 1 Axes>"
            ],
            "image/png": "[encoded data removed]"
          },
          "metadata": {
            "needs_background": "light"
          }
        }
      ]
    },
    {
      "cell_type": "code",
      "source": [
        "sns.displot(data=previsoes,rug=True, legend=False);"
      ],
      "metadata": {
        "colab": {
          "base_uri": "https://localhost:8080/",
          "height": 369
        },
        "id": "_t8Qdzzxrfbe",
        "outputId": "6139301d-c843-44da-d77b-ce8b1f56a2d2"
      },
      "execution_count": null,
      "outputs": [
        {
          "output_type": "display_data",
          "data": {
            "text/plain": [
              "<Figure size 360x360 with 1 Axes>"
            ],
            "image/png": "[encoded data removed]"
          },
          "metadata": {
            "needs_background": "light"
          }
        }
      ]
    },
    {
      "cell_type": "code",
      "source": [
        "sns.kdeplot(data=previsoes, legend=False);"
      ],
      "metadata": {
        "colab": {
          "base_uri": "https://localhost:8080/",
          "height": 265
        },
        "id": "Ldu507o-tmEf",
        "outputId": "dc3ea055-69d9-4728-ac55-0db2c99f7c82"
      },
      "execution_count": null,
      "outputs": [
        {
          "output_type": "display_data",
          "data": {
            "text/plain": [
              "<Figure size 432x288 with 1 Axes>"
            ],
            "image/png": "[encoded data removed]"
          },
          "metadata": {
            "needs_background": "light"
          }
        }
      ]
    }
  ]
}