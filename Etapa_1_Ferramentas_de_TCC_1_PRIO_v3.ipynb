{
  "cells": [
    {
      "cell_type": "markdown",
      "metadata": {
        "id": "view-in-github",
        "colab_type": "text"
      },
      "source": [
        "<a href=\"https://colab.research.google.com/github/arcadiopfz/Projeto-Final/blob/main/Etapa_1_Ferramentas_de_TCC_1_PRIO_v3.ipynb\" target=\"_parent\"><img src=\"https://colab.research.google.com/assets/colab-badge.svg\" alt=\"Open In Colab\"/></a>"
      ]
    },
    {
      "cell_type": "markdown",
      "source": [
        "# Etapa 1 - Análise exploratória: Pré-processamento e visualização do conjunto de dados da ação da Petro Rio SA (PRIO3)\n"
      ],
      "metadata": {
        "id": "r2KXE_H8retB"
      }
    },
    {
      "cell_type": "markdown",
      "source": [
        "# 1. Instalação da Biblioteca yFinance"
      ],
      "metadata": {
        "id": "0K-hHaB6IWOq"
      }
    },
    {
      "cell_type": "code",
      "source": [
        "!pip install -q yfinance\n",
        "import yfinance as yf"
      ],
      "metadata": {
        "id": "3IJdw_W3HM_J"
      },
      "execution_count": null,
      "outputs": []
    },
    {
      "cell_type": "markdown",
      "source": [
        "*   yfinance -> Download market data from Yahoo! Finance API\n",
        "\n",
        "*   pip install -> O pip install vai instalar uma biblioteca específica que você queira, lembrando que as bibliotecas só precisam ser instaladas uma única vez, depois você só vai precisar importar no seu código se for utilizá-la.\n",
        "\n",
        "*   ! -> para não sair da interface do colab/jupyter, assim não precisa instalar no pront do colab/jupyter\n",
        "\n"
      ],
      "metadata": {
        "id": "PYJNWLi1Mvuy"
      }
    },
    {
      "cell_type": "markdown",
      "source": [
        "# 2. Importação de bibliotecas "
      ],
      "metadata": {
        "id": "Kf1SOLs6NBI4"
      }
    },
    {
      "cell_type": "code",
      "source": [
        "import pandas as pd\n",
        "import numpy as np\n",
        "from pandas_datareader import data\n",
        "import matplotlib.pyplot as plt\n",
        "import seaborn as sns\n",
        "import plotly.express as px\n",
        "import datetime as dt"
      ],
      "metadata": {
        "id": "y1_Zu9O6GPnE"
      },
      "execution_count": null,
      "outputs": []
    },
    {
      "cell_type": "markdown",
      "source": [
        " **Biblioteca para uso em Python, open-source e de uso gratuito :**\n",
        "*   pandas ->  que fornece ferramentas para análise e manipulação de dados (tabelas e memórias para acessar as informações e gerar estatíticas).\n",
        "*   numpy-> científica que possui funções matemáticas principalmente cálculo de média desvio padrão manipulação de matrizes e vetores.\n",
        "*   from pandas_datareader import data -> função que nós vamos utilizar para carregar dados financeiros online. -> Essa é uma das maneiras mais utilizadas no Python para você buscar dados da internet.\n",
        "*   matplotlib.pyp -> Biblioteca de visualização padrão Python.\n",
        "*   seaborn -> possui gráficos mais avançados com uma visualização mais atraente para nós visualizar os dados das ações \n",
        "*  plotly.express -> biblioteca para nós gerarmos gráficos interativos\n",
        "*   datetime -> fornece as classes para manipulação de datas e horas\n",
        "\n",
        "\n",
        "\n",
        "\n",
        "\n",
        "\n",
        "\n",
        "\n"
      ],
      "metadata": {
        "id": "srOh33qRJRjz"
      }
    },
    {
      "cell_type": "markdown",
      "source": [
        "# 3. Criar Base de dados com uma ação (no caso a PRIO.SA)"
      ],
      "metadata": {
        "id": "dTZMuZpuNXPK"
      }
    },
    {
      "cell_type": "markdown",
      "source": [
        "## 3.1. Carregar os dados no Yahoo! Finance API, até o dia de hoje:  "
      ],
      "metadata": {
        "id": "QqQJfteENjXY"
      }
    },
    {
      "cell_type": "code",
      "source": [
        "prio_df = yf.download(\"PRIO3.SA\") "
      ],
      "metadata": {
        "colab": {
          "base_uri": "https://localhost:8080/"
        },
        "id": "-XXkFKxgFw1Y",
        "outputId": "74dfab97-9325-4bf0-c03c-b1516210d2a4"
      },
      "execution_count": null,
      "outputs": [
        {
          "output_type": "stream",
          "name": "stdout",
          "text": [
            "\r[*********************100%***********************]  1 of 1 completed\n"
          ]
        }
      ]
    },
    {
      "cell_type": "code",
      "source": [
        "prio_df"
      ],
      "metadata": {
        "colab": {
          "base_uri": "https://localhost:8080/",
          "height": 454
        },
        "id": "sLzxJRRoOE63",
        "outputId": "1a5017da-c725-4ce0-acb1-9fab1dc0a245"
      },
      "execution_count": null,
      "outputs": [
        {
          "output_type": "execute_result",
          "data": {
            "text/plain": [
              "                                Open       High        Low      Close  \\\n",
              "Date                                                                    \n",
              "2010-10-25 00:00:00-02:00  24.100000  24.400000  22.100800  23.340000   \n",
              "2010-10-26 00:00:00-02:00  22.800200  23.400000  22.500000  22.500000   \n",
              "2010-10-27 00:00:00-02:00  22.500000  23.200001  22.202400  22.700001   \n",
              "2010-10-28 00:00:00-02:00  22.709999  22.709999  22.100000  22.500000   \n",
              "2010-10-29 00:00:00-02:00  22.600000  22.900000  22.400000  22.740000   \n",
              "...                              ...        ...        ...        ...   \n",
              "2023-01-18 00:00:00-03:00  39.209999  39.779999  38.919998  38.970001   \n",
              "2023-01-19 00:00:00-03:00  38.820000  40.540001  38.520000  40.520000   \n",
              "2023-01-20 00:00:00-03:00  40.310001  41.490002  39.529999  41.099998   \n",
              "2023-01-23 00:00:00-03:00  41.310001  42.830002  40.970001  41.560001   \n",
              "2023-01-24 00:00:00-03:00  41.590000  41.930000  40.439999  40.700001   \n",
              "\n",
              "                           Adj Close    Volume  \n",
              "Date                                            \n",
              "2010-10-25 00:00:00-02:00  23.340000  25180000  \n",
              "2010-10-26 00:00:00-02:00  22.500000   7200000  \n",
              "2010-10-27 00:00:00-02:00  22.700001   3685000  \n",
              "2010-10-28 00:00:00-02:00  22.500000   2900000  \n",
              "2010-10-29 00:00:00-02:00  22.740000    825000  \n",
              "...                              ...       ...  \n",
              "2023-01-18 00:00:00-03:00  38.970001   9918100  \n",
              "2023-01-19 00:00:00-03:00  40.520000  10453000  \n",
              "2023-01-20 00:00:00-03:00  41.099998  12920300  \n",
              "2023-01-23 00:00:00-03:00  41.560001  15356200  \n",
              "2023-01-24 00:00:00-03:00  40.700001   6760900  \n",
              "\n",
              "[3041 rows x 6 columns]"
            ],
            "text/html": [
              "\n",
              "  <div id=\"df-b8aa6dcb-da1e-4ae2-8c33-47a1200169bf\">\n",
              "    <div class=\"colab-df-container\">\n",
              "      <div>\n",
              "<style scoped>\n",
              "    .dataframe tbody tr th:only-of-type {\n",
              "        vertical-align: middle;\n",
              "    }\n",
              "\n",
              "    .dataframe tbody tr th {\n",
              "        vertical-align: top;\n",
              "    }\n",
              "\n",
              "    .dataframe thead th {\n",
              "        text-align: right;\n",
              "    }\n",
              "</style>\n",
              "<table border=\"1\" class=\"dataframe\">\n",
              "  <thead>\n",
              "    <tr style=\"text-align: right;\">\n",
              "      <th></th>\n",
              "      <th>Open</th>\n",
              "      <th>High</th>\n",
              "      <th>Low</th>\n",
              "      <th>Close</th>\n",
              "      <th>Adj Close</th>\n",
              "      <th>Volume</th>\n",
              "    </tr>\n",
              "    <tr>\n",
              "      <th>Date</th>\n",
              "      <th></th>\n",
              "      <th></th>\n",
              "      <th></th>\n",
              "      <th></th>\n",
              "      <th></th>\n",
              "      <th></th>\n",
              "    </tr>\n",
              "  </thead>\n",
              "  <tbody>\n",
              "    <tr>\n",
              "      <th>2010-10-25 00:00:00-02:00</th>\n",
              "      <td>24.100000</td>\n",
              "      <td>24.400000</td>\n",
              "      <td>22.100800</td>\n",
              "      <td>23.340000</td>\n",
              "      <td>23.340000</td>\n",
              "      <td>25180000</td>\n",
              "    </tr>\n",
              "    <tr>\n",
              "      <th>2010-10-26 00:00:00-02:00</th>\n",
              "      <td>22.800200</td>\n",
              "      <td>23.400000</td>\n",
              "      <td>22.500000</td>\n",
              "      <td>22.500000</td>\n",
              "      <td>22.500000</td>\n",
              "      <td>7200000</td>\n",
              "    </tr>\n",
              "    <tr>\n",
              "      <th>2010-10-27 00:00:00-02:00</th>\n",
              "      <td>22.500000</td>\n",
              "      <td>23.200001</td>\n",
              "      <td>22.202400</td>\n",
              "      <td>22.700001</td>\n",
              "      <td>22.700001</td>\n",
              "      <td>3685000</td>\n",
              "    </tr>\n",
              "    <tr>\n",
              "      <th>2010-10-28 00:00:00-02:00</th>\n",
              "      <td>22.709999</td>\n",
              "      <td>22.709999</td>\n",
              "      <td>22.100000</td>\n",
              "      <td>22.500000</td>\n",
              "      <td>22.500000</td>\n",
              "      <td>2900000</td>\n",
              "    </tr>\n",
              "    <tr>\n",
              "      <th>2010-10-29 00:00:00-02:00</th>\n",
              "      <td>22.600000</td>\n",
              "      <td>22.900000</td>\n",
              "      <td>22.400000</td>\n",
              "      <td>22.740000</td>\n",
              "      <td>22.740000</td>\n",
              "      <td>825000</td>\n",
              "    </tr>\n",
              "    <tr>\n",
              "      <th>...</th>\n",
              "      <td>...</td>\n",
              "      <td>...</td>\n",
              "      <td>...</td>\n",
              "      <td>...</td>\n",
              "      <td>...</td>\n",
              "      <td>...</td>\n",
              "    </tr>\n",
              "    <tr>\n",
              "      <th>2023-01-18 00:00:00-03:00</th>\n",
              "      <td>39.209999</td>\n",
              "      <td>39.779999</td>\n",
              "      <td>38.919998</td>\n",
              "      <td>38.970001</td>\n",
              "      <td>38.970001</td>\n",
              "      <td>9918100</td>\n",
              "    </tr>\n",
              "    <tr>\n",
              "      <th>2023-01-19 00:00:00-03:00</th>\n",
              "      <td>38.820000</td>\n",
              "      <td>40.540001</td>\n",
              "      <td>38.520000</td>\n",
              "      <td>40.520000</td>\n",
              "      <td>40.520000</td>\n",
              "      <td>10453000</td>\n",
              "    </tr>\n",
              "    <tr>\n",
              "      <th>2023-01-20 00:00:00-03:00</th>\n",
              "      <td>40.310001</td>\n",
              "      <td>41.490002</td>\n",
              "      <td>39.529999</td>\n",
              "      <td>41.099998</td>\n",
              "      <td>41.099998</td>\n",
              "      <td>12920300</td>\n",
              "    </tr>\n",
              "    <tr>\n",
              "      <th>2023-01-23 00:00:00-03:00</th>\n",
              "      <td>41.310001</td>\n",
              "      <td>42.830002</td>\n",
              "      <td>40.970001</td>\n",
              "      <td>41.560001</td>\n",
              "      <td>41.560001</td>\n",
              "      <td>15356200</td>\n",
              "    </tr>\n",
              "    <tr>\n",
              "      <th>2023-01-24 00:00:00-03:00</th>\n",
              "      <td>41.590000</td>\n",
              "      <td>41.930000</td>\n",
              "      <td>40.439999</td>\n",
              "      <td>40.700001</td>\n",
              "      <td>40.700001</td>\n",
              "      <td>6760900</td>\n",
              "    </tr>\n",
              "  </tbody>\n",
              "</table>\n",
              "<p>3041 rows × 6 columns</p>\n",
              "</div>\n",
              "      <button class=\"colab-df-convert\" onclick=\"convertToInteractive('df-b8aa6dcb-da1e-4ae2-8c33-47a1200169bf')\"\n",
              "              title=\"Convert this dataframe to an interactive table.\"\n",
              "              style=\"display:none;\">\n",
              "        \n",
              "  <svg xmlns=\"http://www.w3.org/2000/svg\" height=\"24px\"viewBox=\"0 0 24 24\"\n",
              "       width=\"24px\">\n",
              "    <path d=\"M0 0h24v24H0V0z\" fill=\"none\"/>\n",
              "    <path d=\"M18.56 5.44l.94 2.06.94-2.06 2.06-.94-2.06-.94-.94-2.06-.94 2.06-2.06.94zm-11 1L8.5 8.5l.94-2.06 2.06-.94-2.06-.94L8.5 2.5l-.94 2.06-2.06.94zm10 10l.94 2.06.94-2.06 2.06-.94-2.06-.94-.94-2.06-.94 2.06-2.06.94z\"/><path d=\"M17.41 7.96l-1.37-1.37c-.4-.4-.92-.59-1.43-.59-.52 0-1.04.2-1.43.59L10.3 9.45l-7.72 7.72c-.78.78-.78 2.05 0 2.83L4 21.41c.39.39.9.59 1.41.59.51 0 1.02-.2 1.41-.59l7.78-7.78 2.81-2.81c.8-.78.8-2.07 0-2.86zM5.41 20L4 18.59l7.72-7.72 1.47 1.35L5.41 20z\"/>\n",
              "  </svg>\n",
              "      </button>\n",
              "      \n",
              "  <style>\n",
              "    .colab-df-container {\n",
              "      display:flex;\n",
              "      flex-wrap:wrap;\n",
              "      gap: 12px;\n",
              "    }\n",
              "\n",
              "    .colab-df-convert {\n",
              "      background-color: #E8F0FE;\n",
              "      border: none;\n",
              "      border-radius: 50%;\n",
              "      cursor: pointer;\n",
              "      display: none;\n",
              "      fill: #1967D2;\n",
              "      height: 32px;\n",
              "      padding: 0 0 0 0;\n",
              "      width: 32px;\n",
              "    }\n",
              "\n",
              "    .colab-df-convert:hover {\n",
              "      background-color: #E2EBFA;\n",
              "      box-shadow: 0px 1px 2px rgba(60, 64, 67, 0.3), 0px 1px 3px 1px rgba(60, 64, 67, 0.15);\n",
              "      fill: #174EA6;\n",
              "    }\n",
              "\n",
              "    [theme=dark] .colab-df-convert {\n",
              "      background-color: #3B4455;\n",
              "      fill: #D2E3FC;\n",
              "    }\n",
              "\n",
              "    [theme=dark] .colab-df-convert:hover {\n",
              "      background-color: #434B5C;\n",
              "      box-shadow: 0px 1px 3px 1px rgba(0, 0, 0, 0.15);\n",
              "      filter: drop-shadow(0px 1px 2px rgba(0, 0, 0, 0.3));\n",
              "      fill: #FFFFFF;\n",
              "    }\n",
              "  </style>\n",
              "\n",
              "      <script>\n",
              "        const buttonEl =\n",
              "          document.querySelector('#df-b8aa6dcb-da1e-4ae2-8c33-47a1200169bf button.colab-df-convert');\n",
              "        buttonEl.style.display =\n",
              "          google.colab.kernel.accessAllowed ? 'block' : 'none';\n",
              "\n",
              "        async function convertToInteractive(key) {\n",
              "          const element = document.querySelector('#df-b8aa6dcb-da1e-4ae2-8c33-47a1200169bf');\n",
              "          const dataTable =\n",
              "            await google.colab.kernel.invokeFunction('convertToInteractive',\n",
              "                                                     [key], {});\n",
              "          if (!dataTable) return;\n",
              "\n",
              "          const docLinkHtml = 'Like what you see? Visit the ' +\n",
              "            '<a target=\"_blank\" href=https://colab.research.google.com/notebooks/data_table.ipynb>data table notebook</a>'\n",
              "            + ' to learn more about interactive tables.';\n",
              "          element.innerHTML = '';\n",
              "          dataTable['output_type'] = 'display_data';\n",
              "          await google.colab.output.renderOutput(dataTable, element);\n",
              "          const docLink = document.createElement('div');\n",
              "          docLink.innerHTML = docLinkHtml;\n",
              "          element.appendChild(docLink);\n",
              "        }\n",
              "      </script>\n",
              "    </div>\n",
              "  </div>\n",
              "  "
            ]
          },
          "metadata": {},
          "execution_count": 4
        }
      ]
    },
    {
      "cell_type": "markdown",
      "source": [
        "## 3.2. Carregar os dados no Yahoo! Finance API, entre datas (de 2015 até 2022):"
      ],
      "metadata": {
        "id": "7xDVD8LGN-Q4"
      }
    },
    {
      "cell_type": "code",
      "source": [
        "prio_df = yf.download(\"PRIO3.SA\", start='2015-01-01', end='2022-12-31') "
      ],
      "metadata": {
        "colab": {
          "base_uri": "https://localhost:8080/"
        },
        "id": "_z3bUyR-OR1g",
        "outputId": "9c4829e5-0b71-4cd9-835c-4fdd759ba514"
      },
      "execution_count": null,
      "outputs": [
        {
          "output_type": "stream",
          "name": "stdout",
          "text": [
            "\r[*********************100%***********************]  1 of 1 completed\n"
          ]
        }
      ]
    },
    {
      "cell_type": "code",
      "source": [
        "prio_df"
      ],
      "metadata": {
        "id": "U4c33vlKOqwF",
        "outputId": "d7713053-1870-4d8a-ea7f-5170dd81414e",
        "colab": {
          "base_uri": "https://localhost:8080/",
          "height": 454
        }
      },
      "execution_count": null,
      "outputs": [
        {
          "output_type": "execute_result",
          "data": {
            "text/plain": [
              "                                Open       High        Low      Close  \\\n",
              "Date                                                                    \n",
              "2015-01-02 00:00:00-02:00   0.460000   0.467000   0.440000   0.440000   \n",
              "2015-01-05 00:00:00-02:00   0.436000   0.438000   0.407000   0.407000   \n",
              "2015-01-06 00:00:00-02:00   0.407000   0.419000   0.367000   0.367000   \n",
              "2015-01-07 00:00:00-02:00   0.375000   0.389000   0.365000   0.366000   \n",
              "2015-01-08 00:00:00-02:00   0.383000   0.383000   0.365000   0.378000   \n",
              "...                              ...        ...        ...        ...   \n",
              "2022-12-23 00:00:00-03:00  35.950001  36.049999  35.360001  35.490002   \n",
              "2022-12-26 00:00:00-03:00  35.200001  35.580002  35.000000  35.439999   \n",
              "2022-12-27 00:00:00-03:00  35.689999  35.869999  35.209999  35.580002   \n",
              "2022-12-28 00:00:00-03:00  35.680000  37.490002  35.580002  37.250000   \n",
              "2022-12-29 00:00:00-03:00  37.250000  37.480000  36.619999  37.209999   \n",
              "\n",
              "                           Adj Close    Volume  \n",
              "Date                                            \n",
              "2015-01-02 00:00:00-02:00   0.440000    840000  \n",
              "2015-01-05 00:00:00-02:00   0.407000   1912000  \n",
              "2015-01-06 00:00:00-02:00   0.367000   2154000  \n",
              "2015-01-07 00:00:00-02:00   0.366000   1501000  \n",
              "2015-01-08 00:00:00-02:00   0.378000   1622000  \n",
              "...                              ...       ...  \n",
              "2022-12-23 00:00:00-03:00  35.490002   7403800  \n",
              "2022-12-26 00:00:00-03:00  35.439999   4152200  \n",
              "2022-12-27 00:00:00-03:00  35.580002  12627800  \n",
              "2022-12-28 00:00:00-03:00  37.250000  10775200  \n",
              "2022-12-29 00:00:00-03:00  37.209999   7890300  \n",
              "\n",
              "[1988 rows x 6 columns]"
            ],
            "text/html": [
              "\n",
              "  <div id=\"df-1afa2426-0326-46d3-9451-fc7649bee647\">\n",
              "    <div class=\"colab-df-container\">\n",
              "      <div>\n",
              "<style scoped>\n",
              "    .dataframe tbody tr th:only-of-type {\n",
              "        vertical-align: middle;\n",
              "    }\n",
              "\n",
              "    .dataframe tbody tr th {\n",
              "        vertical-align: top;\n",
              "    }\n",
              "\n",
              "    .dataframe thead th {\n",
              "        text-align: right;\n",
              "    }\n",
              "</style>\n",
              "<table border=\"1\" class=\"dataframe\">\n",
              "  <thead>\n",
              "    <tr style=\"text-align: right;\">\n",
              "      <th></th>\n",
              "      <th>Open</th>\n",
              "      <th>High</th>\n",
              "      <th>Low</th>\n",
              "      <th>Close</th>\n",
              "      <th>Adj Close</th>\n",
              "      <th>Volume</th>\n",
              "    </tr>\n",
              "    <tr>\n",
              "      <th>Date</th>\n",
              "      <th></th>\n",
              "      <th></th>\n",
              "      <th></th>\n",
              "      <th></th>\n",
              "      <th></th>\n",
              "      <th></th>\n",
              "    </tr>\n",
              "  </thead>\n",
              "  <tbody>\n",
              "    <tr>\n",
              "      <th>2015-01-02 00:00:00-02:00</th>\n",
              "      <td>0.460000</td>\n",
              "      <td>0.467000</td>\n",
              "      <td>0.440000</td>\n",
              "      <td>0.440000</td>\n",
              "      <td>0.440000</td>\n",
              "      <td>840000</td>\n",
              "    </tr>\n",
              "    <tr>\n",
              "      <th>2015-01-05 00:00:00-02:00</th>\n",
              "      <td>0.436000</td>\n",
              "      <td>0.438000</td>\n",
              "      <td>0.407000</td>\n",
              "      <td>0.407000</td>\n",
              "      <td>0.407000</td>\n",
              "      <td>1912000</td>\n",
              "    </tr>\n",
              "    <tr>\n",
              "      <th>2015-01-06 00:00:00-02:00</th>\n",
              "      <td>0.407000</td>\n",
              "      <td>0.419000</td>\n",
              "      <td>0.367000</td>\n",
              "      <td>0.367000</td>\n",
              "      <td>0.367000</td>\n",
              "      <td>2154000</td>\n",
              "    </tr>\n",
              "    <tr>\n",
              "      <th>2015-01-07 00:00:00-02:00</th>\n",
              "      <td>0.375000</td>\n",
              "      <td>0.389000</td>\n",
              "      <td>0.365000</td>\n",
              "      <td>0.366000</td>\n",
              "      <td>0.366000</td>\n",
              "      <td>1501000</td>\n",
              "    </tr>\n",
              "    <tr>\n",
              "      <th>2015-01-08 00:00:00-02:00</th>\n",
              "      <td>0.383000</td>\n",
              "      <td>0.383000</td>\n",
              "      <td>0.365000</td>\n",
              "      <td>0.378000</td>\n",
              "      <td>0.378000</td>\n",
              "      <td>1622000</td>\n",
              "    </tr>\n",
              "    <tr>\n",
              "      <th>...</th>\n",
              "      <td>...</td>\n",
              "      <td>...</td>\n",
              "      <td>...</td>\n",
              "      <td>...</td>\n",
              "      <td>...</td>\n",
              "      <td>...</td>\n",
              "    </tr>\n",
              "    <tr>\n",
              "      <th>2022-12-23 00:00:00-03:00</th>\n",
              "      <td>35.950001</td>\n",
              "      <td>36.049999</td>\n",
              "      <td>35.360001</td>\n",
              "      <td>35.490002</td>\n",
              "      <td>35.490002</td>\n",
              "      <td>7403800</td>\n",
              "    </tr>\n",
              "    <tr>\n",
              "      <th>2022-12-26 00:00:00-03:00</th>\n",
              "      <td>35.200001</td>\n",
              "      <td>35.580002</td>\n",
              "      <td>35.000000</td>\n",
              "      <td>35.439999</td>\n",
              "      <td>35.439999</td>\n",
              "      <td>4152200</td>\n",
              "    </tr>\n",
              "    <tr>\n",
              "      <th>2022-12-27 00:00:00-03:00</th>\n",
              "      <td>35.689999</td>\n",
              "      <td>35.869999</td>\n",
              "      <td>35.209999</td>\n",
              "      <td>35.580002</td>\n",
              "      <td>35.580002</td>\n",
              "      <td>12627800</td>\n",
              "    </tr>\n",
              "    <tr>\n",
              "      <th>2022-12-28 00:00:00-03:00</th>\n",
              "      <td>35.680000</td>\n",
              "      <td>37.490002</td>\n",
              "      <td>35.580002</td>\n",
              "      <td>37.250000</td>\n",
              "      <td>37.250000</td>\n",
              "      <td>10775200</td>\n",
              "    </tr>\n",
              "    <tr>\n",
              "      <th>2022-12-29 00:00:00-03:00</th>\n",
              "      <td>37.250000</td>\n",
              "      <td>37.480000</td>\n",
              "      <td>36.619999</td>\n",
              "      <td>37.209999</td>\n",
              "      <td>37.209999</td>\n",
              "      <td>7890300</td>\n",
              "    </tr>\n",
              "  </tbody>\n",
              "</table>\n",
              "<p>1988 rows × 6 columns</p>\n",
              "</div>\n",
              "      <button class=\"colab-df-convert\" onclick=\"convertToInteractive('df-1afa2426-0326-46d3-9451-fc7649bee647')\"\n",
              "              title=\"Convert this dataframe to an interactive table.\"\n",
              "              style=\"display:none;\">\n",
              "        \n",
              "  <svg xmlns=\"http://www.w3.org/2000/svg\" height=\"24px\"viewBox=\"0 0 24 24\"\n",
              "       width=\"24px\">\n",
              "    <path d=\"M0 0h24v24H0V0z\" fill=\"none\"/>\n",
              "    <path d=\"M18.56 5.44l.94 2.06.94-2.06 2.06-.94-2.06-.94-.94-2.06-.94 2.06-2.06.94zm-11 1L8.5 8.5l.94-2.06 2.06-.94-2.06-.94L8.5 2.5l-.94 2.06-2.06.94zm10 10l.94 2.06.94-2.06 2.06-.94-2.06-.94-.94-2.06-.94 2.06-2.06.94z\"/><path d=\"M17.41 7.96l-1.37-1.37c-.4-.4-.92-.59-1.43-.59-.52 0-1.04.2-1.43.59L10.3 9.45l-7.72 7.72c-.78.78-.78 2.05 0 2.83L4 21.41c.39.39.9.59 1.41.59.51 0 1.02-.2 1.41-.59l7.78-7.78 2.81-2.81c.8-.78.8-2.07 0-2.86zM5.41 20L4 18.59l7.72-7.72 1.47 1.35L5.41 20z\"/>\n",
              "  </svg>\n",
              "      </button>\n",
              "      \n",
              "  <style>\n",
              "    .colab-df-container {\n",
              "      display:flex;\n",
              "      flex-wrap:wrap;\n",
              "      gap: 12px;\n",
              "    }\n",
              "\n",
              "    .colab-df-convert {\n",
              "      background-color: #E8F0FE;\n",
              "      border: none;\n",
              "      border-radius: 50%;\n",
              "      cursor: pointer;\n",
              "      display: none;\n",
              "      fill: #1967D2;\n",
              "      height: 32px;\n",
              "      padding: 0 0 0 0;\n",
              "      width: 32px;\n",
              "    }\n",
              "\n",
              "    .colab-df-convert:hover {\n",
              "      background-color: #E2EBFA;\n",
              "      box-shadow: 0px 1px 2px rgba(60, 64, 67, 0.3), 0px 1px 3px 1px rgba(60, 64, 67, 0.15);\n",
              "      fill: #174EA6;\n",
              "    }\n",
              "\n",
              "    [theme=dark] .colab-df-convert {\n",
              "      background-color: #3B4455;\n",
              "      fill: #D2E3FC;\n",
              "    }\n",
              "\n",
              "    [theme=dark] .colab-df-convert:hover {\n",
              "      background-color: #434B5C;\n",
              "      box-shadow: 0px 1px 3px 1px rgba(0, 0, 0, 0.15);\n",
              "      filter: drop-shadow(0px 1px 2px rgba(0, 0, 0, 0.3));\n",
              "      fill: #FFFFFF;\n",
              "    }\n",
              "  </style>\n",
              "\n",
              "      <script>\n",
              "        const buttonEl =\n",
              "          document.querySelector('#df-1afa2426-0326-46d3-9451-fc7649bee647 button.colab-df-convert');\n",
              "        buttonEl.style.display =\n",
              "          google.colab.kernel.accessAllowed ? 'block' : 'none';\n",
              "\n",
              "        async function convertToInteractive(key) {\n",
              "          const element = document.querySelector('#df-1afa2426-0326-46d3-9451-fc7649bee647');\n",
              "          const dataTable =\n",
              "            await google.colab.kernel.invokeFunction('convertToInteractive',\n",
              "                                                     [key], {});\n",
              "          if (!dataTable) return;\n",
              "\n",
              "          const docLinkHtml = 'Like what you see? Visit the ' +\n",
              "            '<a target=\"_blank\" href=https://colab.research.google.com/notebooks/data_table.ipynb>data table notebook</a>'\n",
              "            + ' to learn more about interactive tables.';\n",
              "          element.innerHTML = '';\n",
              "          dataTable['output_type'] = 'display_data';\n",
              "          await google.colab.output.renderOutput(dataTable, element);\n",
              "          const docLink = document.createElement('div');\n",
              "          docLink.innerHTML = docLinkHtml;\n",
              "          element.appendChild(docLink);\n",
              "        }\n",
              "      </script>\n",
              "    </div>\n",
              "  </div>\n",
              "  "
            ]
          },
          "metadata": {},
          "execution_count": 6
        }
      ]
    },
    {
      "cell_type": "markdown",
      "source": [
        "## 3.3.Informações sobre a base de dados"
      ],
      "metadata": {
        "id": "NxA1TnbQjCmA"
      }
    },
    {
      "cell_type": "code",
      "source": [
        "prio_df.info()"
      ],
      "metadata": {
        "colab": {
          "base_uri": "https://localhost:8080/"
        },
        "id": "RNjTpsNUjOn7",
        "outputId": "abb5d4fe-bf2e-42c0-b2e3-bfbeca8ace30"
      },
      "execution_count": null,
      "outputs": [
        {
          "output_type": "stream",
          "name": "stdout",
          "text": [
            "<class 'pandas.core.frame.DataFrame'>\n",
            "DatetimeIndex: 1988 entries, 2015-01-02 00:00:00-02:00 to 2022-12-29 00:00:00-03:00\n",
            "Data columns (total 6 columns):\n",
            " #   Column     Non-Null Count  Dtype  \n",
            "---  ------     --------------  -----  \n",
            " 0   Open       1988 non-null   float64\n",
            " 1   High       1988 non-null   float64\n",
            " 2   Low        1988 non-null   float64\n",
            " 3   Close      1988 non-null   float64\n",
            " 4   Adj Close  1988 non-null   float64\n",
            " 5   Volume     1988 non-null   int64  \n",
            "dtypes: float64(5), int64(1)\n",
            "memory usage: 173.3 KB\n"
          ]
        }
      ]
    },
    {
      "cell_type": "markdown",
      "source": [
        "##3.4. Convert Volume type to float"
      ],
      "metadata": {
        "id": "AdzTjpfOkMvk"
      }
    },
    {
      "cell_type": "code",
      "source": [
        "prio_df['Volume'] = prio_df['Volume'].astype(float)"
      ],
      "metadata": {
        "id": "q423wgOCy_E0"
      },
      "execution_count": null,
      "outputs": []
    },
    {
      "cell_type": "code",
      "source": [
        "prio_df.info()"
      ],
      "metadata": {
        "colab": {
          "base_uri": "https://localhost:8080/"
        },
        "id": "oGLh-GzGzSrx",
        "outputId": "d536daed-3560-4c70-c9ab-dac7824b834a"
      },
      "execution_count": null,
      "outputs": [
        {
          "output_type": "stream",
          "name": "stdout",
          "text": [
            "<class 'pandas.core.frame.DataFrame'>\n",
            "DatetimeIndex: 1988 entries, 2015-01-02 00:00:00-02:00 to 2022-12-29 00:00:00-03:00\n",
            "Data columns (total 6 columns):\n",
            " #   Column     Non-Null Count  Dtype  \n",
            "---  ------     --------------  -----  \n",
            " 0   Open       1988 non-null   float64\n",
            " 1   High       1988 non-null   float64\n",
            " 2   Low        1988 non-null   float64\n",
            " 3   Close      1988 non-null   float64\n",
            " 4   Adj Close  1988 non-null   float64\n",
            " 5   Volume     1988 non-null   float64\n",
            "dtypes: float64(6)\n",
            "memory usage: 173.3 KB\n"
          ]
        }
      ]
    },
    {
      "cell_type": "markdown",
      "source": [
        "## 3.5. Os 5 primeros e 5 últimos registros "
      ],
      "metadata": {
        "id": "VN39v8cQkNvU"
      }
    },
    {
      "cell_type": "code",
      "source": [
        "prio_df.head()"
      ],
      "metadata": {
        "colab": {
          "base_uri": "https://localhost:8080/",
          "height": 237
        },
        "id": "Mt6NZPc0kXmB",
        "outputId": "b3fd6a6a-c792-436b-fdd7-c4c887ecab34"
      },
      "execution_count": null,
      "outputs": [
        {
          "output_type": "execute_result",
          "data": {
            "text/plain": [
              "                            Open   High    Low  Close  Adj Close     Volume\n",
              "Date                                                                       \n",
              "2015-01-02 00:00:00-02:00  0.460  0.467  0.440  0.440      0.440   840000.0\n",
              "2015-01-05 00:00:00-02:00  0.436  0.438  0.407  0.407      0.407  1912000.0\n",
              "2015-01-06 00:00:00-02:00  0.407  0.419  0.367  0.367      0.367  2154000.0\n",
              "2015-01-07 00:00:00-02:00  0.375  0.389  0.365  0.366      0.366  1501000.0\n",
              "2015-01-08 00:00:00-02:00  0.383  0.383  0.365  0.378      0.378  1622000.0"
            ],
            "text/html": [
              "\n",
              "  <div id=\"df-2694187e-2ac7-4121-9803-149e70f57d21\">\n",
              "    <div class=\"colab-df-container\">\n",
              "      <div>\n",
              "<style scoped>\n",
              "    .dataframe tbody tr th:only-of-type {\n",
              "        vertical-align: middle;\n",
              "    }\n",
              "\n",
              "    .dataframe tbody tr th {\n",
              "        vertical-align: top;\n",
              "    }\n",
              "\n",
              "    .dataframe thead th {\n",
              "        text-align: right;\n",
              "    }\n",
              "</style>\n",
              "<table border=\"1\" class=\"dataframe\">\n",
              "  <thead>\n",
              "    <tr style=\"text-align: right;\">\n",
              "      <th></th>\n",
              "      <th>Open</th>\n",
              "      <th>High</th>\n",
              "      <th>Low</th>\n",
              "      <th>Close</th>\n",
              "      <th>Adj Close</th>\n",
              "      <th>Volume</th>\n",
              "    </tr>\n",
              "    <tr>\n",
              "      <th>Date</th>\n",
              "      <th></th>\n",
              "      <th></th>\n",
              "      <th></th>\n",
              "      <th></th>\n",
              "      <th></th>\n",
              "      <th></th>\n",
              "    </tr>\n",
              "  </thead>\n",
              "  <tbody>\n",
              "    <tr>\n",
              "      <th>2015-01-02 00:00:00-02:00</th>\n",
              "      <td>0.460</td>\n",
              "      <td>0.467</td>\n",
              "      <td>0.440</td>\n",
              "      <td>0.440</td>\n",
              "      <td>0.440</td>\n",
              "      <td>840000.0</td>\n",
              "    </tr>\n",
              "    <tr>\n",
              "      <th>2015-01-05 00:00:00-02:00</th>\n",
              "      <td>0.436</td>\n",
              "      <td>0.438</td>\n",
              "      <td>0.407</td>\n",
              "      <td>0.407</td>\n",
              "      <td>0.407</td>\n",
              "      <td>1912000.0</td>\n",
              "    </tr>\n",
              "    <tr>\n",
              "      <th>2015-01-06 00:00:00-02:00</th>\n",
              "      <td>0.407</td>\n",
              "      <td>0.419</td>\n",
              "      <td>0.367</td>\n",
              "      <td>0.367</td>\n",
              "      <td>0.367</td>\n",
              "      <td>2154000.0</td>\n",
              "    </tr>\n",
              "    <tr>\n",
              "      <th>2015-01-07 00:00:00-02:00</th>\n",
              "      <td>0.375</td>\n",
              "      <td>0.389</td>\n",
              "      <td>0.365</td>\n",
              "      <td>0.366</td>\n",
              "      <td>0.366</td>\n",
              "      <td>1501000.0</td>\n",
              "    </tr>\n",
              "    <tr>\n",
              "      <th>2015-01-08 00:00:00-02:00</th>\n",
              "      <td>0.383</td>\n",
              "      <td>0.383</td>\n",
              "      <td>0.365</td>\n",
              "      <td>0.378</td>\n",
              "      <td>0.378</td>\n",
              "      <td>1622000.0</td>\n",
              "    </tr>\n",
              "  </tbody>\n",
              "</table>\n",
              "</div>\n",
              "      <button class=\"colab-df-convert\" onclick=\"convertToInteractive('df-2694187e-2ac7-4121-9803-149e70f57d21')\"\n",
              "              title=\"Convert this dataframe to an interactive table.\"\n",
              "              style=\"display:none;\">\n",
              "        \n",
              "  <svg xmlns=\"http://www.w3.org/2000/svg\" height=\"24px\"viewBox=\"0 0 24 24\"\n",
              "       width=\"24px\">\n",
              "    <path d=\"M0 0h24v24H0V0z\" fill=\"none\"/>\n",
              "    <path d=\"M18.56 5.44l.94 2.06.94-2.06 2.06-.94-2.06-.94-.94-2.06-.94 2.06-2.06.94zm-11 1L8.5 8.5l.94-2.06 2.06-.94-2.06-.94L8.5 2.5l-.94 2.06-2.06.94zm10 10l.94 2.06.94-2.06 2.06-.94-2.06-.94-.94-2.06-.94 2.06-2.06.94z\"/><path d=\"M17.41 7.96l-1.37-1.37c-.4-.4-.92-.59-1.43-.59-.52 0-1.04.2-1.43.59L10.3 9.45l-7.72 7.72c-.78.78-.78 2.05 0 2.83L4 21.41c.39.39.9.59 1.41.59.51 0 1.02-.2 1.41-.59l7.78-7.78 2.81-2.81c.8-.78.8-2.07 0-2.86zM5.41 20L4 18.59l7.72-7.72 1.47 1.35L5.41 20z\"/>\n",
              "  </svg>\n",
              "      </button>\n",
              "      \n",
              "  <style>\n",
              "    .colab-df-container {\n",
              "      display:flex;\n",
              "      flex-wrap:wrap;\n",
              "      gap: 12px;\n",
              "    }\n",
              "\n",
              "    .colab-df-convert {\n",
              "      background-color: #E8F0FE;\n",
              "      border: none;\n",
              "      border-radius: 50%;\n",
              "      cursor: pointer;\n",
              "      display: none;\n",
              "      fill: #1967D2;\n",
              "      height: 32px;\n",
              "      padding: 0 0 0 0;\n",
              "      width: 32px;\n",
              "    }\n",
              "\n",
              "    .colab-df-convert:hover {\n",
              "      background-color: #E2EBFA;\n",
              "      box-shadow: 0px 1px 2px rgba(60, 64, 67, 0.3), 0px 1px 3px 1px rgba(60, 64, 67, 0.15);\n",
              "      fill: #174EA6;\n",
              "    }\n",
              "\n",
              "    [theme=dark] .colab-df-convert {\n",
              "      background-color: #3B4455;\n",
              "      fill: #D2E3FC;\n",
              "    }\n",
              "\n",
              "    [theme=dark] .colab-df-convert:hover {\n",
              "      background-color: #434B5C;\n",
              "      box-shadow: 0px 1px 3px 1px rgba(0, 0, 0, 0.15);\n",
              "      filter: drop-shadow(0px 1px 2px rgba(0, 0, 0, 0.3));\n",
              "      fill: #FFFFFF;\n",
              "    }\n",
              "  </style>\n",
              "\n",
              "      <script>\n",
              "        const buttonEl =\n",
              "          document.querySelector('#df-2694187e-2ac7-4121-9803-149e70f57d21 button.colab-df-convert');\n",
              "        buttonEl.style.display =\n",
              "          google.colab.kernel.accessAllowed ? 'block' : 'none';\n",
              "\n",
              "        async function convertToInteractive(key) {\n",
              "          const element = document.querySelector('#df-2694187e-2ac7-4121-9803-149e70f57d21');\n",
              "          const dataTable =\n",
              "            await google.colab.kernel.invokeFunction('convertToInteractive',\n",
              "                                                     [key], {});\n",
              "          if (!dataTable) return;\n",
              "\n",
              "          const docLinkHtml = 'Like what you see? Visit the ' +\n",
              "            '<a target=\"_blank\" href=https://colab.research.google.com/notebooks/data_table.ipynb>data table notebook</a>'\n",
              "            + ' to learn more about interactive tables.';\n",
              "          element.innerHTML = '';\n",
              "          dataTable['output_type'] = 'display_data';\n",
              "          await google.colab.output.renderOutput(dataTable, element);\n",
              "          const docLink = document.createElement('div');\n",
              "          docLink.innerHTML = docLinkHtml;\n",
              "          element.appendChild(docLink);\n",
              "        }\n",
              "      </script>\n",
              "    </div>\n",
              "  </div>\n",
              "  "
            ]
          },
          "metadata": {},
          "execution_count": 10
        }
      ]
    },
    {
      "cell_type": "code",
      "source": [
        "prio_df.tail()"
      ],
      "metadata": {
        "colab": {
          "base_uri": "https://localhost:8080/",
          "height": 237
        },
        "id": "owPcYqHYkeUH",
        "outputId": "74dfe12d-8d58-4bb8-b61a-7e6bfffd1d94"
      },
      "execution_count": null,
      "outputs": [
        {
          "output_type": "execute_result",
          "data": {
            "text/plain": [
              "                                Open       High        Low      Close  \\\n",
              "Date                                                                    \n",
              "2022-12-23 00:00:00-03:00  35.950001  36.049999  35.360001  35.490002   \n",
              "2022-12-26 00:00:00-03:00  35.200001  35.580002  35.000000  35.439999   \n",
              "2022-12-27 00:00:00-03:00  35.689999  35.869999  35.209999  35.580002   \n",
              "2022-12-28 00:00:00-03:00  35.680000  37.490002  35.580002  37.250000   \n",
              "2022-12-29 00:00:00-03:00  37.250000  37.480000  36.619999  37.209999   \n",
              "\n",
              "                           Adj Close      Volume  \n",
              "Date                                              \n",
              "2022-12-23 00:00:00-03:00  35.490002   7403800.0  \n",
              "2022-12-26 00:00:00-03:00  35.439999   4152200.0  \n",
              "2022-12-27 00:00:00-03:00  35.580002  12627800.0  \n",
              "2022-12-28 00:00:00-03:00  37.250000  10775200.0  \n",
              "2022-12-29 00:00:00-03:00  37.209999   7890300.0  "
            ],
            "text/html": [
              "\n",
              "  <div id=\"df-c0caed08-ff71-4aa7-827e-0732dcedc93c\">\n",
              "    <div class=\"colab-df-container\">\n",
              "      <div>\n",
              "<style scoped>\n",
              "    .dataframe tbody tr th:only-of-type {\n",
              "        vertical-align: middle;\n",
              "    }\n",
              "\n",
              "    .dataframe tbody tr th {\n",
              "        vertical-align: top;\n",
              "    }\n",
              "\n",
              "    .dataframe thead th {\n",
              "        text-align: right;\n",
              "    }\n",
              "</style>\n",
              "<table border=\"1\" class=\"dataframe\">\n",
              "  <thead>\n",
              "    <tr style=\"text-align: right;\">\n",
              "      <th></th>\n",
              "      <th>Open</th>\n",
              "      <th>High</th>\n",
              "      <th>Low</th>\n",
              "      <th>Close</th>\n",
              "      <th>Adj Close</th>\n",
              "      <th>Volume</th>\n",
              "    </tr>\n",
              "    <tr>\n",
              "      <th>Date</th>\n",
              "      <th></th>\n",
              "      <th></th>\n",
              "      <th></th>\n",
              "      <th></th>\n",
              "      <th></th>\n",
              "      <th></th>\n",
              "    </tr>\n",
              "  </thead>\n",
              "  <tbody>\n",
              "    <tr>\n",
              "      <th>2022-12-23 00:00:00-03:00</th>\n",
              "      <td>35.950001</td>\n",
              "      <td>36.049999</td>\n",
              "      <td>35.360001</td>\n",
              "      <td>35.490002</td>\n",
              "      <td>35.490002</td>\n",
              "      <td>7403800.0</td>\n",
              "    </tr>\n",
              "    <tr>\n",
              "      <th>2022-12-26 00:00:00-03:00</th>\n",
              "      <td>35.200001</td>\n",
              "      <td>35.580002</td>\n",
              "      <td>35.000000</td>\n",
              "      <td>35.439999</td>\n",
              "      <td>35.439999</td>\n",
              "      <td>4152200.0</td>\n",
              "    </tr>\n",
              "    <tr>\n",
              "      <th>2022-12-27 00:00:00-03:00</th>\n",
              "      <td>35.689999</td>\n",
              "      <td>35.869999</td>\n",
              "      <td>35.209999</td>\n",
              "      <td>35.580002</td>\n",
              "      <td>35.580002</td>\n",
              "      <td>12627800.0</td>\n",
              "    </tr>\n",
              "    <tr>\n",
              "      <th>2022-12-28 00:00:00-03:00</th>\n",
              "      <td>35.680000</td>\n",
              "      <td>37.490002</td>\n",
              "      <td>35.580002</td>\n",
              "      <td>37.250000</td>\n",
              "      <td>37.250000</td>\n",
              "      <td>10775200.0</td>\n",
              "    </tr>\n",
              "    <tr>\n",
              "      <th>2022-12-29 00:00:00-03:00</th>\n",
              "      <td>37.250000</td>\n",
              "      <td>37.480000</td>\n",
              "      <td>36.619999</td>\n",
              "      <td>37.209999</td>\n",
              "      <td>37.209999</td>\n",
              "      <td>7890300.0</td>\n",
              "    </tr>\n",
              "  </tbody>\n",
              "</table>\n",
              "</div>\n",
              "      <button class=\"colab-df-convert\" onclick=\"convertToInteractive('df-c0caed08-ff71-4aa7-827e-0732dcedc93c')\"\n",
              "              title=\"Convert this dataframe to an interactive table.\"\n",
              "              style=\"display:none;\">\n",
              "        \n",
              "  <svg xmlns=\"http://www.w3.org/2000/svg\" height=\"24px\"viewBox=\"0 0 24 24\"\n",
              "       width=\"24px\">\n",
              "    <path d=\"M0 0h24v24H0V0z\" fill=\"none\"/>\n",
              "    <path d=\"M18.56 5.44l.94 2.06.94-2.06 2.06-.94-2.06-.94-.94-2.06-.94 2.06-2.06.94zm-11 1L8.5 8.5l.94-2.06 2.06-.94-2.06-.94L8.5 2.5l-.94 2.06-2.06.94zm10 10l.94 2.06.94-2.06 2.06-.94-2.06-.94-.94-2.06-.94 2.06-2.06.94z\"/><path d=\"M17.41 7.96l-1.37-1.37c-.4-.4-.92-.59-1.43-.59-.52 0-1.04.2-1.43.59L10.3 9.45l-7.72 7.72c-.78.78-.78 2.05 0 2.83L4 21.41c.39.39.9.59 1.41.59.51 0 1.02-.2 1.41-.59l7.78-7.78 2.81-2.81c.8-.78.8-2.07 0-2.86zM5.41 20L4 18.59l7.72-7.72 1.47 1.35L5.41 20z\"/>\n",
              "  </svg>\n",
              "      </button>\n",
              "      \n",
              "  <style>\n",
              "    .colab-df-container {\n",
              "      display:flex;\n",
              "      flex-wrap:wrap;\n",
              "      gap: 12px;\n",
              "    }\n",
              "\n",
              "    .colab-df-convert {\n",
              "      background-color: #E8F0FE;\n",
              "      border: none;\n",
              "      border-radius: 50%;\n",
              "      cursor: pointer;\n",
              "      display: none;\n",
              "      fill: #1967D2;\n",
              "      height: 32px;\n",
              "      padding: 0 0 0 0;\n",
              "      width: 32px;\n",
              "    }\n",
              "\n",
              "    .colab-df-convert:hover {\n",
              "      background-color: #E2EBFA;\n",
              "      box-shadow: 0px 1px 2px rgba(60, 64, 67, 0.3), 0px 1px 3px 1px rgba(60, 64, 67, 0.15);\n",
              "      fill: #174EA6;\n",
              "    }\n",
              "\n",
              "    [theme=dark] .colab-df-convert {\n",
              "      background-color: #3B4455;\n",
              "      fill: #D2E3FC;\n",
              "    }\n",
              "\n",
              "    [theme=dark] .colab-df-convert:hover {\n",
              "      background-color: #434B5C;\n",
              "      box-shadow: 0px 1px 3px 1px rgba(0, 0, 0, 0.15);\n",
              "      filter: drop-shadow(0px 1px 2px rgba(0, 0, 0, 0.3));\n",
              "      fill: #FFFFFF;\n",
              "    }\n",
              "  </style>\n",
              "\n",
              "      <script>\n",
              "        const buttonEl =\n",
              "          document.querySelector('#df-c0caed08-ff71-4aa7-827e-0732dcedc93c button.colab-df-convert');\n",
              "        buttonEl.style.display =\n",
              "          google.colab.kernel.accessAllowed ? 'block' : 'none';\n",
              "\n",
              "        async function convertToInteractive(key) {\n",
              "          const element = document.querySelector('#df-c0caed08-ff71-4aa7-827e-0732dcedc93c');\n",
              "          const dataTable =\n",
              "            await google.colab.kernel.invokeFunction('convertToInteractive',\n",
              "                                                     [key], {});\n",
              "          if (!dataTable) return;\n",
              "\n",
              "          const docLinkHtml = 'Like what you see? Visit the ' +\n",
              "            '<a target=\"_blank\" href=https://colab.research.google.com/notebooks/data_table.ipynb>data table notebook</a>'\n",
              "            + ' to learn more about interactive tables.';\n",
              "          element.innerHTML = '';\n",
              "          dataTable['output_type'] = 'display_data';\n",
              "          await google.colab.output.renderOutput(dataTable, element);\n",
              "          const docLink = document.createElement('div');\n",
              "          docLink.innerHTML = docLinkHtml;\n",
              "          element.appendChild(docLink);\n",
              "        }\n",
              "      </script>\n",
              "    </div>\n",
              "  </div>\n",
              "  "
            ]
          },
          "metadata": {},
          "execution_count": 11
        }
      ]
    },
    {
      "cell_type": "markdown",
      "source": [
        "## 3.6. Informações estatíticas sobre a base de dados"
      ],
      "metadata": {
        "id": "Vq3iaTUrlVul"
      }
    },
    {
      "cell_type": "code",
      "source": [
        "prio_df.describe()"
      ],
      "metadata": {
        "colab": {
          "base_uri": "https://localhost:8080/",
          "height": 300
        },
        "outputId": "655ae869-a181-4138-a476-cd76d0462c03",
        "id": "NFBX5SkZmAV5"
      },
      "execution_count": null,
      "outputs": [
        {
          "output_type": "execute_result",
          "data": {
            "text/plain": [
              "              Open         High          Low        Close    Adj Close  \\\n",
              "count  1988.000000  1988.000000  1988.000000  1988.000000  1988.000000   \n",
              "mean      7.623633     7.809426     7.439229     7.620915     7.620915   \n",
              "std       9.835811    10.057461     9.615633     9.832142     9.832142   \n",
              "min       0.139000     0.150000     0.137000     0.138000     0.138000   \n",
              "25%       0.534950     0.549500     0.518250     0.537300     0.537300   \n",
              "50%       2.270000     2.327000     2.200200     2.261000     2.261000   \n",
              "75%      13.764000    14.296000    13.522000    13.769500    13.769500   \n",
              "max      38.570000    39.250000    37.459999    38.500000    38.500000   \n",
              "\n",
              "             Volume  \n",
              "count  1.988000e+03  \n",
              "mean   9.696162e+06  \n",
              "std    1.145487e+07  \n",
              "min    0.000000e+00  \n",
              "25%    1.375000e+06  \n",
              "50%    4.946500e+06  \n",
              "75%    1.494982e+07  \n",
              "max    1.619380e+08  "
            ],
            "text/html": [
              "\n",
              "  <div id=\"df-3f2819de-1f90-4658-8bf7-3806c421bdd1\">\n",
              "    <div class=\"colab-df-container\">\n",
              "      <div>\n",
              "<style scoped>\n",
              "    .dataframe tbody tr th:only-of-type {\n",
              "        vertical-align: middle;\n",
              "    }\n",
              "\n",
              "    .dataframe tbody tr th {\n",
              "        vertical-align: top;\n",
              "    }\n",
              "\n",
              "    .dataframe thead th {\n",
              "        text-align: right;\n",
              "    }\n",
              "</style>\n",
              "<table border=\"1\" class=\"dataframe\">\n",
              "  <thead>\n",
              "    <tr style=\"text-align: right;\">\n",
              "      <th></th>\n",
              "      <th>Open</th>\n",
              "      <th>High</th>\n",
              "      <th>Low</th>\n",
              "      <th>Close</th>\n",
              "      <th>Adj Close</th>\n",
              "      <th>Volume</th>\n",
              "    </tr>\n",
              "  </thead>\n",
              "  <tbody>\n",
              "    <tr>\n",
              "      <th>count</th>\n",
              "      <td>1988.000000</td>\n",
              "      <td>1988.000000</td>\n",
              "      <td>1988.000000</td>\n",
              "      <td>1988.000000</td>\n",
              "      <td>1988.000000</td>\n",
              "      <td>1.988000e+03</td>\n",
              "    </tr>\n",
              "    <tr>\n",
              "      <th>mean</th>\n",
              "      <td>7.623633</td>\n",
              "      <td>7.809426</td>\n",
              "      <td>7.439229</td>\n",
              "      <td>7.620915</td>\n",
              "      <td>7.620915</td>\n",
              "      <td>9.696162e+06</td>\n",
              "    </tr>\n",
              "    <tr>\n",
              "      <th>std</th>\n",
              "      <td>9.835811</td>\n",
              "      <td>10.057461</td>\n",
              "      <td>9.615633</td>\n",
              "      <td>9.832142</td>\n",
              "      <td>9.832142</td>\n",
              "      <td>1.145487e+07</td>\n",
              "    </tr>\n",
              "    <tr>\n",
              "      <th>min</th>\n",
              "      <td>0.139000</td>\n",
              "      <td>0.150000</td>\n",
              "      <td>0.137000</td>\n",
              "      <td>0.138000</td>\n",
              "      <td>0.138000</td>\n",
              "      <td>0.000000e+00</td>\n",
              "    </tr>\n",
              "    <tr>\n",
              "      <th>25%</th>\n",
              "      <td>0.534950</td>\n",
              "      <td>0.549500</td>\n",
              "      <td>0.518250</td>\n",
              "      <td>0.537300</td>\n",
              "      <td>0.537300</td>\n",
              "      <td>1.375000e+06</td>\n",
              "    </tr>\n",
              "    <tr>\n",
              "      <th>50%</th>\n",
              "      <td>2.270000</td>\n",
              "      <td>2.327000</td>\n",
              "      <td>2.200200</td>\n",
              "      <td>2.261000</td>\n",
              "      <td>2.261000</td>\n",
              "      <td>4.946500e+06</td>\n",
              "    </tr>\n",
              "    <tr>\n",
              "      <th>75%</th>\n",
              "      <td>13.764000</td>\n",
              "      <td>14.296000</td>\n",
              "      <td>13.522000</td>\n",
              "      <td>13.769500</td>\n",
              "      <td>13.769500</td>\n",
              "      <td>1.494982e+07</td>\n",
              "    </tr>\n",
              "    <tr>\n",
              "      <th>max</th>\n",
              "      <td>38.570000</td>\n",
              "      <td>39.250000</td>\n",
              "      <td>37.459999</td>\n",
              "      <td>38.500000</td>\n",
              "      <td>38.500000</td>\n",
              "      <td>1.619380e+08</td>\n",
              "    </tr>\n",
              "  </tbody>\n",
              "</table>\n",
              "</div>\n",
              "      <button class=\"colab-df-convert\" onclick=\"convertToInteractive('df-3f2819de-1f90-4658-8bf7-3806c421bdd1')\"\n",
              "              title=\"Convert this dataframe to an interactive table.\"\n",
              "              style=\"display:none;\">\n",
              "        \n",
              "  <svg xmlns=\"http://www.w3.org/2000/svg\" height=\"24px\"viewBox=\"0 0 24 24\"\n",
              "       width=\"24px\">\n",
              "    <path d=\"M0 0h24v24H0V0z\" fill=\"none\"/>\n",
              "    <path d=\"M18.56 5.44l.94 2.06.94-2.06 2.06-.94-2.06-.94-.94-2.06-.94 2.06-2.06.94zm-11 1L8.5 8.5l.94-2.06 2.06-.94-2.06-.94L8.5 2.5l-.94 2.06-2.06.94zm10 10l.94 2.06.94-2.06 2.06-.94-2.06-.94-.94-2.06-.94 2.06-2.06.94z\"/><path d=\"M17.41 7.96l-1.37-1.37c-.4-.4-.92-.59-1.43-.59-.52 0-1.04.2-1.43.59L10.3 9.45l-7.72 7.72c-.78.78-.78 2.05 0 2.83L4 21.41c.39.39.9.59 1.41.59.51 0 1.02-.2 1.41-.59l7.78-7.78 2.81-2.81c.8-.78.8-2.07 0-2.86zM5.41 20L4 18.59l7.72-7.72 1.47 1.35L5.41 20z\"/>\n",
              "  </svg>\n",
              "      </button>\n",
              "      \n",
              "  <style>\n",
              "    .colab-df-container {\n",
              "      display:flex;\n",
              "      flex-wrap:wrap;\n",
              "      gap: 12px;\n",
              "    }\n",
              "\n",
              "    .colab-df-convert {\n",
              "      background-color: #E8F0FE;\n",
              "      border: none;\n",
              "      border-radius: 50%;\n",
              "      cursor: pointer;\n",
              "      display: none;\n",
              "      fill: #1967D2;\n",
              "      height: 32px;\n",
              "      padding: 0 0 0 0;\n",
              "      width: 32px;\n",
              "    }\n",
              "\n",
              "    .colab-df-convert:hover {\n",
              "      background-color: #E2EBFA;\n",
              "      box-shadow: 0px 1px 2px rgba(60, 64, 67, 0.3), 0px 1px 3px 1px rgba(60, 64, 67, 0.15);\n",
              "      fill: #174EA6;\n",
              "    }\n",
              "\n",
              "    [theme=dark] .colab-df-convert {\n",
              "      background-color: #3B4455;\n",
              "      fill: #D2E3FC;\n",
              "    }\n",
              "\n",
              "    [theme=dark] .colab-df-convert:hover {\n",
              "      background-color: #434B5C;\n",
              "      box-shadow: 0px 1px 3px 1px rgba(0, 0, 0, 0.15);\n",
              "      filter: drop-shadow(0px 1px 2px rgba(0, 0, 0, 0.3));\n",
              "      fill: #FFFFFF;\n",
              "    }\n",
              "  </style>\n",
              "\n",
              "      <script>\n",
              "        const buttonEl =\n",
              "          document.querySelector('#df-3f2819de-1f90-4658-8bf7-3806c421bdd1 button.colab-df-convert');\n",
              "        buttonEl.style.display =\n",
              "          google.colab.kernel.accessAllowed ? 'block' : 'none';\n",
              "\n",
              "        async function convertToInteractive(key) {\n",
              "          const element = document.querySelector('#df-3f2819de-1f90-4658-8bf7-3806c421bdd1');\n",
              "          const dataTable =\n",
              "            await google.colab.kernel.invokeFunction('convertToInteractive',\n",
              "                                                     [key], {});\n",
              "          if (!dataTable) return;\n",
              "\n",
              "          const docLinkHtml = 'Like what you see? Visit the ' +\n",
              "            '<a target=\"_blank\" href=https://colab.research.google.com/notebooks/data_table.ipynb>data table notebook</a>'\n",
              "            + ' to learn more about interactive tables.';\n",
              "          element.innerHTML = '';\n",
              "          dataTable['output_type'] = 'display_data';\n",
              "          await google.colab.output.renderOutput(dataTable, element);\n",
              "          const docLink = document.createElement('div');\n",
              "          docLink.innerHTML = docLinkHtml;\n",
              "          element.appendChild(docLink);\n",
              "        }\n",
              "      </script>\n",
              "    </div>\n",
              "  </div>\n",
              "  "
            ]
          },
          "metadata": {},
          "execution_count": 12
        }
      ]
    },
    {
      "cell_type": "markdown",
      "source": [
        "## 3.7. Verificar se existem valores nulos em cada uma dessas ações e se positivo tratar os mesmos."
      ],
      "metadata": {
        "id": "zGBRvOxbvXHi"
      }
    },
    {
      "cell_type": "code",
      "source": [
        "prio_df.isnull()"
      ],
      "metadata": {
        "colab": {
          "base_uri": "https://localhost:8080/",
          "height": 454
        },
        "id": "7AxsoPR0v4jf",
        "outputId": "d9aa4682-8e1c-411c-b915-044e6751a51c"
      },
      "execution_count": null,
      "outputs": [
        {
          "output_type": "execute_result",
          "data": {
            "text/plain": [
              "                            Open   High    Low  Close  Adj Close  Volume\n",
              "Date                                                                    \n",
              "2015-01-02 00:00:00-02:00  False  False  False  False      False   False\n",
              "2015-01-05 00:00:00-02:00  False  False  False  False      False   False\n",
              "2015-01-06 00:00:00-02:00  False  False  False  False      False   False\n",
              "2015-01-07 00:00:00-02:00  False  False  False  False      False   False\n",
              "2015-01-08 00:00:00-02:00  False  False  False  False      False   False\n",
              "...                          ...    ...    ...    ...        ...     ...\n",
              "2022-12-23 00:00:00-03:00  False  False  False  False      False   False\n",
              "2022-12-26 00:00:00-03:00  False  False  False  False      False   False\n",
              "2022-12-27 00:00:00-03:00  False  False  False  False      False   False\n",
              "2022-12-28 00:00:00-03:00  False  False  False  False      False   False\n",
              "2022-12-29 00:00:00-03:00  False  False  False  False      False   False\n",
              "\n",
              "[1988 rows x 6 columns]"
            ],
            "text/html": [
              "\n",
              "  <div id=\"df-73aebf38-55e6-4437-860f-bfaaecb8e126\">\n",
              "    <div class=\"colab-df-container\">\n",
              "      <div>\n",
              "<style scoped>\n",
              "    .dataframe tbody tr th:only-of-type {\n",
              "        vertical-align: middle;\n",
              "    }\n",
              "\n",
              "    .dataframe tbody tr th {\n",
              "        vertical-align: top;\n",
              "    }\n",
              "\n",
              "    .dataframe thead th {\n",
              "        text-align: right;\n",
              "    }\n",
              "</style>\n",
              "<table border=\"1\" class=\"dataframe\">\n",
              "  <thead>\n",
              "    <tr style=\"text-align: right;\">\n",
              "      <th></th>\n",
              "      <th>Open</th>\n",
              "      <th>High</th>\n",
              "      <th>Low</th>\n",
              "      <th>Close</th>\n",
              "      <th>Adj Close</th>\n",
              "      <th>Volume</th>\n",
              "    </tr>\n",
              "    <tr>\n",
              "      <th>Date</th>\n",
              "      <th></th>\n",
              "      <th></th>\n",
              "      <th></th>\n",
              "      <th></th>\n",
              "      <th></th>\n",
              "      <th></th>\n",
              "    </tr>\n",
              "  </thead>\n",
              "  <tbody>\n",
              "    <tr>\n",
              "      <th>2015-01-02 00:00:00-02:00</th>\n",
              "      <td>False</td>\n",
              "      <td>False</td>\n",
              "      <td>False</td>\n",
              "      <td>False</td>\n",
              "      <td>False</td>\n",
              "      <td>False</td>\n",
              "    </tr>\n",
              "    <tr>\n",
              "      <th>2015-01-05 00:00:00-02:00</th>\n",
              "      <td>False</td>\n",
              "      <td>False</td>\n",
              "      <td>False</td>\n",
              "      <td>False</td>\n",
              "      <td>False</td>\n",
              "      <td>False</td>\n",
              "    </tr>\n",
              "    <tr>\n",
              "      <th>2015-01-06 00:00:00-02:00</th>\n",
              "      <td>False</td>\n",
              "      <td>False</td>\n",
              "      <td>False</td>\n",
              "      <td>False</td>\n",
              "      <td>False</td>\n",
              "      <td>False</td>\n",
              "    </tr>\n",
              "    <tr>\n",
              "      <th>2015-01-07 00:00:00-02:00</th>\n",
              "      <td>False</td>\n",
              "      <td>False</td>\n",
              "      <td>False</td>\n",
              "      <td>False</td>\n",
              "      <td>False</td>\n",
              "      <td>False</td>\n",
              "    </tr>\n",
              "    <tr>\n",
              "      <th>2015-01-08 00:00:00-02:00</th>\n",
              "      <td>False</td>\n",
              "      <td>False</td>\n",
              "      <td>False</td>\n",
              "      <td>False</td>\n",
              "      <td>False</td>\n",
              "      <td>False</td>\n",
              "    </tr>\n",
              "    <tr>\n",
              "      <th>...</th>\n",
              "      <td>...</td>\n",
              "      <td>...</td>\n",
              "      <td>...</td>\n",
              "      <td>...</td>\n",
              "      <td>...</td>\n",
              "      <td>...</td>\n",
              "    </tr>\n",
              "    <tr>\n",
              "      <th>2022-12-23 00:00:00-03:00</th>\n",
              "      <td>False</td>\n",
              "      <td>False</td>\n",
              "      <td>False</td>\n",
              "      <td>False</td>\n",
              "      <td>False</td>\n",
              "      <td>False</td>\n",
              "    </tr>\n",
              "    <tr>\n",
              "      <th>2022-12-26 00:00:00-03:00</th>\n",
              "      <td>False</td>\n",
              "      <td>False</td>\n",
              "      <td>False</td>\n",
              "      <td>False</td>\n",
              "      <td>False</td>\n",
              "      <td>False</td>\n",
              "    </tr>\n",
              "    <tr>\n",
              "      <th>2022-12-27 00:00:00-03:00</th>\n",
              "      <td>False</td>\n",
              "      <td>False</td>\n",
              "      <td>False</td>\n",
              "      <td>False</td>\n",
              "      <td>False</td>\n",
              "      <td>False</td>\n",
              "    </tr>\n",
              "    <tr>\n",
              "      <th>2022-12-28 00:00:00-03:00</th>\n",
              "      <td>False</td>\n",
              "      <td>False</td>\n",
              "      <td>False</td>\n",
              "      <td>False</td>\n",
              "      <td>False</td>\n",
              "      <td>False</td>\n",
              "    </tr>\n",
              "    <tr>\n",
              "      <th>2022-12-29 00:00:00-03:00</th>\n",
              "      <td>False</td>\n",
              "      <td>False</td>\n",
              "      <td>False</td>\n",
              "      <td>False</td>\n",
              "      <td>False</td>\n",
              "      <td>False</td>\n",
              "    </tr>\n",
              "  </tbody>\n",
              "</table>\n",
              "<p>1988 rows × 6 columns</p>\n",
              "</div>\n",
              "      <button class=\"colab-df-convert\" onclick=\"convertToInteractive('df-73aebf38-55e6-4437-860f-bfaaecb8e126')\"\n",
              "              title=\"Convert this dataframe to an interactive table.\"\n",
              "              style=\"display:none;\">\n",
              "        \n",
              "  <svg xmlns=\"http://www.w3.org/2000/svg\" height=\"24px\"viewBox=\"0 0 24 24\"\n",
              "       width=\"24px\">\n",
              "    <path d=\"M0 0h24v24H0V0z\" fill=\"none\"/>\n",
              "    <path d=\"M18.56 5.44l.94 2.06.94-2.06 2.06-.94-2.06-.94-.94-2.06-.94 2.06-2.06.94zm-11 1L8.5 8.5l.94-2.06 2.06-.94-2.06-.94L8.5 2.5l-.94 2.06-2.06.94zm10 10l.94 2.06.94-2.06 2.06-.94-2.06-.94-.94-2.06-.94 2.06-2.06.94z\"/><path d=\"M17.41 7.96l-1.37-1.37c-.4-.4-.92-.59-1.43-.59-.52 0-1.04.2-1.43.59L10.3 9.45l-7.72 7.72c-.78.78-.78 2.05 0 2.83L4 21.41c.39.39.9.59 1.41.59.51 0 1.02-.2 1.41-.59l7.78-7.78 2.81-2.81c.8-.78.8-2.07 0-2.86zM5.41 20L4 18.59l7.72-7.72 1.47 1.35L5.41 20z\"/>\n",
              "  </svg>\n",
              "      </button>\n",
              "      \n",
              "  <style>\n",
              "    .colab-df-container {\n",
              "      display:flex;\n",
              "      flex-wrap:wrap;\n",
              "      gap: 12px;\n",
              "    }\n",
              "\n",
              "    .colab-df-convert {\n",
              "      background-color: #E8F0FE;\n",
              "      border: none;\n",
              "      border-radius: 50%;\n",
              "      cursor: pointer;\n",
              "      display: none;\n",
              "      fill: #1967D2;\n",
              "      height: 32px;\n",
              "      padding: 0 0 0 0;\n",
              "      width: 32px;\n",
              "    }\n",
              "\n",
              "    .colab-df-convert:hover {\n",
              "      background-color: #E2EBFA;\n",
              "      box-shadow: 0px 1px 2px rgba(60, 64, 67, 0.3), 0px 1px 3px 1px rgba(60, 64, 67, 0.15);\n",
              "      fill: #174EA6;\n",
              "    }\n",
              "\n",
              "    [theme=dark] .colab-df-convert {\n",
              "      background-color: #3B4455;\n",
              "      fill: #D2E3FC;\n",
              "    }\n",
              "\n",
              "    [theme=dark] .colab-df-convert:hover {\n",
              "      background-color: #434B5C;\n",
              "      box-shadow: 0px 1px 3px 1px rgba(0, 0, 0, 0.15);\n",
              "      filter: drop-shadow(0px 1px 2px rgba(0, 0, 0, 0.3));\n",
              "      fill: #FFFFFF;\n",
              "    }\n",
              "  </style>\n",
              "\n",
              "      <script>\n",
              "        const buttonEl =\n",
              "          document.querySelector('#df-73aebf38-55e6-4437-860f-bfaaecb8e126 button.colab-df-convert');\n",
              "        buttonEl.style.display =\n",
              "          google.colab.kernel.accessAllowed ? 'block' : 'none';\n",
              "\n",
              "        async function convertToInteractive(key) {\n",
              "          const element = document.querySelector('#df-73aebf38-55e6-4437-860f-bfaaecb8e126');\n",
              "          const dataTable =\n",
              "            await google.colab.kernel.invokeFunction('convertToInteractive',\n",
              "                                                     [key], {});\n",
              "          if (!dataTable) return;\n",
              "\n",
              "          const docLinkHtml = 'Like what you see? Visit the ' +\n",
              "            '<a target=\"_blank\" href=https://colab.research.google.com/notebooks/data_table.ipynb>data table notebook</a>'\n",
              "            + ' to learn more about interactive tables.';\n",
              "          element.innerHTML = '';\n",
              "          dataTable['output_type'] = 'display_data';\n",
              "          await google.colab.output.renderOutput(dataTable, element);\n",
              "          const docLink = document.createElement('div');\n",
              "          docLink.innerHTML = docLinkHtml;\n",
              "          element.appendChild(docLink);\n",
              "        }\n",
              "      </script>\n",
              "    </div>\n",
              "  </div>\n",
              "  "
            ]
          },
          "metadata": {},
          "execution_count": 13
        }
      ]
    },
    {
      "cell_type": "code",
      "source": [
        "prio_df.isnull().sum()"
      ],
      "metadata": {
        "colab": {
          "base_uri": "https://localhost:8080/"
        },
        "id": "0xJHd_ZowMz-",
        "outputId": "0ea3ae6e-afa3-4f23-e6f2-7556139fdb62"
      },
      "execution_count": null,
      "outputs": [
        {
          "output_type": "execute_result",
          "data": {
            "text/plain": [
              "Open         0\n",
              "High         0\n",
              "Low          0\n",
              "Close        0\n",
              "Adj Close    0\n",
              "Volume       0\n",
              "dtype: int64"
            ]
          },
          "metadata": {},
          "execution_count": 14
        }
      ]
    },
    {
      "cell_type": "markdown",
      "source": [
        "**Não existem valores nulos, mas se existisse teriamos que excutar a seguinte linha de código:**"
      ],
      "metadata": {
        "id": "ybIt8d-XwlF5"
      }
    },
    {
      "cell_type": "code",
      "source": [
        "# prio_df.dropna(inplace=True)"
      ],
      "metadata": {
        "id": "yqPcRpsOwo20"
      },
      "execution_count": null,
      "outputs": []
    },
    {
      "cell_type": "markdown",
      "source": [
        "Saber o o que tem na nossa base -> usando o shape:"
      ],
      "metadata": {
        "id": "ZMtT1l_iwuSE"
      }
    },
    {
      "cell_type": "code",
      "source": [
        "prio_df.shape"
      ],
      "metadata": {
        "colab": {
          "base_uri": "https://localhost:8080/"
        },
        "id": "Jt_3Q9sqwxei",
        "outputId": "a9bb8cae-4572-4252-ef20-f2d47e5ca072"
      },
      "execution_count": null,
      "outputs": [
        {
          "output_type": "execute_result",
          "data": {
            "text/plain": [
              "(1988, 6)"
            ]
          },
          "metadata": {},
          "execution_count": 16
        }
      ]
    },
    {
      "cell_type": "markdown",
      "source": [
        "## 3.8. Salvar essa base de dados PRIO em  CSV no Goolge Drive:"
      ],
      "metadata": {
        "id": "dZpqZZqFsN5C"
      }
    },
    {
      "cell_type": "code",
      "source": [
        "prio_df.to_csv('prio.csv')"
      ],
      "metadata": {
        "id": "RJBF7GjDsZCn"
      },
      "execution_count": null,
      "outputs": []
    },
    {
      "cell_type": "markdown",
      "source": [
        "## 3.9. Resgatar/Carregar a base de dados PRIO em CSV do Google drive com somente a coluna DATE e CLOSE"
      ],
      "metadata": {
        "id": "k120S4fUtCmj"
      }
    },
    {
      "cell_type": "markdown",
      "source": [
        "Agora o indíce muda para  de 0 até 1987 e não é mais a data, ver item 3.2.  "
      ],
      "metadata": {
        "id": "AssVhRwgtnJc"
      }
    },
    {
      "cell_type": "code",
      "metadata": {
        "id": "WZgoCKsuYyG3",
        "colab": {
          "base_uri": "https://localhost:8080/",
          "height": 423
        },
        "outputId": "fafe73b3-fe8d-430e-fa86-217c22eb4849"
      },
      "source": [
        "prio_df2 = pd.read_csv('/content/prio.csv')[['Date','Close']]\n",
        "prio_df2"
      ],
      "execution_count": null,
      "outputs": [
        {
          "output_type": "execute_result",
          "data": {
            "text/plain": [
              "                           Date      Close\n",
              "0     2015-01-02 00:00:00-02:00   0.440000\n",
              "1     2015-01-05 00:00:00-02:00   0.407000\n",
              "2     2015-01-06 00:00:00-02:00   0.367000\n",
              "3     2015-01-07 00:00:00-02:00   0.366000\n",
              "4     2015-01-08 00:00:00-02:00   0.378000\n",
              "...                         ...        ...\n",
              "1983  2022-12-23 00:00:00-03:00  35.490002\n",
              "1984  2022-12-26 00:00:00-03:00  35.439999\n",
              "1985  2022-12-27 00:00:00-03:00  35.580002\n",
              "1986  2022-12-28 00:00:00-03:00  37.250000\n",
              "1987  2022-12-29 00:00:00-03:00  37.209999\n",
              "\n",
              "[1988 rows x 2 columns]"
            ],
            "text/html": [
              "\n",
              "  <div id=\"df-17e16beb-ad75-46fb-8648-b5f32e058bc0\">\n",
              "    <div class=\"colab-df-container\">\n",
              "      <div>\n",
              "<style scoped>\n",
              "    .dataframe tbody tr th:only-of-type {\n",
              "        vertical-align: middle;\n",
              "    }\n",
              "\n",
              "    .dataframe tbody tr th {\n",
              "        vertical-align: top;\n",
              "    }\n",
              "\n",
              "    .dataframe thead th {\n",
              "        text-align: right;\n",
              "    }\n",
              "</style>\n",
              "<table border=\"1\" class=\"dataframe\">\n",
              "  <thead>\n",
              "    <tr style=\"text-align: right;\">\n",
              "      <th></th>\n",
              "      <th>Date</th>\n",
              "      <th>Close</th>\n",
              "    </tr>\n",
              "  </thead>\n",
              "  <tbody>\n",
              "    <tr>\n",
              "      <th>0</th>\n",
              "      <td>2015-01-02 00:00:00-02:00</td>\n",
              "      <td>0.440000</td>\n",
              "    </tr>\n",
              "    <tr>\n",
              "      <th>1</th>\n",
              "      <td>2015-01-05 00:00:00-02:00</td>\n",
              "      <td>0.407000</td>\n",
              "    </tr>\n",
              "    <tr>\n",
              "      <th>2</th>\n",
              "      <td>2015-01-06 00:00:00-02:00</td>\n",
              "      <td>0.367000</td>\n",
              "    </tr>\n",
              "    <tr>\n",
              "      <th>3</th>\n",
              "      <td>2015-01-07 00:00:00-02:00</td>\n",
              "      <td>0.366000</td>\n",
              "    </tr>\n",
              "    <tr>\n",
              "      <th>4</th>\n",
              "      <td>2015-01-08 00:00:00-02:00</td>\n",
              "      <td>0.378000</td>\n",
              "    </tr>\n",
              "    <tr>\n",
              "      <th>...</th>\n",
              "      <td>...</td>\n",
              "      <td>...</td>\n",
              "    </tr>\n",
              "    <tr>\n",
              "      <th>1983</th>\n",
              "      <td>2022-12-23 00:00:00-03:00</td>\n",
              "      <td>35.490002</td>\n",
              "    </tr>\n",
              "    <tr>\n",
              "      <th>1984</th>\n",
              "      <td>2022-12-26 00:00:00-03:00</td>\n",
              "      <td>35.439999</td>\n",
              "    </tr>\n",
              "    <tr>\n",
              "      <th>1985</th>\n",
              "      <td>2022-12-27 00:00:00-03:00</td>\n",
              "      <td>35.580002</td>\n",
              "    </tr>\n",
              "    <tr>\n",
              "      <th>1986</th>\n",
              "      <td>2022-12-28 00:00:00-03:00</td>\n",
              "      <td>37.250000</td>\n",
              "    </tr>\n",
              "    <tr>\n",
              "      <th>1987</th>\n",
              "      <td>2022-12-29 00:00:00-03:00</td>\n",
              "      <td>37.209999</td>\n",
              "    </tr>\n",
              "  </tbody>\n",
              "</table>\n",
              "<p>1988 rows × 2 columns</p>\n",
              "</div>\n",
              "      <button class=\"colab-df-convert\" onclick=\"convertToInteractive('df-17e16beb-ad75-46fb-8648-b5f32e058bc0')\"\n",
              "              title=\"Convert this dataframe to an interactive table.\"\n",
              "              style=\"display:none;\">\n",
              "        \n",
              "  <svg xmlns=\"http://www.w3.org/2000/svg\" height=\"24px\"viewBox=\"0 0 24 24\"\n",
              "       width=\"24px\">\n",
              "    <path d=\"M0 0h24v24H0V0z\" fill=\"none\"/>\n",
              "    <path d=\"M18.56 5.44l.94 2.06.94-2.06 2.06-.94-2.06-.94-.94-2.06-.94 2.06-2.06.94zm-11 1L8.5 8.5l.94-2.06 2.06-.94-2.06-.94L8.5 2.5l-.94 2.06-2.06.94zm10 10l.94 2.06.94-2.06 2.06-.94-2.06-.94-.94-2.06-.94 2.06-2.06.94z\"/><path d=\"M17.41 7.96l-1.37-1.37c-.4-.4-.92-.59-1.43-.59-.52 0-1.04.2-1.43.59L10.3 9.45l-7.72 7.72c-.78.78-.78 2.05 0 2.83L4 21.41c.39.39.9.59 1.41.59.51 0 1.02-.2 1.41-.59l7.78-7.78 2.81-2.81c.8-.78.8-2.07 0-2.86zM5.41 20L4 18.59l7.72-7.72 1.47 1.35L5.41 20z\"/>\n",
              "  </svg>\n",
              "      </button>\n",
              "      \n",
              "  <style>\n",
              "    .colab-df-container {\n",
              "      display:flex;\n",
              "      flex-wrap:wrap;\n",
              "      gap: 12px;\n",
              "    }\n",
              "\n",
              "    .colab-df-convert {\n",
              "      background-color: #E8F0FE;\n",
              "      border: none;\n",
              "      border-radius: 50%;\n",
              "      cursor: pointer;\n",
              "      display: none;\n",
              "      fill: #1967D2;\n",
              "      height: 32px;\n",
              "      padding: 0 0 0 0;\n",
              "      width: 32px;\n",
              "    }\n",
              "\n",
              "    .colab-df-convert:hover {\n",
              "      background-color: #E2EBFA;\n",
              "      box-shadow: 0px 1px 2px rgba(60, 64, 67, 0.3), 0px 1px 3px 1px rgba(60, 64, 67, 0.15);\n",
              "      fill: #174EA6;\n",
              "    }\n",
              "\n",
              "    [theme=dark] .colab-df-convert {\n",
              "      background-color: #3B4455;\n",
              "      fill: #D2E3FC;\n",
              "    }\n",
              "\n",
              "    [theme=dark] .colab-df-convert:hover {\n",
              "      background-color: #434B5C;\n",
              "      box-shadow: 0px 1px 3px 1px rgba(0, 0, 0, 0.15);\n",
              "      filter: drop-shadow(0px 1px 2px rgba(0, 0, 0, 0.3));\n",
              "      fill: #FFFFFF;\n",
              "    }\n",
              "  </style>\n",
              "\n",
              "      <script>\n",
              "        const buttonEl =\n",
              "          document.querySelector('#df-17e16beb-ad75-46fb-8648-b5f32e058bc0 button.colab-df-convert');\n",
              "        buttonEl.style.display =\n",
              "          google.colab.kernel.accessAllowed ? 'block' : 'none';\n",
              "\n",
              "        async function convertToInteractive(key) {\n",
              "          const element = document.querySelector('#df-17e16beb-ad75-46fb-8648-b5f32e058bc0');\n",
              "          const dataTable =\n",
              "            await google.colab.kernel.invokeFunction('convertToInteractive',\n",
              "                                                     [key], {});\n",
              "          if (!dataTable) return;\n",
              "\n",
              "          const docLinkHtml = 'Like what you see? Visit the ' +\n",
              "            '<a target=\"_blank\" href=https://colab.research.google.com/notebooks/data_table.ipynb>data table notebook</a>'\n",
              "            + ' to learn more about interactive tables.';\n",
              "          element.innerHTML = '';\n",
              "          dataTable['output_type'] = 'display_data';\n",
              "          await google.colab.output.renderOutput(dataTable, element);\n",
              "          const docLink = document.createElement('div');\n",
              "          docLink.innerHTML = docLinkHtml;\n",
              "          element.appendChild(docLink);\n",
              "        }\n",
              "      </script>\n",
              "    </div>\n",
              "  </div>\n",
              "  "
            ]
          },
          "metadata": {},
          "execution_count": 18
        }
      ]
    },
    {
      "cell_type": "code",
      "source": [
        "prio_df2.info()"
      ],
      "metadata": {
        "id": "PDgVxg7eGSOR",
        "colab": {
          "base_uri": "https://localhost:8080/"
        },
        "outputId": "dde625b0-0335-4724-9873-ad8685911481"
      },
      "execution_count": null,
      "outputs": [
        {
          "output_type": "stream",
          "name": "stdout",
          "text": [
            "<class 'pandas.core.frame.DataFrame'>\n",
            "RangeIndex: 1988 entries, 0 to 1987\n",
            "Data columns (total 2 columns):\n",
            " #   Column  Non-Null Count  Dtype  \n",
            "---  ------  --------------  -----  \n",
            " 0   Date    1988 non-null   object \n",
            " 1   Close   1988 non-null   float64\n",
            "dtypes: float64(1), object(1)\n",
            "memory usage: 31.2+ KB\n"
          ]
        }
      ]
    },
    {
      "cell_type": "code",
      "source": [
        "prio_df2.describe()"
      ],
      "metadata": {
        "id": "ODXXsnKpATF-",
        "colab": {
          "base_uri": "https://localhost:8080/",
          "height": 300
        },
        "outputId": "22424f43-b2da-4751-b794-dca177c26e44"
      },
      "execution_count": null,
      "outputs": [
        {
          "output_type": "execute_result",
          "data": {
            "text/plain": [
              "             Close\n",
              "count  1988.000000\n",
              "mean      7.620915\n",
              "std       9.832142\n",
              "min       0.138000\n",
              "25%       0.537300\n",
              "50%       2.261000\n",
              "75%      13.769500\n",
              "max      38.500000"
            ],
            "text/html": [
              "\n",
              "  <div id=\"df-1300711a-289e-4385-b55e-f6ed59c1c39b\">\n",
              "    <div class=\"colab-df-container\">\n",
              "      <div>\n",
              "<style scoped>\n",
              "    .dataframe tbody tr th:only-of-type {\n",
              "        vertical-align: middle;\n",
              "    }\n",
              "\n",
              "    .dataframe tbody tr th {\n",
              "        vertical-align: top;\n",
              "    }\n",
              "\n",
              "    .dataframe thead th {\n",
              "        text-align: right;\n",
              "    }\n",
              "</style>\n",
              "<table border=\"1\" class=\"dataframe\">\n",
              "  <thead>\n",
              "    <tr style=\"text-align: right;\">\n",
              "      <th></th>\n",
              "      <th>Close</th>\n",
              "    </tr>\n",
              "  </thead>\n",
              "  <tbody>\n",
              "    <tr>\n",
              "      <th>count</th>\n",
              "      <td>1988.000000</td>\n",
              "    </tr>\n",
              "    <tr>\n",
              "      <th>mean</th>\n",
              "      <td>7.620915</td>\n",
              "    </tr>\n",
              "    <tr>\n",
              "      <th>std</th>\n",
              "      <td>9.832142</td>\n",
              "    </tr>\n",
              "    <tr>\n",
              "      <th>min</th>\n",
              "      <td>0.138000</td>\n",
              "    </tr>\n",
              "    <tr>\n",
              "      <th>25%</th>\n",
              "      <td>0.537300</td>\n",
              "    </tr>\n",
              "    <tr>\n",
              "      <th>50%</th>\n",
              "      <td>2.261000</td>\n",
              "    </tr>\n",
              "    <tr>\n",
              "      <th>75%</th>\n",
              "      <td>13.769500</td>\n",
              "    </tr>\n",
              "    <tr>\n",
              "      <th>max</th>\n",
              "      <td>38.500000</td>\n",
              "    </tr>\n",
              "  </tbody>\n",
              "</table>\n",
              "</div>\n",
              "      <button class=\"colab-df-convert\" onclick=\"convertToInteractive('df-1300711a-289e-4385-b55e-f6ed59c1c39b')\"\n",
              "              title=\"Convert this dataframe to an interactive table.\"\n",
              "              style=\"display:none;\">\n",
              "        \n",
              "  <svg xmlns=\"http://www.w3.org/2000/svg\" height=\"24px\"viewBox=\"0 0 24 24\"\n",
              "       width=\"24px\">\n",
              "    <path d=\"M0 0h24v24H0V0z\" fill=\"none\"/>\n",
              "    <path d=\"M18.56 5.44l.94 2.06.94-2.06 2.06-.94-2.06-.94-.94-2.06-.94 2.06-2.06.94zm-11 1L8.5 8.5l.94-2.06 2.06-.94-2.06-.94L8.5 2.5l-.94 2.06-2.06.94zm10 10l.94 2.06.94-2.06 2.06-.94-2.06-.94-.94-2.06-.94 2.06-2.06.94z\"/><path d=\"M17.41 7.96l-1.37-1.37c-.4-.4-.92-.59-1.43-.59-.52 0-1.04.2-1.43.59L10.3 9.45l-7.72 7.72c-.78.78-.78 2.05 0 2.83L4 21.41c.39.39.9.59 1.41.59.51 0 1.02-.2 1.41-.59l7.78-7.78 2.81-2.81c.8-.78.8-2.07 0-2.86zM5.41 20L4 18.59l7.72-7.72 1.47 1.35L5.41 20z\"/>\n",
              "  </svg>\n",
              "      </button>\n",
              "      \n",
              "  <style>\n",
              "    .colab-df-container {\n",
              "      display:flex;\n",
              "      flex-wrap:wrap;\n",
              "      gap: 12px;\n",
              "    }\n",
              "\n",
              "    .colab-df-convert {\n",
              "      background-color: #E8F0FE;\n",
              "      border: none;\n",
              "      border-radius: 50%;\n",
              "      cursor: pointer;\n",
              "      display: none;\n",
              "      fill: #1967D2;\n",
              "      height: 32px;\n",
              "      padding: 0 0 0 0;\n",
              "      width: 32px;\n",
              "    }\n",
              "\n",
              "    .colab-df-convert:hover {\n",
              "      background-color: #E2EBFA;\n",
              "      box-shadow: 0px 1px 2px rgba(60, 64, 67, 0.3), 0px 1px 3px 1px rgba(60, 64, 67, 0.15);\n",
              "      fill: #174EA6;\n",
              "    }\n",
              "\n",
              "    [theme=dark] .colab-df-convert {\n",
              "      background-color: #3B4455;\n",
              "      fill: #D2E3FC;\n",
              "    }\n",
              "\n",
              "    [theme=dark] .colab-df-convert:hover {\n",
              "      background-color: #434B5C;\n",
              "      box-shadow: 0px 1px 3px 1px rgba(0, 0, 0, 0.15);\n",
              "      filter: drop-shadow(0px 1px 2px rgba(0, 0, 0, 0.3));\n",
              "      fill: #FFFFFF;\n",
              "    }\n",
              "  </style>\n",
              "\n",
              "      <script>\n",
              "        const buttonEl =\n",
              "          document.querySelector('#df-1300711a-289e-4385-b55e-f6ed59c1c39b button.colab-df-convert');\n",
              "        buttonEl.style.display =\n",
              "          google.colab.kernel.accessAllowed ? 'block' : 'none';\n",
              "\n",
              "        async function convertToInteractive(key) {\n",
              "          const element = document.querySelector('#df-1300711a-289e-4385-b55e-f6ed59c1c39b');\n",
              "          const dataTable =\n",
              "            await google.colab.kernel.invokeFunction('convertToInteractive',\n",
              "                                                     [key], {});\n",
              "          if (!dataTable) return;\n",
              "\n",
              "          const docLinkHtml = 'Like what you see? Visit the ' +\n",
              "            '<a target=\"_blank\" href=https://colab.research.google.com/notebooks/data_table.ipynb>data table notebook</a>'\n",
              "            + ' to learn more about interactive tables.';\n",
              "          element.innerHTML = '';\n",
              "          dataTable['output_type'] = 'display_data';\n",
              "          await google.colab.output.renderOutput(dataTable, element);\n",
              "          const docLink = document.createElement('div');\n",
              "          docLink.innerHTML = docLinkHtml;\n",
              "          element.appendChild(docLink);\n",
              "        }\n",
              "      </script>\n",
              "    </div>\n",
              "  </div>\n",
              "  "
            ]
          },
          "metadata": {},
          "execution_count": 20
        }
      ]
    },
    {
      "cell_type": "markdown",
      "source": [
        "# 4. Visualização dos dados"
      ],
      "metadata": {
        "id": "OXQm4F4k8Wan"
      }
    },
    {
      "cell_type": "markdown",
      "source": [
        "## 4.1. Criando um gráfico de histórico do preço da ação PRIO.SA"
      ],
      "metadata": {
        "id": "0HkWQQvrsqDF"
      }
    },
    {
      "cell_type": "code",
      "source": [
        "prio_df2.plot(x = 'Date', figsize = (15,7), title = 'Histórico do preço da ação PRIO.SA');"
      ],
      "metadata": {
        "id": "jfGIF9aTFwFx",
        "colab": {
          "base_uri": "https://localhost:8080/",
          "height": 458
        },
        "outputId": "0b848d4f-a910-458e-cef2-44f65bf3c715"
      },
      "execution_count": null,
      "outputs": [
        {
          "output_type": "display_data",
          "data": {
            "text/plain": [
              "<Figure size 1080x504 with 1 Axes>"
            ],
            "image/png": "[encoded data removed]"
          },
          "metadata": {
            "needs_background": "light"
          }
        }
      ]
    },
    {
      "cell_type": "code",
      "source": [
        "prio_df2.info()"
      ],
      "metadata": {
        "colab": {
          "base_uri": "https://localhost:8080/"
        },
        "id": "0lxQH7wgfyT4",
        "outputId": "e9833131-3c1d-43cf-d1c2-8e27fb63cdec"
      },
      "execution_count": null,
      "outputs": [
        {
          "output_type": "stream",
          "name": "stdout",
          "text": [
            "<class 'pandas.core.frame.DataFrame'>\n",
            "RangeIndex: 1988 entries, 0 to 1987\n",
            "Data columns (total 2 columns):\n",
            " #   Column  Non-Null Count  Dtype  \n",
            "---  ------  --------------  -----  \n",
            " 0   Date    1988 non-null   object \n",
            " 1   Close   1988 non-null   float64\n",
            "dtypes: float64(1), object(1)\n",
            "memory usage: 31.2+ KB\n"
          ]
        }
      ]
    },
    {
      "cell_type": "markdown",
      "source": [
        "A informação no eixo X está sobreposta --> date é um objecto "
      ],
      "metadata": {
        "id": "rIBNdJFoyaB0"
      }
    },
    {
      "cell_type": "markdown",
      "source": [
        "## 4.2. Convertendo Dates and Times"
      ],
      "metadata": {
        "id": "xZ6jBIGxsiI8"
      }
    },
    {
      "cell_type": "code",
      "source": [
        "prio_df2['Date'] = pd.to_datetime(prio_df2['Date'],utc=True)\n",
        "prio_df2.info()"
      ],
      "metadata": {
        "colab": {
          "base_uri": "https://localhost:8080/"
        },
        "id": "WuXSCLxUrgCy",
        "outputId": "14111a5f-ff11-43df-b9f8-cc504d45dd7b"
      },
      "execution_count": null,
      "outputs": [
        {
          "output_type": "stream",
          "name": "stdout",
          "text": [
            "<class 'pandas.core.frame.DataFrame'>\n",
            "RangeIndex: 1988 entries, 0 to 1987\n",
            "Data columns (total 2 columns):\n",
            " #   Column  Non-Null Count  Dtype              \n",
            "---  ------  --------------  -----              \n",
            " 0   Date    1988 non-null   datetime64[ns, UTC]\n",
            " 1   Close   1988 non-null   float64            \n",
            "dtypes: datetime64[ns, UTC](1), float64(1)\n",
            "memory usage: 31.2 KB\n"
          ]
        }
      ]
    },
    {
      "cell_type": "code",
      "source": [
        "prio_df2"
      ],
      "metadata": {
        "colab": {
          "base_uri": "https://localhost:8080/",
          "height": 423
        },
        "id": "z70syXweRCmb",
        "outputId": "2edec8cb-2f05-4ecb-e616-85d582333907"
      },
      "execution_count": null,
      "outputs": [
        {
          "output_type": "execute_result",
          "data": {
            "text/plain": [
              "                          Date      Close\n",
              "0    2015-01-02 02:00:00+00:00   0.440000\n",
              "1    2015-01-05 02:00:00+00:00   0.407000\n",
              "2    2015-01-06 02:00:00+00:00   0.367000\n",
              "3    2015-01-07 02:00:00+00:00   0.366000\n",
              "4    2015-01-08 02:00:00+00:00   0.378000\n",
              "...                        ...        ...\n",
              "1983 2022-12-23 03:00:00+00:00  35.490002\n",
              "1984 2022-12-26 03:00:00+00:00  35.439999\n",
              "1985 2022-12-27 03:00:00+00:00  35.580002\n",
              "1986 2022-12-28 03:00:00+00:00  37.250000\n",
              "1987 2022-12-29 03:00:00+00:00  37.209999\n",
              "\n",
              "[1988 rows x 2 columns]"
            ],
            "text/html": [
              "\n",
              "  <div id=\"df-849bfef0-c04e-4c60-913f-e9a00bc97a7f\">\n",
              "    <div class=\"colab-df-container\">\n",
              "      <div>\n",
              "<style scoped>\n",
              "    .dataframe tbody tr th:only-of-type {\n",
              "        vertical-align: middle;\n",
              "    }\n",
              "\n",
              "    .dataframe tbody tr th {\n",
              "        vertical-align: top;\n",
              "    }\n",
              "\n",
              "    .dataframe thead th {\n",
              "        text-align: right;\n",
              "    }\n",
              "</style>\n",
              "<table border=\"1\" class=\"dataframe\">\n",
              "  <thead>\n",
              "    <tr style=\"text-align: right;\">\n",
              "      <th></th>\n",
              "      <th>Date</th>\n",
              "      <th>Close</th>\n",
              "    </tr>\n",
              "  </thead>\n",
              "  <tbody>\n",
              "    <tr>\n",
              "      <th>0</th>\n",
              "      <td>2015-01-02 02:00:00+00:00</td>\n",
              "      <td>0.440000</td>\n",
              "    </tr>\n",
              "    <tr>\n",
              "      <th>1</th>\n",
              "      <td>2015-01-05 02:00:00+00:00</td>\n",
              "      <td>0.407000</td>\n",
              "    </tr>\n",
              "    <tr>\n",
              "      <th>2</th>\n",
              "      <td>2015-01-06 02:00:00+00:00</td>\n",
              "      <td>0.367000</td>\n",
              "    </tr>\n",
              "    <tr>\n",
              "      <th>3</th>\n",
              "      <td>2015-01-07 02:00:00+00:00</td>\n",
              "      <td>0.366000</td>\n",
              "    </tr>\n",
              "    <tr>\n",
              "      <th>4</th>\n",
              "      <td>2015-01-08 02:00:00+00:00</td>\n",
              "      <td>0.378000</td>\n",
              "    </tr>\n",
              "    <tr>\n",
              "      <th>...</th>\n",
              "      <td>...</td>\n",
              "      <td>...</td>\n",
              "    </tr>\n",
              "    <tr>\n",
              "      <th>1983</th>\n",
              "      <td>2022-12-23 03:00:00+00:00</td>\n",
              "      <td>35.490002</td>\n",
              "    </tr>\n",
              "    <tr>\n",
              "      <th>1984</th>\n",
              "      <td>2022-12-26 03:00:00+00:00</td>\n",
              "      <td>35.439999</td>\n",
              "    </tr>\n",
              "    <tr>\n",
              "      <th>1985</th>\n",
              "      <td>2022-12-27 03:00:00+00:00</td>\n",
              "      <td>35.580002</td>\n",
              "    </tr>\n",
              "    <tr>\n",
              "      <th>1986</th>\n",
              "      <td>2022-12-28 03:00:00+00:00</td>\n",
              "      <td>37.250000</td>\n",
              "    </tr>\n",
              "    <tr>\n",
              "      <th>1987</th>\n",
              "      <td>2022-12-29 03:00:00+00:00</td>\n",
              "      <td>37.209999</td>\n",
              "    </tr>\n",
              "  </tbody>\n",
              "</table>\n",
              "<p>1988 rows × 2 columns</p>\n",
              "</div>\n",
              "      <button class=\"colab-df-convert\" onclick=\"convertToInteractive('df-849bfef0-c04e-4c60-913f-e9a00bc97a7f')\"\n",
              "              title=\"Convert this dataframe to an interactive table.\"\n",
              "              style=\"display:none;\">\n",
              "        \n",
              "  <svg xmlns=\"http://www.w3.org/2000/svg\" height=\"24px\"viewBox=\"0 0 24 24\"\n",
              "       width=\"24px\">\n",
              "    <path d=\"M0 0h24v24H0V0z\" fill=\"none\"/>\n",
              "    <path d=\"M18.56 5.44l.94 2.06.94-2.06 2.06-.94-2.06-.94-.94-2.06-.94 2.06-2.06.94zm-11 1L8.5 8.5l.94-2.06 2.06-.94-2.06-.94L8.5 2.5l-.94 2.06-2.06.94zm10 10l.94 2.06.94-2.06 2.06-.94-2.06-.94-.94-2.06-.94 2.06-2.06.94z\"/><path d=\"M17.41 7.96l-1.37-1.37c-.4-.4-.92-.59-1.43-.59-.52 0-1.04.2-1.43.59L10.3 9.45l-7.72 7.72c-.78.78-.78 2.05 0 2.83L4 21.41c.39.39.9.59 1.41.59.51 0 1.02-.2 1.41-.59l7.78-7.78 2.81-2.81c.8-.78.8-2.07 0-2.86zM5.41 20L4 18.59l7.72-7.72 1.47 1.35L5.41 20z\"/>\n",
              "  </svg>\n",
              "      </button>\n",
              "      \n",
              "  <style>\n",
              "    .colab-df-container {\n",
              "      display:flex;\n",
              "      flex-wrap:wrap;\n",
              "      gap: 12px;\n",
              "    }\n",
              "\n",
              "    .colab-df-convert {\n",
              "      background-color: #E8F0FE;\n",
              "      border: none;\n",
              "      border-radius: 50%;\n",
              "      cursor: pointer;\n",
              "      display: none;\n",
              "      fill: #1967D2;\n",
              "      height: 32px;\n",
              "      padding: 0 0 0 0;\n",
              "      width: 32px;\n",
              "    }\n",
              "\n",
              "    .colab-df-convert:hover {\n",
              "      background-color: #E2EBFA;\n",
              "      box-shadow: 0px 1px 2px rgba(60, 64, 67, 0.3), 0px 1px 3px 1px rgba(60, 64, 67, 0.15);\n",
              "      fill: #174EA6;\n",
              "    }\n",
              "\n",
              "    [theme=dark] .colab-df-convert {\n",
              "      background-color: #3B4455;\n",
              "      fill: #D2E3FC;\n",
              "    }\n",
              "\n",
              "    [theme=dark] .colab-df-convert:hover {\n",
              "      background-color: #434B5C;\n",
              "      box-shadow: 0px 1px 3px 1px rgba(0, 0, 0, 0.15);\n",
              "      filter: drop-shadow(0px 1px 2px rgba(0, 0, 0, 0.3));\n",
              "      fill: #FFFFFF;\n",
              "    }\n",
              "  </style>\n",
              "\n",
              "      <script>\n",
              "        const buttonEl =\n",
              "          document.querySelector('#df-849bfef0-c04e-4c60-913f-e9a00bc97a7f button.colab-df-convert');\n",
              "        buttonEl.style.display =\n",
              "          google.colab.kernel.accessAllowed ? 'block' : 'none';\n",
              "\n",
              "        async function convertToInteractive(key) {\n",
              "          const element = document.querySelector('#df-849bfef0-c04e-4c60-913f-e9a00bc97a7f');\n",
              "          const dataTable =\n",
              "            await google.colab.kernel.invokeFunction('convertToInteractive',\n",
              "                                                     [key], {});\n",
              "          if (!dataTable) return;\n",
              "\n",
              "          const docLinkHtml = 'Like what you see? Visit the ' +\n",
              "            '<a target=\"_blank\" href=https://colab.research.google.com/notebooks/data_table.ipynb>data table notebook</a>'\n",
              "            + ' to learn more about interactive tables.';\n",
              "          element.innerHTML = '';\n",
              "          dataTable['output_type'] = 'display_data';\n",
              "          await google.colab.output.renderOutput(dataTable, element);\n",
              "          const docLink = document.createElement('div');\n",
              "          docLink.innerHTML = docLinkHtml;\n",
              "          element.appendChild(docLink);\n",
              "        }\n",
              "      </script>\n",
              "    </div>\n",
              "  </div>\n",
              "  "
            ]
          },
          "metadata": {},
          "execution_count": 24
        }
      ]
    },
    {
      "cell_type": "code",
      "source": [
        "prio_df2.plot(x = 'Date', figsize = (15,7), title = 'Histórico do preço da ação PRIO.SA');\n",
        "#p.label(x=\"Data\", y=\"Valor em Reais\")"
      ],
      "metadata": {
        "colab": {
          "base_uri": "https://localhost:8080/",
          "height": 432
        },
        "id": "zdiEoJEefmPn",
        "outputId": "02fc9735-5668-4d47-a2f0-e4e82bc7ea64"
      },
      "execution_count": null,
      "outputs": [
        {
          "output_type": "display_data",
          "data": {
            "text/plain": [
              "<Figure size 1080x504 with 1 Axes>"
            ],
            "image/png": "[encoded data removed]"
          },
          "metadata": {
            "needs_background": "light"
          }
        }
      ]
    },
    {
      "cell_type": "markdown",
      "source": [
        "## 4.3. Criando um histograma da ação PRIO.SA para verificar a maior incidência dos valores históricos "
      ],
      "metadata": {
        "id": "5LQAfazJvB-W"
      }
    },
    {
      "cell_type": "code",
      "source": [
        "sns.histplot(prio_df2, kde = True ); \n",
        "#p.label(x=\"Valor em Reais\", y=\"Número de dias ação ficou na faixa de preço \")"
      ],
      "metadata": {
        "id": "VKrNYW158Yy-",
        "colab": {
          "base_uri": "https://localhost:8080/",
          "height": 265
        },
        "outputId": "97165c47-2030-43f5-d09e-d8921593fd37"
      },
      "execution_count": null,
      "outputs": [
        {
          "output_type": "display_data",
          "data": {
            "text/plain": [
              "<Figure size 432x288 with 1 Axes>"
            ],
            "image/png": "[encoded data removed]"
          },
          "metadata": {
            "needs_background": "light"
          }
        }
      ]
    },
    {
      "cell_type": "markdown",
      "source": [
        "4.4. Salvar essa base de dados **prio_df2** em CSV no Goolge Drive:\n",
        "\n"
      ],
      "metadata": {
        "id": "fPriYfjVR3n2"
      }
    },
    {
      "cell_type": "code",
      "source": [
        "prio_df.to_csv('prio2.csv')"
      ],
      "metadata": {
        "id": "pmvA3ARAR1WZ"
      },
      "execution_count": null,
      "outputs": []
    },
    {
      "cell_type": "markdown",
      "source": [
        "## 5. Comparando o histórico do preço da ação PRIO.SA (PRIO3.SA) com: "
      ],
      "metadata": {
        "id": "d8ST0fbf5NkV"
      }
    },
    {
      "cell_type": "markdown",
      "source": [
        "*   Ibovespa Fundo de Índice (BOVA11.SA)\n",
        "*   Cosan (CSAN3.SA)\n",
        "*   Petrobras (PETR3.SA, PETR4.SA)\n",
        "*   Pet Manguinhos (RPMG.SA)\n",
        "*   Ultrapar (UGPA3.SA)\n",
        "\n",
        "\n"
      ],
      "metadata": {
        "id": "4Kz3Sc3KE-yw"
      }
    },
    {
      "cell_type": "markdown",
      "source": [
        "## 5.1. Carregar os dados no Yahoo! Finance API, até o dia de hoje:"
      ],
      "metadata": {
        "id": "_cdpsXUoC1dO"
      }
    },
    {
      "cell_type": "code",
      "source": [
        "acoes = ['PRIO3.SA', 'BOVA11.SA', 'PETR4.SA','PETR3.SA','CSAN3.SA','CSAN3.SA', 'UGPA3.SA' ]"
      ],
      "metadata": {
        "id": "MNKcUfXkFI9Y"
      },
      "execution_count": null,
      "outputs": []
    },
    {
      "cell_type": "code",
      "source": [
        "acoes_df = pd.DataFrame()\n",
        "for acao in acoes:\n",
        "  acoes_df[acao] = yf.download(acao, start='2015-01-01', end ='2022-12-31')['Close']"
      ],
      "metadata": {
        "colab": {
          "base_uri": "https://localhost:8080/"
        },
        "id": "98Eqx3hjEpEi",
        "outputId": "7439e16a-ccc3-49be-e57f-d685e0099337"
      },
      "execution_count": null,
      "outputs": [
        {
          "output_type": "stream",
          "name": "stdout",
          "text": [
            "[*********************100%***********************]  1 of 1 completed\n",
            "[*********************100%***********************]  1 of 1 completed\n",
            "[*********************100%***********************]  1 of 1 completed\n",
            "[*********************100%***********************]  1 of 1 completed\n",
            "[*********************100%***********************]  1 of 1 completed\n",
            "[*********************100%***********************]  1 of 1 completed\n",
            "[*********************100%***********************]  1 of 1 completed\n"
          ]
        }
      ]
    },
    {
      "cell_type": "markdown",
      "source": [
        "# 5.2. Informações sobre a base de dados"
      ],
      "metadata": {
        "id": "83znxP8PD57T"
      }
    },
    {
      "cell_type": "code",
      "source": [
        "acoes_df"
      ],
      "metadata": {
        "colab": {
          "base_uri": "https://localhost:8080/",
          "height": 454
        },
        "id": "g5n3JePAK-gZ",
        "outputId": "3efa31c3-ea4d-425a-d04b-8da88a22d333"
      },
      "execution_count": null,
      "outputs": [
        {
          "output_type": "execute_result",
          "data": {
            "text/plain": [
              "                            PRIO3.SA   BOVA11.SA   PETR4.SA   PETR3.SA  \\\n",
              "Date                                                                     \n",
              "2015-01-02 00:00:00-02:00   0.440000   47.259998   9.360000   9.000000   \n",
              "2015-01-05 00:00:00-02:00   0.407000   46.320000   8.560000   8.270000   \n",
              "2015-01-06 00:00:00-02:00   0.367000   46.580002   8.280000   8.060000   \n",
              "2015-01-07 00:00:00-02:00   0.366000   48.150002   8.670000   8.450000   \n",
              "2015-01-08 00:00:00-02:00   0.378000   48.509998   9.230000   9.020000   \n",
              "...                              ...         ...        ...        ...   \n",
              "2022-12-23 00:00:00-03:00  35.490002  106.000000  25.120001  28.559999   \n",
              "2022-12-26 00:00:00-03:00  35.439999  105.150002  24.940001  28.469999   \n",
              "2022-12-27 00:00:00-03:00  35.580002  104.900002  25.110001  28.660000   \n",
              "2022-12-28 00:00:00-03:00  37.250000  106.800003  24.799999  28.500000   \n",
              "2022-12-29 00:00:00-03:00  37.209999  105.949997  24.500000  28.040001   \n",
              "\n",
              "                            CSAN3.SA   UGPA3.SA  \n",
              "Date                                             \n",
              "2015-01-02 00:00:00-02:00   6.950000  25.330000  \n",
              "2015-01-05 00:00:00-02:00   6.537500  24.655001  \n",
              "2015-01-06 00:00:00-02:00   6.280000  24.690001  \n",
              "2015-01-07 00:00:00-02:00   6.372500  25.360001  \n",
              "2015-01-08 00:00:00-02:00   6.450000  25.100000  \n",
              "...                              ...        ...  \n",
              "2022-12-23 00:00:00-03:00  17.290001  12.840000  \n",
              "2022-12-26 00:00:00-03:00  16.770000  12.350000  \n",
              "2022-12-27 00:00:00-03:00  16.910000  12.280000  \n",
              "2022-12-28 00:00:00-03:00  17.290001  12.700000  \n",
              "2022-12-29 00:00:00-03:00  17.120001  12.610000  \n",
              "\n",
              "[1988 rows x 6 columns]"
            ],
            "text/html": [
              "\n",
              "  <div id=\"df-a3201a2c-8a44-40ad-99be-f64ee4fda19f\">\n",
              "    <div class=\"colab-df-container\">\n",
              "      <div>\n",
              "<style scoped>\n",
              "    .dataframe tbody tr th:only-of-type {\n",
              "        vertical-align: middle;\n",
              "    }\n",
              "\n",
              "    .dataframe tbody tr th {\n",
              "        vertical-align: top;\n",
              "    }\n",
              "\n",
              "    .dataframe thead th {\n",
              "        text-align: right;\n",
              "    }\n",
              "</style>\n",
              "<table border=\"1\" class=\"dataframe\">\n",
              "  <thead>\n",
              "    <tr style=\"text-align: right;\">\n",
              "      <th></th>\n",
              "      <th>PRIO3.SA</th>\n",
              "      <th>BOVA11.SA</th>\n",
              "      <th>PETR4.SA</th>\n",
              "      <th>PETR3.SA</th>\n",
              "      <th>CSAN3.SA</th>\n",
              "      <th>UGPA3.SA</th>\n",
              "    </tr>\n",
              "    <tr>\n",
              "      <th>Date</th>\n",
              "      <th></th>\n",
              "      <th></th>\n",
              "      <th></th>\n",
              "      <th></th>\n",
              "      <th></th>\n",
              "      <th></th>\n",
              "    </tr>\n",
              "  </thead>\n",
              "  <tbody>\n",
              "    <tr>\n",
              "      <th>2015-01-02 00:00:00-02:00</th>\n",
              "      <td>0.440000</td>\n",
              "      <td>47.259998</td>\n",
              "      <td>9.360000</td>\n",
              "      <td>9.000000</td>\n",
              "      <td>6.950000</td>\n",
              "      <td>25.330000</td>\n",
              "    </tr>\n",
              "    <tr>\n",
              "      <th>2015-01-05 00:00:00-02:00</th>\n",
              "      <td>0.407000</td>\n",
              "      <td>46.320000</td>\n",
              "      <td>8.560000</td>\n",
              "      <td>8.270000</td>\n",
              "      <td>6.537500</td>\n",
              "      <td>24.655001</td>\n",
              "    </tr>\n",
              "    <tr>\n",
              "      <th>2015-01-06 00:00:00-02:00</th>\n",
              "      <td>0.367000</td>\n",
              "      <td>46.580002</td>\n",
              "      <td>8.280000</td>\n",
              "      <td>8.060000</td>\n",
              "      <td>6.280000</td>\n",
              "      <td>24.690001</td>\n",
              "    </tr>\n",
              "    <tr>\n",
              "      <th>2015-01-07 00:00:00-02:00</th>\n",
              "      <td>0.366000</td>\n",
              "      <td>48.150002</td>\n",
              "      <td>8.670000</td>\n",
              "      <td>8.450000</td>\n",
              "      <td>6.372500</td>\n",
              "      <td>25.360001</td>\n",
              "    </tr>\n",
              "    <tr>\n",
              "      <th>2015-01-08 00:00:00-02:00</th>\n",
              "      <td>0.378000</td>\n",
              "      <td>48.509998</td>\n",
              "      <td>9.230000</td>\n",
              "      <td>9.020000</td>\n",
              "      <td>6.450000</td>\n",
              "      <td>25.100000</td>\n",
              "    </tr>\n",
              "    <tr>\n",
              "      <th>...</th>\n",
              "      <td>...</td>\n",
              "      <td>...</td>\n",
              "      <td>...</td>\n",
              "      <td>...</td>\n",
              "      <td>...</td>\n",
              "      <td>...</td>\n",
              "    </tr>\n",
              "    <tr>\n",
              "      <th>2022-12-23 00:00:00-03:00</th>\n",
              "      <td>35.490002</td>\n",
              "      <td>106.000000</td>\n",
              "      <td>25.120001</td>\n",
              "      <td>28.559999</td>\n",
              "      <td>17.290001</td>\n",
              "      <td>12.840000</td>\n",
              "    </tr>\n",
              "    <tr>\n",
              "      <th>2022-12-26 00:00:00-03:00</th>\n",
              "      <td>35.439999</td>\n",
              "      <td>105.150002</td>\n",
              "      <td>24.940001</td>\n",
              "      <td>28.469999</td>\n",
              "      <td>16.770000</td>\n",
              "      <td>12.350000</td>\n",
              "    </tr>\n",
              "    <tr>\n",
              "      <th>2022-12-27 00:00:00-03:00</th>\n",
              "      <td>35.580002</td>\n",
              "      <td>104.900002</td>\n",
              "      <td>25.110001</td>\n",
              "      <td>28.660000</td>\n",
              "      <td>16.910000</td>\n",
              "      <td>12.280000</td>\n",
              "    </tr>\n",
              "    <tr>\n",
              "      <th>2022-12-28 00:00:00-03:00</th>\n",
              "      <td>37.250000</td>\n",
              "      <td>106.800003</td>\n",
              "      <td>24.799999</td>\n",
              "      <td>28.500000</td>\n",
              "      <td>17.290001</td>\n",
              "      <td>12.700000</td>\n",
              "    </tr>\n",
              "    <tr>\n",
              "      <th>2022-12-29 00:00:00-03:00</th>\n",
              "      <td>37.209999</td>\n",
              "      <td>105.949997</td>\n",
              "      <td>24.500000</td>\n",
              "      <td>28.040001</td>\n",
              "      <td>17.120001</td>\n",
              "      <td>12.610000</td>\n",
              "    </tr>\n",
              "  </tbody>\n",
              "</table>\n",
              "<p>1988 rows × 6 columns</p>\n",
              "</div>\n",
              "      <button class=\"colab-df-convert\" onclick=\"convertToInteractive('df-a3201a2c-8a44-40ad-99be-f64ee4fda19f')\"\n",
              "              title=\"Convert this dataframe to an interactive table.\"\n",
              "              style=\"display:none;\">\n",
              "        \n",
              "  <svg xmlns=\"http://www.w3.org/2000/svg\" height=\"24px\"viewBox=\"0 0 24 24\"\n",
              "       width=\"24px\">\n",
              "    <path d=\"M0 0h24v24H0V0z\" fill=\"none\"/>\n",
              "    <path d=\"M18.56 5.44l.94 2.06.94-2.06 2.06-.94-2.06-.94-.94-2.06-.94 2.06-2.06.94zm-11 1L8.5 8.5l.94-2.06 2.06-.94-2.06-.94L8.5 2.5l-.94 2.06-2.06.94zm10 10l.94 2.06.94-2.06 2.06-.94-2.06-.94-.94-2.06-.94 2.06-2.06.94z\"/><path d=\"M17.41 7.96l-1.37-1.37c-.4-.4-.92-.59-1.43-.59-.52 0-1.04.2-1.43.59L10.3 9.45l-7.72 7.72c-.78.78-.78 2.05 0 2.83L4 21.41c.39.39.9.59 1.41.59.51 0 1.02-.2 1.41-.59l7.78-7.78 2.81-2.81c.8-.78.8-2.07 0-2.86zM5.41 20L4 18.59l7.72-7.72 1.47 1.35L5.41 20z\"/>\n",
              "  </svg>\n",
              "      </button>\n",
              "      \n",
              "  <style>\n",
              "    .colab-df-container {\n",
              "      display:flex;\n",
              "      flex-wrap:wrap;\n",
              "      gap: 12px;\n",
              "    }\n",
              "\n",
              "    .colab-df-convert {\n",
              "      background-color: #E8F0FE;\n",
              "      border: none;\n",
              "      border-radius: 50%;\n",
              "      cursor: pointer;\n",
              "      display: none;\n",
              "      fill: #1967D2;\n",
              "      height: 32px;\n",
              "      padding: 0 0 0 0;\n",
              "      width: 32px;\n",
              "    }\n",
              "\n",
              "    .colab-df-convert:hover {\n",
              "      background-color: #E2EBFA;\n",
              "      box-shadow: 0px 1px 2px rgba(60, 64, 67, 0.3), 0px 1px 3px 1px rgba(60, 64, 67, 0.15);\n",
              "      fill: #174EA6;\n",
              "    }\n",
              "\n",
              "    [theme=dark] .colab-df-convert {\n",
              "      background-color: #3B4455;\n",
              "      fill: #D2E3FC;\n",
              "    }\n",
              "\n",
              "    [theme=dark] .colab-df-convert:hover {\n",
              "      background-color: #434B5C;\n",
              "      box-shadow: 0px 1px 3px 1px rgba(0, 0, 0, 0.15);\n",
              "      filter: drop-shadow(0px 1px 2px rgba(0, 0, 0, 0.3));\n",
              "      fill: #FFFFFF;\n",
              "    }\n",
              "  </style>\n",
              "\n",
              "      <script>\n",
              "        const buttonEl =\n",
              "          document.querySelector('#df-a3201a2c-8a44-40ad-99be-f64ee4fda19f button.colab-df-convert');\n",
              "        buttonEl.style.display =\n",
              "          google.colab.kernel.accessAllowed ? 'block' : 'none';\n",
              "\n",
              "        async function convertToInteractive(key) {\n",
              "          const element = document.querySelector('#df-a3201a2c-8a44-40ad-99be-f64ee4fda19f');\n",
              "          const dataTable =\n",
              "            await google.colab.kernel.invokeFunction('convertToInteractive',\n",
              "                                                     [key], {});\n",
              "          if (!dataTable) return;\n",
              "\n",
              "          const docLinkHtml = 'Like what you see? Visit the ' +\n",
              "            '<a target=\"_blank\" href=https://colab.research.google.com/notebooks/data_table.ipynb>data table notebook</a>'\n",
              "            + ' to learn more about interactive tables.';\n",
              "          element.innerHTML = '';\n",
              "          dataTable['output_type'] = 'display_data';\n",
              "          await google.colab.output.renderOutput(dataTable, element);\n",
              "          const docLink = document.createElement('div');\n",
              "          docLink.innerHTML = docLinkHtml;\n",
              "          element.appendChild(docLink);\n",
              "        }\n",
              "      </script>\n",
              "    </div>\n",
              "  </div>\n",
              "  "
            ]
          },
          "metadata": {},
          "execution_count": 30
        }
      ]
    },
    {
      "cell_type": "code",
      "source": [
        "acoes_df.info()"
      ],
      "metadata": {
        "colab": {
          "base_uri": "https://localhost:8080/"
        },
        "id": "LbsaA14aLdVJ",
        "outputId": "82917480-6d12-480b-a535-b3d32418dfe0"
      },
      "execution_count": null,
      "outputs": [
        {
          "output_type": "stream",
          "name": "stdout",
          "text": [
            "<class 'pandas.core.frame.DataFrame'>\n",
            "DatetimeIndex: 1988 entries, 2015-01-02 00:00:00-02:00 to 2022-12-29 00:00:00-03:00\n",
            "Data columns (total 6 columns):\n",
            " #   Column     Non-Null Count  Dtype  \n",
            "---  ------     --------------  -----  \n",
            " 0   PRIO3.SA   1988 non-null   float64\n",
            " 1   BOVA11.SA  1988 non-null   float64\n",
            " 2   PETR4.SA   1988 non-null   float64\n",
            " 3   PETR3.SA   1988 non-null   float64\n",
            " 4   CSAN3.SA   1988 non-null   float64\n",
            " 5   UGPA3.SA   1988 non-null   float64\n",
            "dtypes: float64(6)\n",
            "memory usage: 173.3 KB\n"
          ]
        }
      ]
    },
    {
      "cell_type": "code",
      "source": [
        "acoes_df.isnull().sum()"
      ],
      "metadata": {
        "colab": {
          "base_uri": "https://localhost:8080/"
        },
        "id": "1KtsSG02O6wj",
        "outputId": "44c5500b-3447-4cbd-a127-90fcce245a10"
      },
      "execution_count": null,
      "outputs": [
        {
          "output_type": "execute_result",
          "data": {
            "text/plain": [
              "PRIO3.SA     0\n",
              "BOVA11.SA    0\n",
              "PETR4.SA     0\n",
              "PETR3.SA     0\n",
              "CSAN3.SA     0\n",
              "UGPA3.SA     0\n",
              "dtype: int64"
            ]
          },
          "metadata": {},
          "execution_count": 32
        }
      ]
    },
    {
      "cell_type": "code",
      "source": [
        "#import matplotlib.pyplot as plt\n",
        "#import numpy as np\n",
        "#plt.figure(figsize=(16,8))\n",
        "#plt.xlabel('Registros', fontsize=18)\n",
        "#plt.ylabel('Valores em Reais', fontsize= 18)\n",
        "#plt.yticks(np.arange(-50, 1000, 50))\n",
        "#plt.plot(df2);"
      ],
      "metadata": {
        "id": "ian0_QhbE1Sx"
      },
      "execution_count": null,
      "outputs": []
    },
    {
      "cell_type": "code",
      "source": [
        "acoes_df.plot();"
      ],
      "metadata": {
        "colab": {
          "base_uri": "https://localhost:8080/",
          "height": 269
        },
        "id": "VUTc9swGMF50",
        "outputId": "8256c328-5ef4-467d-9f9d-53c4e61384ea"
      },
      "execution_count": null,
      "outputs": [
        {
          "output_type": "display_data",
          "data": {
            "text/plain": [
              "<Figure size 432x288 with 1 Axes>"
            ],
            "image/png": "[encoded data removed]"
          },
          "metadata": {
            "needs_background": "light"
          }
        }
      ]
    },
    {
      "cell_type": "markdown",
      "source": [
        "# 5.3. Normalizar os dados para análise do crescimento das ações "
      ],
      "metadata": {
        "id": "U24TPJgfD3Wa"
      }
    },
    {
      "cell_type": "code",
      "source": [
        "acoes_df_normalizado = acoes_df.copy()\n",
        "for i in acoes_df_normalizado.columns[0:]:\n",
        "  acoes_df_normalizado[i] = acoes_df_normalizado[i] / acoes_df_normalizado[i][0]"
      ],
      "metadata": {
        "id": "4vk4oL6aAd52"
      },
      "execution_count": null,
      "outputs": []
    },
    {
      "cell_type": "code",
      "source": [
        "acoes_df_normalizado"
      ],
      "metadata": {
        "colab": {
          "base_uri": "https://localhost:8080/",
          "height": 454
        },
        "id": "B3NZ1O_0Ajvf",
        "outputId": "f7d7e6fb-d683-493e-880b-cf5a1bb00cca"
      },
      "execution_count": null,
      "outputs": [
        {
          "output_type": "execute_result",
          "data": {
            "text/plain": [
              "                            PRIO3.SA  BOVA11.SA  PETR4.SA  PETR3.SA  CSAN3.SA  \\\n",
              "Date                                                                            \n",
              "2015-01-02 00:00:00-02:00   1.000000   1.000000  1.000000  1.000000  1.000000   \n",
              "2015-01-05 00:00:00-02:00   0.925000   0.980110  0.914530  0.918889  0.940647   \n",
              "2015-01-06 00:00:00-02:00   0.834091   0.985612  0.884615  0.895556  0.903597   \n",
              "2015-01-07 00:00:00-02:00   0.831818   1.018832  0.926282  0.938889  0.916906   \n",
              "2015-01-08 00:00:00-02:00   0.859091   1.026449  0.986111  1.002222  0.928058   \n",
              "...                              ...        ...       ...       ...       ...   \n",
              "2022-12-23 00:00:00-03:00  80.659095   2.242912  2.683761  3.173333  2.487770   \n",
              "2022-12-26 00:00:00-03:00  80.545452   2.224926  2.664530  3.163333  2.412950   \n",
              "2022-12-27 00:00:00-03:00  80.863641   2.219636  2.682692  3.184444  2.433094   \n",
              "2022-12-28 00:00:00-03:00  84.659091   2.259839  2.649573  3.166667  2.487770   \n",
              "2022-12-29 00:00:00-03:00  84.568180   2.241854  2.617521  3.115556  2.463310   \n",
              "\n",
              "                           UGPA3.SA  \n",
              "Date                                 \n",
              "2015-01-02 00:00:00-02:00  1.000000  \n",
              "2015-01-05 00:00:00-02:00  0.973352  \n",
              "2015-01-06 00:00:00-02:00  0.974734  \n",
              "2015-01-07 00:00:00-02:00  1.001184  \n",
              "2015-01-08 00:00:00-02:00  0.990920  \n",
              "...                             ...  \n",
              "2022-12-23 00:00:00-03:00  0.506909  \n",
              "2022-12-26 00:00:00-03:00  0.487564  \n",
              "2022-12-27 00:00:00-03:00  0.484801  \n",
              "2022-12-28 00:00:00-03:00  0.501382  \n",
              "2022-12-29 00:00:00-03:00  0.497829  \n",
              "\n",
              "[1988 rows x 6 columns]"
            ],
            "text/html": [
              "\n",
              "  <div id=\"df-10031196-52ed-46c2-99e2-22f0ff8b19f0\">\n",
              "    <div class=\"colab-df-container\">\n",
              "      <div>\n",
              "<style scoped>\n",
              "    .dataframe tbody tr th:only-of-type {\n",
              "        vertical-align: middle;\n",
              "    }\n",
              "\n",
              "    .dataframe tbody tr th {\n",
              "        vertical-align: top;\n",
              "    }\n",
              "\n",
              "    .dataframe thead th {\n",
              "        text-align: right;\n",
              "    }\n",
              "</style>\n",
              "<table border=\"1\" class=\"dataframe\">\n",
              "  <thead>\n",
              "    <tr style=\"text-align: right;\">\n",
              "      <th></th>\n",
              "      <th>PRIO3.SA</th>\n",
              "      <th>BOVA11.SA</th>\n",
              "      <th>PETR4.SA</th>\n",
              "      <th>PETR3.SA</th>\n",
              "      <th>CSAN3.SA</th>\n",
              "      <th>UGPA3.SA</th>\n",
              "    </tr>\n",
              "    <tr>\n",
              "      <th>Date</th>\n",
              "      <th></th>\n",
              "      <th></th>\n",
              "      <th></th>\n",
              "      <th></th>\n",
              "      <th></th>\n",
              "      <th></th>\n",
              "    </tr>\n",
              "  </thead>\n",
              "  <tbody>\n",
              "    <tr>\n",
              "      <th>2015-01-02 00:00:00-02:00</th>\n",
              "      <td>1.000000</td>\n",
              "      <td>1.000000</td>\n",
              "      <td>1.000000</td>\n",
              "      <td>1.000000</td>\n",
              "      <td>1.000000</td>\n",
              "      <td>1.000000</td>\n",
              "    </tr>\n",
              "    <tr>\n",
              "      <th>2015-01-05 00:00:00-02:00</th>\n",
              "      <td>0.925000</td>\n",
              "      <td>0.980110</td>\n",
              "      <td>0.914530</td>\n",
              "      <td>0.918889</td>\n",
              "      <td>0.940647</td>\n",
              "      <td>0.973352</td>\n",
              "    </tr>\n",
              "    <tr>\n",
              "      <th>2015-01-06 00:00:00-02:00</th>\n",
              "      <td>0.834091</td>\n",
              "      <td>0.985612</td>\n",
              "      <td>0.884615</td>\n",
              "      <td>0.895556</td>\n",
              "      <td>0.903597</td>\n",
              "      <td>0.974734</td>\n",
              "    </tr>\n",
              "    <tr>\n",
              "      <th>2015-01-07 00:00:00-02:00</th>\n",
              "      <td>0.831818</td>\n",
              "      <td>1.018832</td>\n",
              "      <td>0.926282</td>\n",
              "      <td>0.938889</td>\n",
              "      <td>0.916906</td>\n",
              "      <td>1.001184</td>\n",
              "    </tr>\n",
              "    <tr>\n",
              "      <th>2015-01-08 00:00:00-02:00</th>\n",
              "      <td>0.859091</td>\n",
              "      <td>1.026449</td>\n",
              "      <td>0.986111</td>\n",
              "      <td>1.002222</td>\n",
              "      <td>0.928058</td>\n",
              "      <td>0.990920</td>\n",
              "    </tr>\n",
              "    <tr>\n",
              "      <th>...</th>\n",
              "      <td>...</td>\n",
              "      <td>...</td>\n",
              "      <td>...</td>\n",
              "      <td>...</td>\n",
              "      <td>...</td>\n",
              "      <td>...</td>\n",
              "    </tr>\n",
              "    <tr>\n",
              "      <th>2022-12-23 00:00:00-03:00</th>\n",
              "      <td>80.659095</td>\n",
              "      <td>2.242912</td>\n",
              "      <td>2.683761</td>\n",
              "      <td>3.173333</td>\n",
              "      <td>2.487770</td>\n",
              "      <td>0.506909</td>\n",
              "    </tr>\n",
              "    <tr>\n",
              "      <th>2022-12-26 00:00:00-03:00</th>\n",
              "      <td>80.545452</td>\n",
              "      <td>2.224926</td>\n",
              "      <td>2.664530</td>\n",
              "      <td>3.163333</td>\n",
              "      <td>2.412950</td>\n",
              "      <td>0.487564</td>\n",
              "    </tr>\n",
              "    <tr>\n",
              "      <th>2022-12-27 00:00:00-03:00</th>\n",
              "      <td>80.863641</td>\n",
              "      <td>2.219636</td>\n",
              "      <td>2.682692</td>\n",
              "      <td>3.184444</td>\n",
              "      <td>2.433094</td>\n",
              "      <td>0.484801</td>\n",
              "    </tr>\n",
              "    <tr>\n",
              "      <th>2022-12-28 00:00:00-03:00</th>\n",
              "      <td>84.659091</td>\n",
              "      <td>2.259839</td>\n",
              "      <td>2.649573</td>\n",
              "      <td>3.166667</td>\n",
              "      <td>2.487770</td>\n",
              "      <td>0.501382</td>\n",
              "    </tr>\n",
              "    <tr>\n",
              "      <th>2022-12-29 00:00:00-03:00</th>\n",
              "      <td>84.568180</td>\n",
              "      <td>2.241854</td>\n",
              "      <td>2.617521</td>\n",
              "      <td>3.115556</td>\n",
              "      <td>2.463310</td>\n",
              "      <td>0.497829</td>\n",
              "    </tr>\n",
              "  </tbody>\n",
              "</table>\n",
              "<p>1988 rows × 6 columns</p>\n",
              "</div>\n",
              "      <button class=\"colab-df-convert\" onclick=\"convertToInteractive('df-10031196-52ed-46c2-99e2-22f0ff8b19f0')\"\n",
              "              title=\"Convert this dataframe to an interactive table.\"\n",
              "              style=\"display:none;\">\n",
              "        \n",
              "  <svg xmlns=\"http://www.w3.org/2000/svg\" height=\"24px\"viewBox=\"0 0 24 24\"\n",
              "       width=\"24px\">\n",
              "    <path d=\"M0 0h24v24H0V0z\" fill=\"none\"/>\n",
              "    <path d=\"M18.56 5.44l.94 2.06.94-2.06 2.06-.94-2.06-.94-.94-2.06-.94 2.06-2.06.94zm-11 1L8.5 8.5l.94-2.06 2.06-.94-2.06-.94L8.5 2.5l-.94 2.06-2.06.94zm10 10l.94 2.06.94-2.06 2.06-.94-2.06-.94-.94-2.06-.94 2.06-2.06.94z\"/><path d=\"M17.41 7.96l-1.37-1.37c-.4-.4-.92-.59-1.43-.59-.52 0-1.04.2-1.43.59L10.3 9.45l-7.72 7.72c-.78.78-.78 2.05 0 2.83L4 21.41c.39.39.9.59 1.41.59.51 0 1.02-.2 1.41-.59l7.78-7.78 2.81-2.81c.8-.78.8-2.07 0-2.86zM5.41 20L4 18.59l7.72-7.72 1.47 1.35L5.41 20z\"/>\n",
              "  </svg>\n",
              "      </button>\n",
              "      \n",
              "  <style>\n",
              "    .colab-df-container {\n",
              "      display:flex;\n",
              "      flex-wrap:wrap;\n",
              "      gap: 12px;\n",
              "    }\n",
              "\n",
              "    .colab-df-convert {\n",
              "      background-color: #E8F0FE;\n",
              "      border: none;\n",
              "      border-radius: 50%;\n",
              "      cursor: pointer;\n",
              "      display: none;\n",
              "      fill: #1967D2;\n",
              "      height: 32px;\n",
              "      padding: 0 0 0 0;\n",
              "      width: 32px;\n",
              "    }\n",
              "\n",
              "    .colab-df-convert:hover {\n",
              "      background-color: #E2EBFA;\n",
              "      box-shadow: 0px 1px 2px rgba(60, 64, 67, 0.3), 0px 1px 3px 1px rgba(60, 64, 67, 0.15);\n",
              "      fill: #174EA6;\n",
              "    }\n",
              "\n",
              "    [theme=dark] .colab-df-convert {\n",
              "      background-color: #3B4455;\n",
              "      fill: #D2E3FC;\n",
              "    }\n",
              "\n",
              "    [theme=dark] .colab-df-convert:hover {\n",
              "      background-color: #434B5C;\n",
              "      box-shadow: 0px 1px 3px 1px rgba(0, 0, 0, 0.15);\n",
              "      filter: drop-shadow(0px 1px 2px rgba(0, 0, 0, 0.3));\n",
              "      fill: #FFFFFF;\n",
              "    }\n",
              "  </style>\n",
              "\n",
              "      <script>\n",
              "        const buttonEl =\n",
              "          document.querySelector('#df-10031196-52ed-46c2-99e2-22f0ff8b19f0 button.colab-df-convert');\n",
              "        buttonEl.style.display =\n",
              "          google.colab.kernel.accessAllowed ? 'block' : 'none';\n",
              "\n",
              "        async function convertToInteractive(key) {\n",
              "          const element = document.querySelector('#df-10031196-52ed-46c2-99e2-22f0ff8b19f0');\n",
              "          const dataTable =\n",
              "            await google.colab.kernel.invokeFunction('convertToInteractive',\n",
              "                                                     [key], {});\n",
              "          if (!dataTable) return;\n",
              "\n",
              "          const docLinkHtml = 'Like what you see? Visit the ' +\n",
              "            '<a target=\"_blank\" href=https://colab.research.google.com/notebooks/data_table.ipynb>data table notebook</a>'\n",
              "            + ' to learn more about interactive tables.';\n",
              "          element.innerHTML = '';\n",
              "          dataTable['output_type'] = 'display_data';\n",
              "          await google.colab.output.renderOutput(dataTable, element);\n",
              "          const docLink = document.createElement('div');\n",
              "          docLink.innerHTML = docLinkHtml;\n",
              "          element.appendChild(docLink);\n",
              "        }\n",
              "      </script>\n",
              "    </div>\n",
              "  </div>\n",
              "  "
            ]
          },
          "metadata": {},
          "execution_count": 36
        }
      ]
    },
    {
      "cell_type": "code",
      "source": [
        "acoes_df_normalizado.plot()"
      ],
      "metadata": {
        "colab": {
          "base_uri": "https://localhost:8080/",
          "height": 286
        },
        "id": "PDQLmD2lAtbU",
        "outputId": "2b505c0c-8bce-4030-b37f-d660cf882fed"
      },
      "execution_count": null,
      "outputs": [
        {
          "output_type": "execute_result",
          "data": {
            "text/plain": [
              "<matplotlib.axes._subplots.AxesSubplot at 0x7f1aa0878f10>"
            ]
          },
          "metadata": {},
          "execution_count": 39
        },
        {
          "output_type": "display_data",
          "data": {
            "text/plain": [
              "<Figure size 432x288 with 1 Axes>"
            ],
            "image/png": "[encoded data removed]"
          },
          "metadata": {
            "needs_background": "light"
          }
        }
      ]
    }
  ],
  "metadata": {
    "colab": {
      "provenance": [],
      "collapsed_sections": [
        "0K-hHaB6IWOq",
        "Kf1SOLs6NBI4",
        "dTZMuZpuNXPK"
      ],
      "include_colab_link": true
    },
    "kernelspec": {
      "display_name": "Python 3",
      "name": "python3"
    }
  },
  "nbformat": 4,
  "nbformat_minor": 0
}